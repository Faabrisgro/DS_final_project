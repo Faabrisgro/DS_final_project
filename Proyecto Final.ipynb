{
 "cells": [
  {
   "cell_type": "markdown",
   "id": "00754e71-7fdb-45de-86b1-aeb8840cc253",
   "metadata": {},
   "source": [
    "# Primera Entrega - Proyecto Final - Fabrizio Sgro"
   ]
  },
  {
   "attachments": {},
   "cell_type": "markdown",
   "id": "dfc6686f-84ac-4263-8ad2-5ac4b6e42f5f",
   "metadata": {},
   "source": [
    "![portada.png][def]\n",
    "\n",
    "[def]: portada.png"
   ]
  },
  {
   "cell_type": "markdown",
   "id": "2682d617-d8b5-4d3d-b026-0c0909780026",
   "metadata": {},
   "source": [
    "## Bank Marketing Data Set"
   ]
  },
  {
   "cell_type": "markdown",
   "id": "2054a98a-6630-4e2f-8b98-40d20337272b",
   "metadata": {},
   "source": [
    "**Fuente:** [Moro et al., 2014] S. Moro, P. Cortez and P. Rita. A Data-Driven Approach to Predict the Success of Bank Telemarketing. Decision Support Systems, Elsevier, 62:22-31, June 2014\n"
   ]
  },
  {
   "cell_type": "markdown",
   "id": "ce9e62dc-0858-4eac-b06f-225e6513502b",
   "metadata": {},
   "source": [
    "## 1. Variables del dataset\n",
    "### Datos de los clientes del banco:\n",
    "1.  Edad: Entero.\n",
    "2.  Trabajo: Tipo de trabajo (categórico).\n",
    "3.  Estado civil: Casado, divorciado, soltero. (divorciado aplica también para viudo/a). \n",
    "4.  Nivel de educación: Categórico (categórico con diferentes niveles de educación).\n",
    "5.  Default: ¿Tiene credito en default? (categórico \"Yes\" o \"No\").\n",
    "6.  Hipoteca: ¿Tiene hipoteca? (categorico \"No\",\"Yes\",'desconocido').\n",
    "7.  Préstamos personal: ¿Tiene préstamos personal? (categorico \"No\",\"Yes\",\"Desconocido\").\n",
    "### Relacionado con el último conctacto con la campaña activa:\n",
    "8.  Contacto: Tipo de contacto (categorico 'cellular' o 'telephone').\n",
    "9.  Mes: Último mes en el que se contactó al cliente (categórico, enero, feb, mar, etc.) \n",
    "10.  Dia: Último día en el que se contactó al cliente (categórico, lunes, martes, miércoles, jueves, viernes) \n",
    "11.  Duración: Duración del último contacto en segundos (entero). No se tendrá en cuenta para el desarrollo del modelo predicitivo. \n",
    "### Otros atributos o variables:\n",
    "12.  Campaña: Número de contactos realizados durante la campaña para cada cliente (entero e incluye el útimo contacto).\n",
    "13.  Dia_p: Número de días que pasaron después de que el cliente fue contactado entre campaña y campaña (Entero. 999 significa que el cliente no fue previamente contactado).\n",
    "14.  Previo: Número de contactos realizados antes de esta campaña para cada cliente (Entero)\n",
    "15.  Previo_result: Resultado de la campaña de marketing previa (categorico: 'fracaso','no existente','exito')\n",
    "\n",
    "\n",
    "### Variable a predecir:\n",
    "16.  y - ¿El cliente ha realizado un plazo fijo? Binario: Sí o No. "
   ]
  },
  {
   "cell_type": "markdown",
   "id": "13de4194-b33b-4408-a719-b6bd7f0170be",
   "metadata": {},
   "source": [
    "## 2. Abstracto \n",
    "\n",
    "Los datos están relacionados con campañas de marketing directo (llamadas telefónicas) de una institución bancaria portuguesa. El objetivo es predecir si el cliente realizará un plazo fijo en el futuro. \n",
    "\n",
    "Esto se debe a que el banco quiere maximizar el retorno de inversión que realiza en sus campañas de marketing directo. Si logramos identificar y predecir aquellos consumidores con mayor capacidad de realizar un plazo fijo. Le podríamos ahorrar mucho tiempo y dinero al departamento de marketing directo y telemarketing. Ya que sus llamadas estarían mejor segmentadas y tendrían mayor probabilidad de ser exitosas gracias al análisis de datos y el modelo que se necesita implementar.\n",
    "\n",
    "Me motiva mucho el análisis de este dataset ya que me permite manejar variables que entiendo por haber estudiado marketing y por otro lado, este dataset podría permitirme la implementación de dos tipos de modelos, supervisado si lo que queremos es lograr predecir la posibilidad de que un consumidor haga un plazo fijo, el actual objetivo. Y una posible alternativa, la identificación y agrupamiento de sectores de consumidores con mayor y menos probabilidad de realizar un plazo fijo."
   ]
  },
  {
   "cell_type": "markdown",
   "id": "69cc50ee-a262-4e0a-a6ec-bba08e41ebcc",
   "metadata": {},
   "source": [
    "## 3. Hipótesis\n",
    "1. Las personas que no tienen hipotecas ni préstamos personales tienen mayor posibilidad de realizar un plazo fijo.\n",
    "2. Las personas de entre 18-44 tienen menos probabilidad de realizar un plazo fijo que las personas de entre 45-65.\n",
    "3. Las personas con mayor nivel de educación tienen más probabilidad de realizar un plazo fijo. \n",
    "4. La personas casadas tienen más probabilidad de realizar un plazo fijo que las personas solteras."
   ]
  },
  {
   "cell_type": "markdown",
   "id": "c664ed63-2cc3-4e86-b397-3928175905b4",
   "metadata": {},
   "source": [
    "> Importamos librerías indispensables"
   ]
  },
  {
   "cell_type": "code",
   "execution_count": 1,
   "id": "26e5d131-95a1-4e05-92f9-77a498694f9b",
   "metadata": {},
   "outputs": [],
   "source": [
    "import pandas as pd\n",
    "import numpy as np\n",
    "import seaborn as sns\n",
    "import matplotlib.pyplot as plt"
   ]
  },
  {
   "cell_type": "code",
   "execution_count": 2,
   "id": "dc796d0d-7326-4002-a95a-d250c661f70e",
   "metadata": {},
   "outputs": [],
   "source": [
    "df = pd.read_csv('bank-full.csv', sep = ';')"
   ]
  },
  {
   "cell_type": "code",
   "execution_count": 3,
   "id": "8c205370-6840-405c-9bd2-46a00485db1e",
   "metadata": {},
   "outputs": [
    {
     "data": {
      "text/html": [
       "<div>\n",
       "<style scoped>\n",
       "    .dataframe tbody tr th:only-of-type {\n",
       "        vertical-align: middle;\n",
       "    }\n",
       "\n",
       "    .dataframe tbody tr th {\n",
       "        vertical-align: top;\n",
       "    }\n",
       "\n",
       "    .dataframe thead th {\n",
       "        text-align: right;\n",
       "    }\n",
       "</style>\n",
       "<table border=\"1\" class=\"dataframe\">\n",
       "  <thead>\n",
       "    <tr style=\"text-align: right;\">\n",
       "      <th></th>\n",
       "      <th>age</th>\n",
       "      <th>job</th>\n",
       "      <th>marital</th>\n",
       "      <th>education</th>\n",
       "      <th>default</th>\n",
       "      <th>balance</th>\n",
       "      <th>housing</th>\n",
       "      <th>loan</th>\n",
       "      <th>contact</th>\n",
       "      <th>day</th>\n",
       "      <th>month</th>\n",
       "      <th>duration</th>\n",
       "      <th>campaign</th>\n",
       "      <th>pdays</th>\n",
       "      <th>previous</th>\n",
       "      <th>poutcome</th>\n",
       "      <th>y</th>\n",
       "    </tr>\n",
       "  </thead>\n",
       "  <tbody>\n",
       "    <tr>\n",
       "      <th>0</th>\n",
       "      <td>58</td>\n",
       "      <td>management</td>\n",
       "      <td>married</td>\n",
       "      <td>tertiary</td>\n",
       "      <td>no</td>\n",
       "      <td>2143</td>\n",
       "      <td>yes</td>\n",
       "      <td>no</td>\n",
       "      <td>unknown</td>\n",
       "      <td>5</td>\n",
       "      <td>may</td>\n",
       "      <td>261</td>\n",
       "      <td>1</td>\n",
       "      <td>-1</td>\n",
       "      <td>0</td>\n",
       "      <td>unknown</td>\n",
       "      <td>no</td>\n",
       "    </tr>\n",
       "    <tr>\n",
       "      <th>1</th>\n",
       "      <td>44</td>\n",
       "      <td>technician</td>\n",
       "      <td>single</td>\n",
       "      <td>secondary</td>\n",
       "      <td>no</td>\n",
       "      <td>29</td>\n",
       "      <td>yes</td>\n",
       "      <td>no</td>\n",
       "      <td>unknown</td>\n",
       "      <td>5</td>\n",
       "      <td>may</td>\n",
       "      <td>151</td>\n",
       "      <td>1</td>\n",
       "      <td>-1</td>\n",
       "      <td>0</td>\n",
       "      <td>unknown</td>\n",
       "      <td>no</td>\n",
       "    </tr>\n",
       "    <tr>\n",
       "      <th>2</th>\n",
       "      <td>33</td>\n",
       "      <td>entrepreneur</td>\n",
       "      <td>married</td>\n",
       "      <td>secondary</td>\n",
       "      <td>no</td>\n",
       "      <td>2</td>\n",
       "      <td>yes</td>\n",
       "      <td>yes</td>\n",
       "      <td>unknown</td>\n",
       "      <td>5</td>\n",
       "      <td>may</td>\n",
       "      <td>76</td>\n",
       "      <td>1</td>\n",
       "      <td>-1</td>\n",
       "      <td>0</td>\n",
       "      <td>unknown</td>\n",
       "      <td>no</td>\n",
       "    </tr>\n",
       "    <tr>\n",
       "      <th>3</th>\n",
       "      <td>47</td>\n",
       "      <td>blue-collar</td>\n",
       "      <td>married</td>\n",
       "      <td>unknown</td>\n",
       "      <td>no</td>\n",
       "      <td>1506</td>\n",
       "      <td>yes</td>\n",
       "      <td>no</td>\n",
       "      <td>unknown</td>\n",
       "      <td>5</td>\n",
       "      <td>may</td>\n",
       "      <td>92</td>\n",
       "      <td>1</td>\n",
       "      <td>-1</td>\n",
       "      <td>0</td>\n",
       "      <td>unknown</td>\n",
       "      <td>no</td>\n",
       "    </tr>\n",
       "    <tr>\n",
       "      <th>4</th>\n",
       "      <td>33</td>\n",
       "      <td>unknown</td>\n",
       "      <td>single</td>\n",
       "      <td>unknown</td>\n",
       "      <td>no</td>\n",
       "      <td>1</td>\n",
       "      <td>no</td>\n",
       "      <td>no</td>\n",
       "      <td>unknown</td>\n",
       "      <td>5</td>\n",
       "      <td>may</td>\n",
       "      <td>198</td>\n",
       "      <td>1</td>\n",
       "      <td>-1</td>\n",
       "      <td>0</td>\n",
       "      <td>unknown</td>\n",
       "      <td>no</td>\n",
       "    </tr>\n",
       "  </tbody>\n",
       "</table>\n",
       "</div>"
      ],
      "text/plain": [
       "   age           job  marital  education default  balance housing loan  \\\n",
       "0   58    management  married   tertiary      no     2143     yes   no   \n",
       "1   44    technician   single  secondary      no       29     yes   no   \n",
       "2   33  entrepreneur  married  secondary      no        2     yes  yes   \n",
       "3   47   blue-collar  married    unknown      no     1506     yes   no   \n",
       "4   33       unknown   single    unknown      no        1      no   no   \n",
       "\n",
       "   contact  day month  duration  campaign  pdays  previous poutcome   y  \n",
       "0  unknown    5   may       261         1     -1         0  unknown  no  \n",
       "1  unknown    5   may       151         1     -1         0  unknown  no  \n",
       "2  unknown    5   may        76         1     -1         0  unknown  no  \n",
       "3  unknown    5   may        92         1     -1         0  unknown  no  \n",
       "4  unknown    5   may       198         1     -1         0  unknown  no  "
      ]
     },
     "execution_count": 3,
     "metadata": {},
     "output_type": "execute_result"
    }
   ],
   "source": [
    "df.head()"
   ]
  },
  {
   "cell_type": "code",
   "execution_count": 4,
   "id": "e799b866-555b-4d18-b82a-8c221c7be567",
   "metadata": {},
   "outputs": [
    {
     "data": {
      "text/plain": [
       "Index(['age', 'job', 'marital', 'education', 'default', 'balance', 'housing',\n",
       "       'loan', 'contact', 'day', 'month', 'duration', 'campaign', 'pdays',\n",
       "       'previous', 'poutcome', 'y'],\n",
       "      dtype='object')"
      ]
     },
     "execution_count": 4,
     "metadata": {},
     "output_type": "execute_result"
    }
   ],
   "source": [
    "df.columns"
   ]
  },
  {
   "cell_type": "code",
   "execution_count": 5,
   "id": "11fe01e6-9b76-4b51-a4bb-50f8ee8a2d62",
   "metadata": {},
   "outputs": [
    {
     "data": {
      "text/plain": [
       "(45211, 17)"
      ]
     },
     "execution_count": 5,
     "metadata": {},
     "output_type": "execute_result"
    }
   ],
   "source": [
    "df.shape"
   ]
  },
  {
   "cell_type": "code",
   "execution_count": 6,
   "id": "d03f5e04-e8c1-4091-ab26-1d64d48f1ca5",
   "metadata": {},
   "outputs": [
    {
     "name": "stdout",
     "output_type": "stream",
     "text": [
      "<class 'pandas.core.frame.DataFrame'>\n",
      "RangeIndex: 45211 entries, 0 to 45210\n",
      "Data columns (total 17 columns):\n",
      " #   Column     Non-Null Count  Dtype \n",
      "---  ------     --------------  ----- \n",
      " 0   age        45211 non-null  int64 \n",
      " 1   job        45211 non-null  object\n",
      " 2   marital    45211 non-null  object\n",
      " 3   education  45211 non-null  object\n",
      " 4   default    45211 non-null  object\n",
      " 5   balance    45211 non-null  int64 \n",
      " 6   housing    45211 non-null  object\n",
      " 7   loan       45211 non-null  object\n",
      " 8   contact    45211 non-null  object\n",
      " 9   day        45211 non-null  int64 \n",
      " 10  month      45211 non-null  object\n",
      " 11  duration   45211 non-null  int64 \n",
      " 12  campaign   45211 non-null  int64 \n",
      " 13  pdays      45211 non-null  int64 \n",
      " 14  previous   45211 non-null  int64 \n",
      " 15  poutcome   45211 non-null  object\n",
      " 16  y          45211 non-null  object\n",
      "dtypes: int64(7), object(10)\n",
      "memory usage: 5.9+ MB\n"
     ]
    }
   ],
   "source": [
    "df.info()"
   ]
  },
  {
   "cell_type": "code",
   "execution_count": 7,
   "id": "46442c2b-db58-483c-89b7-f6b55229b9f5",
   "metadata": {},
   "outputs": [
    {
     "data": {
      "text/html": [
       "<div>\n",
       "<style scoped>\n",
       "    .dataframe tbody tr th:only-of-type {\n",
       "        vertical-align: middle;\n",
       "    }\n",
       "\n",
       "    .dataframe tbody tr th {\n",
       "        vertical-align: top;\n",
       "    }\n",
       "\n",
       "    .dataframe thead th {\n",
       "        text-align: right;\n",
       "    }\n",
       "</style>\n",
       "<table border=\"1\" class=\"dataframe\">\n",
       "  <thead>\n",
       "    <tr style=\"text-align: right;\">\n",
       "      <th></th>\n",
       "      <th>count</th>\n",
       "      <th>mean</th>\n",
       "      <th>std</th>\n",
       "      <th>min</th>\n",
       "      <th>25%</th>\n",
       "      <th>50%</th>\n",
       "      <th>75%</th>\n",
       "      <th>max</th>\n",
       "    </tr>\n",
       "  </thead>\n",
       "  <tbody>\n",
       "    <tr>\n",
       "      <th>age</th>\n",
       "      <td>45211.0</td>\n",
       "      <td>40.936210</td>\n",
       "      <td>10.618762</td>\n",
       "      <td>18.0</td>\n",
       "      <td>33.0</td>\n",
       "      <td>39.0</td>\n",
       "      <td>48.0</td>\n",
       "      <td>95.0</td>\n",
       "    </tr>\n",
       "    <tr>\n",
       "      <th>balance</th>\n",
       "      <td>45211.0</td>\n",
       "      <td>1362.272058</td>\n",
       "      <td>3044.765829</td>\n",
       "      <td>-8019.0</td>\n",
       "      <td>72.0</td>\n",
       "      <td>448.0</td>\n",
       "      <td>1428.0</td>\n",
       "      <td>102127.0</td>\n",
       "    </tr>\n",
       "    <tr>\n",
       "      <th>day</th>\n",
       "      <td>45211.0</td>\n",
       "      <td>15.806419</td>\n",
       "      <td>8.322476</td>\n",
       "      <td>1.0</td>\n",
       "      <td>8.0</td>\n",
       "      <td>16.0</td>\n",
       "      <td>21.0</td>\n",
       "      <td>31.0</td>\n",
       "    </tr>\n",
       "    <tr>\n",
       "      <th>duration</th>\n",
       "      <td>45211.0</td>\n",
       "      <td>258.163080</td>\n",
       "      <td>257.527812</td>\n",
       "      <td>0.0</td>\n",
       "      <td>103.0</td>\n",
       "      <td>180.0</td>\n",
       "      <td>319.0</td>\n",
       "      <td>4918.0</td>\n",
       "    </tr>\n",
       "    <tr>\n",
       "      <th>campaign</th>\n",
       "      <td>45211.0</td>\n",
       "      <td>2.763841</td>\n",
       "      <td>3.098021</td>\n",
       "      <td>1.0</td>\n",
       "      <td>1.0</td>\n",
       "      <td>2.0</td>\n",
       "      <td>3.0</td>\n",
       "      <td>63.0</td>\n",
       "    </tr>\n",
       "    <tr>\n",
       "      <th>pdays</th>\n",
       "      <td>45211.0</td>\n",
       "      <td>40.197828</td>\n",
       "      <td>100.128746</td>\n",
       "      <td>-1.0</td>\n",
       "      <td>-1.0</td>\n",
       "      <td>-1.0</td>\n",
       "      <td>-1.0</td>\n",
       "      <td>871.0</td>\n",
       "    </tr>\n",
       "    <tr>\n",
       "      <th>previous</th>\n",
       "      <td>45211.0</td>\n",
       "      <td>0.580323</td>\n",
       "      <td>2.303441</td>\n",
       "      <td>0.0</td>\n",
       "      <td>0.0</td>\n",
       "      <td>0.0</td>\n",
       "      <td>0.0</td>\n",
       "      <td>275.0</td>\n",
       "    </tr>\n",
       "  </tbody>\n",
       "</table>\n",
       "</div>"
      ],
      "text/plain": [
       "            count         mean          std     min    25%    50%     75%  \\\n",
       "age       45211.0    40.936210    10.618762    18.0   33.0   39.0    48.0   \n",
       "balance   45211.0  1362.272058  3044.765829 -8019.0   72.0  448.0  1428.0   \n",
       "day       45211.0    15.806419     8.322476     1.0    8.0   16.0    21.0   \n",
       "duration  45211.0   258.163080   257.527812     0.0  103.0  180.0   319.0   \n",
       "campaign  45211.0     2.763841     3.098021     1.0    1.0    2.0     3.0   \n",
       "pdays     45211.0    40.197828   100.128746    -1.0   -1.0   -1.0    -1.0   \n",
       "previous  45211.0     0.580323     2.303441     0.0    0.0    0.0     0.0   \n",
       "\n",
       "               max  \n",
       "age           95.0  \n",
       "balance   102127.0  \n",
       "day           31.0  \n",
       "duration    4918.0  \n",
       "campaign      63.0  \n",
       "pdays        871.0  \n",
       "previous     275.0  "
      ]
     },
     "execution_count": 7,
     "metadata": {},
     "output_type": "execute_result"
    }
   ],
   "source": [
    "df.describe().T"
   ]
  },
  {
   "cell_type": "markdown",
   "id": "57346da3-9af3-4097-8ca0-b960fc24b04b",
   "metadata": {},
   "source": [
    "**Nuestro primer análisis estadísitico nos indica:**\n",
    "- El promedio de clientes tienen una edad de 41 años.\n",
    "- El balance promedio es de 1362 dólares (puede no ser descriptiva, por que la desviación estandar es muy elevada, cómo indica JANIO MARTINEZ BACHMANN en https://www.kaggle.com/code/janiobachmann/bank-marketing-campaign-opening-a-term-deposit).\n",
    "- Se realizaron 63 campañas en total.\n",
    "- El promedio de días que trascurren antes de ser contactados por una nueva campaña, desde la anterior, son 40 días.\n",
    "- El promedio de duración de las llamadas a los clientes está alrededor de los 257 segundos, es decir 4 minutos y 28 segundos. \n"
   ]
  },
  {
   "cell_type": "code",
   "execution_count": 8,
   "id": "18c398de-d9a3-4516-afea-092ccbe65959",
   "metadata": {},
   "outputs": [
    {
     "name": "stdout",
     "output_type": "stream",
     "text": [
      "El promedio de duración de llamadas a los clientes es de 4 minutos y 28 segundos.\n"
     ]
    }
   ],
   "source": [
    "ss_a_min = 257/60\n",
    "print('El promedio de duración de llamadas a los clientes es de', int(round(ss_a_min,0)), 'minutos y 28 segundos.')"
   ]
  },
  {
   "cell_type": "markdown",
   "id": "10de66aa-440f-48b6-8a35-6e34deaa95f3",
   "metadata": {},
   "source": [
    "> Un poco de limpieza de datos / Data Wrangling"
   ]
  },
  {
   "cell_type": "code",
   "execution_count": 9,
   "id": "870bb9d6-d77b-4af6-93a8-a24fffb3adc3",
   "metadata": {},
   "outputs": [
    {
     "data": {
      "text/plain": [
       "age          0\n",
       "job          0\n",
       "marital      0\n",
       "education    0\n",
       "default      0\n",
       "balance      0\n",
       "housing      0\n",
       "loan         0\n",
       "contact      0\n",
       "day          0\n",
       "month        0\n",
       "duration     0\n",
       "campaign     0\n",
       "pdays        0\n",
       "previous     0\n",
       "poutcome     0\n",
       "y            0\n",
       "dtype: int64"
      ]
     },
     "execution_count": 9,
     "metadata": {},
     "output_type": "execute_result"
    }
   ],
   "source": [
    "df.isna().sum() # ¿Hay nans? "
   ]
  },
  {
   "cell_type": "markdown",
   "id": "4dfd5f81-67d5-4a82-81ad-98fe191c8819",
   "metadata": {},
   "source": [
    "> ¡No hay datos faltantes! ¡Vamos! y ¿repetidos?"
   ]
  },
  {
   "cell_type": "code",
   "execution_count": 10,
   "id": "0ce5561f-acde-4706-9d2c-814287df7e3d",
   "metadata": {},
   "outputs": [
    {
     "data": {
      "text/plain": [
       "0"
      ]
     },
     "execution_count": 10,
     "metadata": {},
     "output_type": "execute_result"
    }
   ],
   "source": [
    "df.duplicated().sum()"
   ]
  },
  {
   "cell_type": "markdown",
   "id": "43769f6c-d439-4a73-bfda-c3c2953c27d1",
   "metadata": {},
   "source": [
    "¡Tampoco!"
   ]
  },
  {
   "cell_type": "markdown",
   "id": "6becee08-86f1-4a92-8454-e62dcd476937",
   "metadata": {},
   "source": [
    "> Algunos cambios en las columnas para poder facilitar el análisis exploratorio de datos "
   ]
  },
  {
   "cell_type": "code",
   "execution_count": 11,
   "id": "7ad8c219-4b2e-4cf4-915b-57437a41085b",
   "metadata": {},
   "outputs": [],
   "source": [
    "df['loan'] = df.loan.replace(to_replace=['no', 'yes'], value=[0, 1])"
   ]
  },
  {
   "cell_type": "code",
   "execution_count": 12,
   "id": "9c65c50a-4ee2-4c7e-a790-0ad6c13af224",
   "metadata": {},
   "outputs": [],
   "source": [
    "df['housing'] = df.housing.replace(to_replace=['no', 'yes'], value=[0, 1])"
   ]
  },
  {
   "cell_type": "code",
   "execution_count": 13,
   "id": "4fa9512c-7f8d-4dfa-8273-b6db72e3fdf8",
   "metadata": {},
   "outputs": [],
   "source": [
    "df['y'] = df.y.replace(to_replace=['no','yes'], value=[0,1])"
   ]
  },
  {
   "cell_type": "markdown",
   "id": "eea332b6-6998-4e19-972d-cd26f4d2f21c",
   "metadata": {},
   "source": [
    "### Comencemos a probar o eliminar nuestras hipótesis"
   ]
  },
  {
   "cell_type": "code",
   "execution_count": 14,
   "id": "038fcd52-fcf7-4646-b1fd-52904ad078a1",
   "metadata": {},
   "outputs": [
    {
     "data": {
      "text/plain": [
       "Index(['age', 'job', 'marital', 'education', 'default', 'balance', 'housing',\n",
       "       'loan', 'contact', 'day', 'month', 'duration', 'campaign', 'pdays',\n",
       "       'previous', 'poutcome', 'y'],\n",
       "      dtype='object')"
      ]
     },
     "execution_count": 14,
     "metadata": {},
     "output_type": "execute_result"
    }
   ],
   "source": [
    "df.columns"
   ]
  },
  {
   "cell_type": "code",
   "execution_count": 15,
   "id": "386fceed-3d7f-4328-9902-d7c7b737ed7d",
   "metadata": {},
   "outputs": [
    {
     "data": {
      "text/html": [
       "<div>\n",
       "<style scoped>\n",
       "    .dataframe tbody tr th:only-of-type {\n",
       "        vertical-align: middle;\n",
       "    }\n",
       "\n",
       "    .dataframe tbody tr th {\n",
       "        vertical-align: top;\n",
       "    }\n",
       "\n",
       "    .dataframe thead th {\n",
       "        text-align: right;\n",
       "    }\n",
       "</style>\n",
       "<table border=\"1\" class=\"dataframe\">\n",
       "  <thead>\n",
       "    <tr style=\"text-align: right;\">\n",
       "      <th></th>\n",
       "      <th>age</th>\n",
       "      <th>job</th>\n",
       "      <th>marital</th>\n",
       "      <th>education</th>\n",
       "      <th>default</th>\n",
       "      <th>balance</th>\n",
       "      <th>housing</th>\n",
       "      <th>loan</th>\n",
       "      <th>contact</th>\n",
       "      <th>day</th>\n",
       "      <th>month</th>\n",
       "      <th>duration</th>\n",
       "      <th>campaign</th>\n",
       "      <th>pdays</th>\n",
       "      <th>previous</th>\n",
       "      <th>poutcome</th>\n",
       "      <th>p_fijo</th>\n",
       "    </tr>\n",
       "  </thead>\n",
       "  <tbody>\n",
       "    <tr>\n",
       "      <th>0</th>\n",
       "      <td>58</td>\n",
       "      <td>management</td>\n",
       "      <td>married</td>\n",
       "      <td>tertiary</td>\n",
       "      <td>no</td>\n",
       "      <td>2143</td>\n",
       "      <td>1</td>\n",
       "      <td>0</td>\n",
       "      <td>unknown</td>\n",
       "      <td>5</td>\n",
       "      <td>may</td>\n",
       "      <td>261</td>\n",
       "      <td>1</td>\n",
       "      <td>-1</td>\n",
       "      <td>0</td>\n",
       "      <td>unknown</td>\n",
       "      <td>0</td>\n",
       "    </tr>\n",
       "    <tr>\n",
       "      <th>1</th>\n",
       "      <td>44</td>\n",
       "      <td>technician</td>\n",
       "      <td>single</td>\n",
       "      <td>secondary</td>\n",
       "      <td>no</td>\n",
       "      <td>29</td>\n",
       "      <td>1</td>\n",
       "      <td>0</td>\n",
       "      <td>unknown</td>\n",
       "      <td>5</td>\n",
       "      <td>may</td>\n",
       "      <td>151</td>\n",
       "      <td>1</td>\n",
       "      <td>-1</td>\n",
       "      <td>0</td>\n",
       "      <td>unknown</td>\n",
       "      <td>0</td>\n",
       "    </tr>\n",
       "    <tr>\n",
       "      <th>2</th>\n",
       "      <td>33</td>\n",
       "      <td>entrepreneur</td>\n",
       "      <td>married</td>\n",
       "      <td>secondary</td>\n",
       "      <td>no</td>\n",
       "      <td>2</td>\n",
       "      <td>1</td>\n",
       "      <td>1</td>\n",
       "      <td>unknown</td>\n",
       "      <td>5</td>\n",
       "      <td>may</td>\n",
       "      <td>76</td>\n",
       "      <td>1</td>\n",
       "      <td>-1</td>\n",
       "      <td>0</td>\n",
       "      <td>unknown</td>\n",
       "      <td>0</td>\n",
       "    </tr>\n",
       "    <tr>\n",
       "      <th>3</th>\n",
       "      <td>47</td>\n",
       "      <td>blue-collar</td>\n",
       "      <td>married</td>\n",
       "      <td>unknown</td>\n",
       "      <td>no</td>\n",
       "      <td>1506</td>\n",
       "      <td>1</td>\n",
       "      <td>0</td>\n",
       "      <td>unknown</td>\n",
       "      <td>5</td>\n",
       "      <td>may</td>\n",
       "      <td>92</td>\n",
       "      <td>1</td>\n",
       "      <td>-1</td>\n",
       "      <td>0</td>\n",
       "      <td>unknown</td>\n",
       "      <td>0</td>\n",
       "    </tr>\n",
       "    <tr>\n",
       "      <th>4</th>\n",
       "      <td>33</td>\n",
       "      <td>unknown</td>\n",
       "      <td>single</td>\n",
       "      <td>unknown</td>\n",
       "      <td>no</td>\n",
       "      <td>1</td>\n",
       "      <td>0</td>\n",
       "      <td>0</td>\n",
       "      <td>unknown</td>\n",
       "      <td>5</td>\n",
       "      <td>may</td>\n",
       "      <td>198</td>\n",
       "      <td>1</td>\n",
       "      <td>-1</td>\n",
       "      <td>0</td>\n",
       "      <td>unknown</td>\n",
       "      <td>0</td>\n",
       "    </tr>\n",
       "    <tr>\n",
       "      <th>...</th>\n",
       "      <td>...</td>\n",
       "      <td>...</td>\n",
       "      <td>...</td>\n",
       "      <td>...</td>\n",
       "      <td>...</td>\n",
       "      <td>...</td>\n",
       "      <td>...</td>\n",
       "      <td>...</td>\n",
       "      <td>...</td>\n",
       "      <td>...</td>\n",
       "      <td>...</td>\n",
       "      <td>...</td>\n",
       "      <td>...</td>\n",
       "      <td>...</td>\n",
       "      <td>...</td>\n",
       "      <td>...</td>\n",
       "      <td>...</td>\n",
       "    </tr>\n",
       "    <tr>\n",
       "      <th>45206</th>\n",
       "      <td>51</td>\n",
       "      <td>technician</td>\n",
       "      <td>married</td>\n",
       "      <td>tertiary</td>\n",
       "      <td>no</td>\n",
       "      <td>825</td>\n",
       "      <td>0</td>\n",
       "      <td>0</td>\n",
       "      <td>cellular</td>\n",
       "      <td>17</td>\n",
       "      <td>nov</td>\n",
       "      <td>977</td>\n",
       "      <td>3</td>\n",
       "      <td>-1</td>\n",
       "      <td>0</td>\n",
       "      <td>unknown</td>\n",
       "      <td>1</td>\n",
       "    </tr>\n",
       "    <tr>\n",
       "      <th>45207</th>\n",
       "      <td>71</td>\n",
       "      <td>retired</td>\n",
       "      <td>divorced</td>\n",
       "      <td>primary</td>\n",
       "      <td>no</td>\n",
       "      <td>1729</td>\n",
       "      <td>0</td>\n",
       "      <td>0</td>\n",
       "      <td>cellular</td>\n",
       "      <td>17</td>\n",
       "      <td>nov</td>\n",
       "      <td>456</td>\n",
       "      <td>2</td>\n",
       "      <td>-1</td>\n",
       "      <td>0</td>\n",
       "      <td>unknown</td>\n",
       "      <td>1</td>\n",
       "    </tr>\n",
       "    <tr>\n",
       "      <th>45208</th>\n",
       "      <td>72</td>\n",
       "      <td>retired</td>\n",
       "      <td>married</td>\n",
       "      <td>secondary</td>\n",
       "      <td>no</td>\n",
       "      <td>5715</td>\n",
       "      <td>0</td>\n",
       "      <td>0</td>\n",
       "      <td>cellular</td>\n",
       "      <td>17</td>\n",
       "      <td>nov</td>\n",
       "      <td>1127</td>\n",
       "      <td>5</td>\n",
       "      <td>184</td>\n",
       "      <td>3</td>\n",
       "      <td>success</td>\n",
       "      <td>1</td>\n",
       "    </tr>\n",
       "    <tr>\n",
       "      <th>45209</th>\n",
       "      <td>57</td>\n",
       "      <td>blue-collar</td>\n",
       "      <td>married</td>\n",
       "      <td>secondary</td>\n",
       "      <td>no</td>\n",
       "      <td>668</td>\n",
       "      <td>0</td>\n",
       "      <td>0</td>\n",
       "      <td>telephone</td>\n",
       "      <td>17</td>\n",
       "      <td>nov</td>\n",
       "      <td>508</td>\n",
       "      <td>4</td>\n",
       "      <td>-1</td>\n",
       "      <td>0</td>\n",
       "      <td>unknown</td>\n",
       "      <td>0</td>\n",
       "    </tr>\n",
       "    <tr>\n",
       "      <th>45210</th>\n",
       "      <td>37</td>\n",
       "      <td>entrepreneur</td>\n",
       "      <td>married</td>\n",
       "      <td>secondary</td>\n",
       "      <td>no</td>\n",
       "      <td>2971</td>\n",
       "      <td>0</td>\n",
       "      <td>0</td>\n",
       "      <td>cellular</td>\n",
       "      <td>17</td>\n",
       "      <td>nov</td>\n",
       "      <td>361</td>\n",
       "      <td>2</td>\n",
       "      <td>188</td>\n",
       "      <td>11</td>\n",
       "      <td>other</td>\n",
       "      <td>0</td>\n",
       "    </tr>\n",
       "  </tbody>\n",
       "</table>\n",
       "<p>45211 rows × 17 columns</p>\n",
       "</div>"
      ],
      "text/plain": [
       "       age           job   marital  education default  balance  housing  loan  \\\n",
       "0       58    management   married   tertiary      no     2143        1     0   \n",
       "1       44    technician    single  secondary      no       29        1     0   \n",
       "2       33  entrepreneur   married  secondary      no        2        1     1   \n",
       "3       47   blue-collar   married    unknown      no     1506        1     0   \n",
       "4       33       unknown    single    unknown      no        1        0     0   \n",
       "...    ...           ...       ...        ...     ...      ...      ...   ...   \n",
       "45206   51    technician   married   tertiary      no      825        0     0   \n",
       "45207   71       retired  divorced    primary      no     1729        0     0   \n",
       "45208   72       retired   married  secondary      no     5715        0     0   \n",
       "45209   57   blue-collar   married  secondary      no      668        0     0   \n",
       "45210   37  entrepreneur   married  secondary      no     2971        0     0   \n",
       "\n",
       "         contact  day month  duration  campaign  pdays  previous poutcome  \\\n",
       "0        unknown    5   may       261         1     -1         0  unknown   \n",
       "1        unknown    5   may       151         1     -1         0  unknown   \n",
       "2        unknown    5   may        76         1     -1         0  unknown   \n",
       "3        unknown    5   may        92         1     -1         0  unknown   \n",
       "4        unknown    5   may       198         1     -1         0  unknown   \n",
       "...          ...  ...   ...       ...       ...    ...       ...      ...   \n",
       "45206   cellular   17   nov       977         3     -1         0  unknown   \n",
       "45207   cellular   17   nov       456         2     -1         0  unknown   \n",
       "45208   cellular   17   nov      1127         5    184         3  success   \n",
       "45209  telephone   17   nov       508         4     -1         0  unknown   \n",
       "45210   cellular   17   nov       361         2    188        11    other   \n",
       "\n",
       "       p_fijo  \n",
       "0           0  \n",
       "1           0  \n",
       "2           0  \n",
       "3           0  \n",
       "4           0  \n",
       "...       ...  \n",
       "45206       1  \n",
       "45207       1  \n",
       "45208       1  \n",
       "45209       0  \n",
       "45210       0  \n",
       "\n",
       "[45211 rows x 17 columns]"
      ]
     },
     "execution_count": 15,
     "metadata": {},
     "output_type": "execute_result"
    }
   ],
   "source": [
    "df = df.rename(columns={\"y\": \"p_fijo\"}) #cambio de nombre para en el EDA identificar mejor sí hizo o no un depósito de plazo fijo.\n",
    "df"
   ]
  },
  {
   "cell_type": "markdown",
   "id": "b93020e0-e63c-4785-8bf8-ef22dd47af5c",
   "metadata": {},
   "source": [
    "> Agrupamos y sumamos para ver la cantidad de personas que han hecho depósitos con y sin préstamos / hipotecas"
   ]
  },
  {
   "cell_type": "code",
   "execution_count": 16,
   "id": "0a6a339e-f4a8-452f-980b-aa2fc8e7d693",
   "metadata": {},
   "outputs": [],
   "source": [
    "grouped = df.groupby(['loan', 'p_fijo']).sum(numeric_only = True)\n"
   ]
  },
  {
   "cell_type": "code",
   "execution_count": 17,
   "id": "4799f144-139d-4d8a-9a75-d06d84973522",
   "metadata": {},
   "outputs": [
    {
     "data": {
      "text/html": [
       "<div>\n",
       "<style scoped>\n",
       "    .dataframe tbody tr th:only-of-type {\n",
       "        vertical-align: middle;\n",
       "    }\n",
       "\n",
       "    .dataframe tbody tr th {\n",
       "        vertical-align: top;\n",
       "    }\n",
       "\n",
       "    .dataframe thead th {\n",
       "        text-align: right;\n",
       "    }\n",
       "</style>\n",
       "<table border=\"1\" class=\"dataframe\">\n",
       "  <thead>\n",
       "    <tr style=\"text-align: right;\">\n",
       "      <th></th>\n",
       "      <th></th>\n",
       "      <th>age</th>\n",
       "      <th>balance</th>\n",
       "      <th>housing</th>\n",
       "      <th>day</th>\n",
       "      <th>duration</th>\n",
       "      <th>campaign</th>\n",
       "      <th>pdays</th>\n",
       "      <th>previous</th>\n",
       "    </tr>\n",
       "    <tr>\n",
       "      <th>loan</th>\n",
       "      <th>p_fijo</th>\n",
       "      <th></th>\n",
       "      <th></th>\n",
       "      <th></th>\n",
       "      <th></th>\n",
       "      <th></th>\n",
       "      <th></th>\n",
       "      <th></th>\n",
       "      <th></th>\n",
       "    </tr>\n",
       "  </thead>\n",
       "  <tbody>\n",
       "    <tr>\n",
       "      <th rowspan=\"2\" valign=\"top\">0</th>\n",
       "      <th>0</th>\n",
       "      <td>1355667</td>\n",
       "      <td>46865491</td>\n",
       "      <td>19093</td>\n",
       "      <td>525716</td>\n",
       "      <td>7351419</td>\n",
       "      <td>94200</td>\n",
       "      <td>1227921</td>\n",
       "      <td>16688</td>\n",
       "    </tr>\n",
       "    <tr>\n",
       "      <th>1</th>\n",
       "      <td>201315</td>\n",
       "      <td>9115090</td>\n",
       "      <td>1670</td>\n",
       "      <td>72837</td>\n",
       "      <td>2503268</td>\n",
       "      <td>10222</td>\n",
       "      <td>336053</td>\n",
       "      <td>5767</td>\n",
       "    </tr>\n",
       "    <tr>\n",
       "      <th rowspan=\"2\" valign=\"top\">1</th>\n",
       "      <th>0</th>\n",
       "      <td>274707</td>\n",
       "      <td>5181418</td>\n",
       "      <td>4102</td>\n",
       "      <td>108736</td>\n",
       "      <td>1478641</td>\n",
       "      <td>19432</td>\n",
       "      <td>226093</td>\n",
       "      <td>3359</td>\n",
       "    </tr>\n",
       "    <tr>\n",
       "      <th>1</th>\n",
       "      <td>19078</td>\n",
       "      <td>427683</td>\n",
       "      <td>265</td>\n",
       "      <td>7335</td>\n",
       "      <td>338483</td>\n",
       "      <td>1102</td>\n",
       "      <td>27317</td>\n",
       "      <td>423</td>\n",
       "    </tr>\n",
       "  </tbody>\n",
       "</table>\n",
       "</div>"
      ],
      "text/plain": [
       "                 age   balance  housing     day  duration  campaign    pdays  \\\n",
       "loan p_fijo                                                                    \n",
       "0    0       1355667  46865491    19093  525716   7351419     94200  1227921   \n",
       "     1        201315   9115090     1670   72837   2503268     10222   336053   \n",
       "1    0        274707   5181418     4102  108736   1478641     19432   226093   \n",
       "     1         19078    427683      265    7335    338483      1102    27317   \n",
       "\n",
       "             previous  \n",
       "loan p_fijo            \n",
       "0    0          16688  \n",
       "     1           5767  \n",
       "1    0           3359  \n",
       "     1            423  "
      ]
     },
     "execution_count": 17,
     "metadata": {},
     "output_type": "execute_result"
    }
   ],
   "source": [
    "grouped"
   ]
  },
  {
   "cell_type": "code",
   "execution_count": 18,
   "id": "cbb815b0-66e9-4c32-8869-23dbcbcaa0e1",
   "metadata": {},
   "outputs": [
    {
     "data": {
      "text/plain": [
       "484"
      ]
     },
     "execution_count": 18,
     "metadata": {},
     "output_type": "execute_result"
    }
   ],
   "source": [
    "loandeposit = df[((df['loan'] == 1) & (df['p_fijo']== 1))] # Contamos la cantidad de filas que coinciden con personas que tienen un préstamos e hicieron un depósito en plazo fijo\n",
    "loandeposit.p_fijo.count()"
   ]
  },
  {
   "cell_type": "code",
   "execution_count": 19,
   "id": "85f6d276-3f7e-456e-8f42-68738c75f528",
   "metadata": {},
   "outputs": [
    {
     "data": {
      "text/plain": [
       "4805"
      ]
     },
     "execution_count": 19,
     "metadata": {},
     "output_type": "execute_result"
    }
   ],
   "source": [
    "noloandepositdf = df[((df['loan'] == 0) & (df['p_fijo']== 1))] # Contamos la cantidad de filas de personas que hicieron un depósito de plazo fijo y que no tienen préstamos.\n",
    "noloandepositdf.p_fijo.count()"
   ]
  },
  {
   "cell_type": "code",
   "execution_count": 20,
   "id": "589bcea6-e1db-4b4f-9ca8-b8544e75f05b",
   "metadata": {},
   "outputs": [],
   "source": [
    "listax = ['Con préstamos', 'Sin Préstamos']\n",
    "listay = [484, 4805]"
   ]
  },
  {
   "cell_type": "code",
   "execution_count": 21,
   "id": "942f6de5-24c3-4602-896e-eb8db6c3c14d",
   "metadata": {},
   "outputs": [
    {
     "data": {
      "text/plain": [
       "[Text(0.5, 1.0, 'Cantidad de despositantes con y sin préstamos')]"
      ]
     },
     "execution_count": 21,
     "metadata": {},
     "output_type": "execute_result"
    },
    {
     "data": {
      "image/png": "[encoded data removed]",
      "text/plain": [
       "<Figure size 640x480 with 1 Axes>"
      ]
     },
     "metadata": {},
     "output_type": "display_data"
    }
   ],
   "source": [
    "sns.barplot(x= listax, y= listay).set(title = \"Cantidad de despositantes con y sin préstamos\")"
   ]
  },
  {
   "attachments": {},
   "cell_type": "markdown",
   "id": "715f7c3f",
   "metadata": {},
   "source": [
    "Es mucho mayor el número de depositantes que no tienen préstamo. Esto puede afectar enormemente a la capacidad del algoritmo de preveer sin un cliente del banco es más o menos probable de hacer un depósito."
   ]
  },
  {
   "cell_type": "code",
   "execution_count": 22,
   "id": "a6e305f0-e9eb-4016-b010-9209017d355d",
   "metadata": {},
   "outputs": [],
   "source": [
    "grouped2 = df.groupby(['housing', 'p_fijo']).sum(numeric_only=True)"
   ]
  },
  {
   "cell_type": "code",
   "execution_count": 23,
   "id": "5b996951-3915-441e-98e7-437315b01d03",
   "metadata": {},
   "outputs": [
    {
     "data": {
      "text/html": [
       "<div>\n",
       "<style scoped>\n",
       "    .dataframe tbody tr th:only-of-type {\n",
       "        vertical-align: middle;\n",
       "    }\n",
       "\n",
       "    .dataframe tbody tr th {\n",
       "        vertical-align: top;\n",
       "    }\n",
       "\n",
       "    .dataframe thead th {\n",
       "        text-align: right;\n",
       "    }\n",
       "</style>\n",
       "<table border=\"1\" class=\"dataframe\">\n",
       "  <thead>\n",
       "    <tr style=\"text-align: right;\">\n",
       "      <th></th>\n",
       "      <th></th>\n",
       "      <th>age</th>\n",
       "      <th>balance</th>\n",
       "      <th>loan</th>\n",
       "      <th>day</th>\n",
       "      <th>duration</th>\n",
       "      <th>campaign</th>\n",
       "      <th>pdays</th>\n",
       "      <th>previous</th>\n",
       "    </tr>\n",
       "    <tr>\n",
       "      <th>housing</th>\n",
       "      <th>p_fijo</th>\n",
       "      <th></th>\n",
       "      <th></th>\n",
       "      <th></th>\n",
       "      <th></th>\n",
       "      <th></th>\n",
       "      <th></th>\n",
       "      <th></th>\n",
       "      <th></th>\n",
       "    </tr>\n",
       "  </thead>\n",
       "  <tbody>\n",
       "    <tr>\n",
       "      <th rowspan=\"2\" valign=\"top\">0</th>\n",
       "      <th>0</th>\n",
       "      <td>720850</td>\n",
       "      <td>25337634</td>\n",
       "      <td>2658</td>\n",
       "      <td>271780</td>\n",
       "      <td>3591460</td>\n",
       "      <td>50107</td>\n",
       "      <td>315839</td>\n",
       "      <td>5853</td>\n",
       "    </tr>\n",
       "    <tr>\n",
       "      <th>1</th>\n",
       "      <td>145442</td>\n",
       "      <td>6721708</td>\n",
       "      <td>219</td>\n",
       "      <td>50860</td>\n",
       "      <td>1563351</td>\n",
       "      <td>7036</td>\n",
       "      <td>212062</td>\n",
       "      <td>3882</td>\n",
       "    </tr>\n",
       "    <tr>\n",
       "      <th rowspan=\"2\" valign=\"top\">1</th>\n",
       "      <th>0</th>\n",
       "      <td>909524</td>\n",
       "      <td>26709275</td>\n",
       "      <td>4102</td>\n",
       "      <td>362672</td>\n",
       "      <td>5238600</td>\n",
       "      <td>63525</td>\n",
       "      <td>1138175</td>\n",
       "      <td>14194</td>\n",
       "    </tr>\n",
       "    <tr>\n",
       "      <th>1</th>\n",
       "      <td>74951</td>\n",
       "      <td>2821065</td>\n",
       "      <td>265</td>\n",
       "      <td>29312</td>\n",
       "      <td>1278400</td>\n",
       "      <td>4288</td>\n",
       "      <td>151308</td>\n",
       "      <td>2308</td>\n",
       "    </tr>\n",
       "  </tbody>\n",
       "</table>\n",
       "</div>"
      ],
      "text/plain": [
       "                   age   balance  loan     day  duration  campaign    pdays  \\\n",
       "housing p_fijo                                                                \n",
       "0       0       720850  25337634  2658  271780   3591460     50107   315839   \n",
       "        1       145442   6721708   219   50860   1563351      7036   212062   \n",
       "1       0       909524  26709275  4102  362672   5238600     63525  1138175   \n",
       "        1        74951   2821065   265   29312   1278400      4288   151308   \n",
       "\n",
       "                previous  \n",
       "housing p_fijo            \n",
       "0       0           5853  \n",
       "        1           3882  \n",
       "1       0          14194  \n",
       "        1           2308  "
      ]
     },
     "execution_count": 23,
     "metadata": {},
     "output_type": "execute_result"
    }
   ],
   "source": [
    "grouped2"
   ]
  },
  {
   "cell_type": "code",
   "execution_count": 24,
   "id": "a8ea9306-3eff-49dc-832d-9b64595acc68",
   "metadata": {},
   "outputs": [
    {
     "data": {
      "text/plain": [
       "1935"
      ]
     },
     "execution_count": 24,
     "metadata": {},
     "output_type": "execute_result"
    }
   ],
   "source": [
    "housingdeposit = df[((df['housing'] == 1) & (df['p_fijo']== 1))] # Contamos la cantidad de filas que coinciden con personas que tienen una hipoteca e hicieron un depósito en plazo fijo\n",
    "housingdeposit.p_fijo.count()"
   ]
  },
  {
   "cell_type": "code",
   "execution_count": 25,
   "id": "d56afbbf-6839-4ea3-844c-7ff711aff830",
   "metadata": {},
   "outputs": [
    {
     "data": {
      "text/plain": [
       "3354"
      ]
     },
     "execution_count": 25,
     "metadata": {},
     "output_type": "execute_result"
    }
   ],
   "source": [
    "nohousingdeposit = df[((df['housing'] == 0) & (df['p_fijo']== 1))] # Contamos la cantidad de filas de personas que hicieron un depósito de plazo fijo y que no tienen hipotecas.\n",
    "nohousingdeposit.p_fijo.count()"
   ]
  },
  {
   "cell_type": "code",
   "execution_count": 26,
   "id": "933c0362-91c5-4453-a56f-2edc19587705",
   "metadata": {},
   "outputs": [],
   "source": [
    "listax2 = ['Con hipoteca', 'Sin hipoteca']\n",
    "listay2 = [1935, 3354]"
   ]
  },
  {
   "cell_type": "code",
   "execution_count": 27,
   "id": "d2ec82d6-e8a4-47e0-af12-383800991d8b",
   "metadata": {},
   "outputs": [
    {
     "data": {
      "image/png": "[encoded data removed]",
      "text/plain": [
       "<Figure size 900x600 with 1 Axes>"
      ]
     },
     "metadata": {},
     "output_type": "display_data"
    }
   ],
   "source": [
    "fig, ax = plt.subplots(figsize=(9, 6), subplot_kw=dict(aspect=\"equal\"))\n",
    "palette_color = sns.color_palette('rainbow_r')\n",
    "plt.pie(listay2, labels= listax2, colors=palette_color, autopct='%.0f%%')\n",
    "ax.set_title(\"Cantidad de despositantes con y sin hipoteca\")\n",
    "\n",
    "plt.show()"
   ]
  },
  {
   "attachments": {},
   "cell_type": "markdown",
   "id": "6efb3fe3",
   "metadata": {},
   "source": [
    "Es mayor el procentaje de personas que han hecho un depósito sin hipoteca."
   ]
  },
  {
   "cell_type": "code",
   "execution_count": 28,
   "id": "69e7aff6",
   "metadata": {},
   "outputs": [
    {
     "data": {
      "text/plain": [
       "5289"
      ]
     },
     "execution_count": 28,
     "metadata": {},
     "output_type": "execute_result"
    }
   ],
   "source": [
    "df.p_fijo.sum()"
   ]
  },
  {
   "cell_type": "code",
   "execution_count": 29,
   "id": "eb0f83c4",
   "metadata": {},
   "outputs": [
    {
     "data": {
      "text/html": [
       "<div>\n",
       "<style scoped>\n",
       "    .dataframe tbody tr th:only-of-type {\n",
       "        vertical-align: middle;\n",
       "    }\n",
       "\n",
       "    .dataframe tbody tr th {\n",
       "        vertical-align: top;\n",
       "    }\n",
       "\n",
       "    .dataframe thead th {\n",
       "        text-align: right;\n",
       "    }\n",
       "</style>\n",
       "<table border=\"1\" class=\"dataframe\">\n",
       "  <thead>\n",
       "    <tr style=\"text-align: right;\">\n",
       "      <th></th>\n",
       "      <th>housing</th>\n",
       "      <th>loan</th>\n",
       "      <th>age</th>\n",
       "      <th>balance</th>\n",
       "      <th>day</th>\n",
       "      <th>duration</th>\n",
       "      <th>campaign</th>\n",
       "      <th>pdays</th>\n",
       "      <th>previous</th>\n",
       "      <th>p_fijo</th>\n",
       "      <th>detalle</th>\n",
       "    </tr>\n",
       "  </thead>\n",
       "  <tbody>\n",
       "    <tr>\n",
       "      <th>0</th>\n",
       "      <td>0</td>\n",
       "      <td>0</td>\n",
       "      <td>744257</td>\n",
       "      <td>29893786</td>\n",
       "      <td>276338</td>\n",
       "      <td>4437324</td>\n",
       "      <td>48569</td>\n",
       "      <td>479484</td>\n",
       "      <td>8791</td>\n",
       "      <td>3135</td>\n",
       "      <td>no_debts</td>\n",
       "    </tr>\n",
       "    <tr>\n",
       "      <th>1</th>\n",
       "      <td>0</td>\n",
       "      <td>1</td>\n",
       "      <td>122035</td>\n",
       "      <td>2165556</td>\n",
       "      <td>46302</td>\n",
       "      <td>717487</td>\n",
       "      <td>8574</td>\n",
       "      <td>48417</td>\n",
       "      <td>944</td>\n",
       "      <td>219</td>\n",
       "      <td>only_loan</td>\n",
       "    </tr>\n",
       "    <tr>\n",
       "      <th>2</th>\n",
       "      <td>1</td>\n",
       "      <td>0</td>\n",
       "      <td>812725</td>\n",
       "      <td>26086795</td>\n",
       "      <td>322215</td>\n",
       "      <td>5417363</td>\n",
       "      <td>55853</td>\n",
       "      <td>1084490</td>\n",
       "      <td>13664</td>\n",
       "      <td>1670</td>\n",
       "      <td>only_housing</td>\n",
       "    </tr>\n",
       "    <tr>\n",
       "      <th>3</th>\n",
       "      <td>1</td>\n",
       "      <td>1</td>\n",
       "      <td>171750</td>\n",
       "      <td>3443545</td>\n",
       "      <td>69769</td>\n",
       "      <td>1099637</td>\n",
       "      <td>11960</td>\n",
       "      <td>204993</td>\n",
       "      <td>2838</td>\n",
       "      <td>265</td>\n",
       "      <td>both</td>\n",
       "    </tr>\n",
       "  </tbody>\n",
       "</table>\n",
       "</div>"
      ],
      "text/plain": [
       "   housing  loan     age   balance     day  duration  campaign    pdays  \\\n",
       "0        0     0  744257  29893786  276338   4437324     48569   479484   \n",
       "1        0     1  122035   2165556   46302    717487      8574    48417   \n",
       "2        1     0  812725  26086795  322215   5417363     55853  1084490   \n",
       "3        1     1  171750   3443545   69769   1099637     11960   204993   \n",
       "\n",
       "   previous  p_fijo       detalle  \n",
       "0      8791    3135      no_debts  \n",
       "1       944     219     only_loan  \n",
       "2     13664    1670  only_housing  \n",
       "3      2838     265          both  "
      ]
     },
     "execution_count": 29,
     "metadata": {},
     "output_type": "execute_result"
    }
   ],
   "source": [
    "grouped3 = df.groupby(['housing', 'loan']).sum(numeric_only=True)\n",
    "grouped3.reset_index(inplace=True)\n",
    "grouped3['detalle'] = [1,2,3,4] \n",
    "grouped3['detalle'] = grouped3.detalle.replace(1,'no_debts')\n",
    "grouped3['detalle'] = grouped3.detalle.replace(2, 'only_loan')\n",
    "grouped3['detalle'] = grouped3.detalle.replace(3, 'only_housing')\n",
    "grouped3['detalle'] = grouped3.detalle.replace(4, 'both')\n",
    "grouped3"
   ]
  },
  {
   "cell_type": "code",
   "execution_count": 49,
   "id": "c06d82f5",
   "metadata": {},
   "outputs": [],
   "source": [
    "# definir una función para generar los valores de la nueva columna\n",
    "def get_debt_status(row):\n",
    "    if row['housing'] == 0 and row['loan'] == 0:\n",
    "        return 'no_debts'\n",
    "    elif row['housing'] == 1 and row['loan'] == 0:\n",
    "        return 'only_housing'\n",
    "    elif row['housing'] == 0 and row['loan'] == 1:\n",
    "        return 'only_loan'\n",
    "    elif row['housing'] == 1 and row['loan'] == 1:\n",
    "        return 'both'\n",
    "    else:\n",
    "        return 'unknown'\n",
    "\n",
    "# aplicar la función a cada fila del dataframe y crear la nueva columna\n",
    "df['debt_status'] = df.apply(get_debt_status, axis=1)"
   ]
  },
  {
   "cell_type": "code",
   "execution_count": 66,
   "id": "570f62fa",
   "metadata": {},
   "outputs": [],
   "source": [
    "import plotly_express as px"
   ]
  },
  {
   "cell_type": "code",
   "execution_count": 73,
   "id": "64e75dc2",
   "metadata": {},
   "outputs": [
    {
     "data": {
      "text/plain": [
       "[Text(0.5, 1.0, 'Cantidad de depósitos por tipo de deuda y estado marital')]"
      ]
     },
     "execution_count": 73,
     "metadata": {},
     "output_type": "execute_result"
    },
    {
     "data": {
      "image/png": "[encoded data removed]",
      "text/plain": [
       "<Figure size 640x480 with 1 Axes>"
      ]
     },
     "metadata": {},
     "output_type": "display_data"
    }
   ],
   "source": [
    "ax = sns.barplot(data=df, x='debt_status', y= 'p_fijo', hue= 'marital')\n",
    "ax.set(title='Cantidad de depósitos por tipo de deuda y estado marital')"
   ]
  },
  {
   "attachments": {},
   "cell_type": "markdown",
   "id": "5304eaec",
   "metadata": {},
   "source": [
    "Sin duda las personas csin deudas tienen más posibilidad de hacer un depósito y de ellas las personas solteras. "
   ]
  },
  {
   "cell_type": "code",
   "execution_count": 64,
   "id": "be769403",
   "metadata": {},
   "outputs": [
    {
     "data": {
      "text/plain": [
       "[Text(0.5, 1.0, 'Cantidad de depósitos por tipo de deuda y nivel educativo')]"
      ]
     },
     "execution_count": 64,
     "metadata": {},
     "output_type": "execute_result"
    },
    {
     "data": {
      "image/png": "[encoded data removed]",
      "text/plain": [
       "<Figure size 640x480 with 1 Axes>"
      ]
     },
     "metadata": {},
     "output_type": "display_data"
    }
   ],
   "source": [
    "ax = sns.barplot(data=df, x='debt_status', y= 'p_fijo', hue= 'education')\n",
    "ax.set(title='Cantidad de depósitos por tipo de deuda y nivel educativo')"
   ]
  },
  {
   "cell_type": "code",
   "execution_count": 30,
   "id": "63c977b5",
   "metadata": {},
   "outputs": [
    {
     "data": {
      "text/plain": [
       "[Text(0, 0, 'no_debts'),\n",
       " Text(1, 0, 'only_loan'),\n",
       " Text(2, 0, 'only_housing'),\n",
       " Text(3, 0, 'both')]"
      ]
     },
     "execution_count": 30,
     "metadata": {},
     "output_type": "execute_result"
    },
    {
     "data": {
      "image/png": "[encoded data removed]",
      "text/plain": [
       "<Figure size 500x400 with 1 Axes>"
      ]
     },
     "metadata": {},
     "output_type": "display_data"
    }
   ],
   "source": [
    "fig,ax = plt.subplots(figsize=(5,4))\n",
    "ax= sns.barplot(data=grouped3, x='detalle', y= 'p_fijo')\n",
    "ax.set(title='Cantidad de depósitos por tipo de deuda del cliente')\n",
    "ax.set_xticklabels(ax.get_xticklabels(), rotation=90)"
   ]
  },
  {
   "cell_type": "code",
   "execution_count": 31,
   "id": "3a4f2eee",
   "metadata": {},
   "outputs": [
    {
     "name": "stdout",
     "output_type": "stream",
     "text": [
      "Del total de personas con préstamos 7244, el 6.68% realizó un depósito. \n",
      "Mientras que del total de clientes con hipotecas 25130 un 7.70% realizó un depósito. \n",
      "Por último, del total de clientes endeudados 4367 un 6.07% realizó un depósito.\n"
     ]
    }
   ],
   "source": [
    "total_endeudados_prestamo = (df['loan'] == 1).sum()\n",
    "depositantes_endeudados_prestamo = len(df[(df['loan'] == 1) & (df['p_fijo'] == 1)])\n",
    "porcentaje_depositantes_prestamo = (depositantes_endeudados_prestamo/total_endeudados_prestamo)\n",
    "\n",
    "total_endeudados_hipoteca = (df['housing'] == 1).sum()\n",
    "depositantes_endeudados_hipoteca = len(df[(df['housing'] == 1) & (df['p_fijo'] == 1)])\n",
    "porcentaje_depositantes_hipoteca = (depositantes_endeudados_hipoteca/total_endeudados_hipoteca)\n",
    "\n",
    "\n",
    "total_endeudados_ambos = df[(df['loan'] == 1) & (df['housing'] == 1)].count()[0]\n",
    "depositantes_endeudados_ambos = df[(df['loan'] == 1) & (df['p_fijo'] == 1) & (df['housing'] == 1)].count()[0]\n",
    "porcentaje_endeudados_ambos = (depositantes_endeudados_ambos/total_endeudados_ambos)\n",
    "\n",
    "\n",
    "print('Del total de personas con préstamos {}, el {:.2%} realizó un depósito. \\nMientras que del total de clientes con hipotecas {} un {:.2%} realizó un depósito. \\nPor último, del total de clientes endeudados {} un {:.2%} realizó un depósito.'.format(\n",
    "    total_endeudados_prestamo,porcentaje_depositantes_prestamo,total_endeudados_hipoteca,porcentaje_depositantes_hipoteca,total_endeudados_ambos, porcentaje_endeudados_ambos))"
   ]
  },
  {
   "cell_type": "code",
   "execution_count": 74,
   "id": "616ac989",
   "metadata": {},
   "outputs": [
    {
     "data": {
      "text/html": [
       "<div>\n",
       "<style scoped>\n",
       "    .dataframe tbody tr th:only-of-type {\n",
       "        vertical-align: middle;\n",
       "    }\n",
       "\n",
       "    .dataframe tbody tr th {\n",
       "        vertical-align: top;\n",
       "    }\n",
       "\n",
       "    .dataframe thead th {\n",
       "        text-align: right;\n",
       "    }\n",
       "</style>\n",
       "<table border=\"1\" class=\"dataframe\">\n",
       "  <thead>\n",
       "    <tr style=\"text-align: right;\">\n",
       "      <th></th>\n",
       "      <th>deuda</th>\n",
       "      <th>total</th>\n",
       "      <th>porcentaje</th>\n",
       "    </tr>\n",
       "  </thead>\n",
       "  <tbody>\n",
       "    <tr>\n",
       "      <th>0</th>\n",
       "      <td>préstamo</td>\n",
       "      <td>7244</td>\n",
       "      <td>6.681391</td>\n",
       "    </tr>\n",
       "    <tr>\n",
       "      <th>1</th>\n",
       "      <td>hipoteca</td>\n",
       "      <td>25130</td>\n",
       "      <td>7.699960</td>\n",
       "    </tr>\n",
       "    <tr>\n",
       "      <th>2</th>\n",
       "      <td>ambos</td>\n",
       "      <td>4367</td>\n",
       "      <td>6.068239</td>\n",
       "    </tr>\n",
       "  </tbody>\n",
       "</table>\n",
       "</div>"
      ],
      "text/plain": [
       "      deuda  total  porcentaje\n",
       "0  préstamo   7244    6.681391\n",
       "1  hipoteca  25130    7.699960\n",
       "2     ambos   4367    6.068239"
      ]
     },
     "execution_count": 74,
     "metadata": {},
     "output_type": "execute_result"
    }
   ],
   "source": [
    "porcentajes_deudas = {'deuda': ['préstamo', 'hipoteca', 'ambos'], 'total': [total_endeudados_prestamo,total_endeudados_hipoteca, total_endeudados_ambos], 'porcentaje' : [\n",
    "    porcentaje_depositantes_prestamo*100, porcentaje_depositantes_hipoteca*100,porcentaje_endeudados_ambos*100]}\n",
    "\n",
    "porcentajes_deudas_df = pd.DataFrame(porcentajes_deudas)\n",
    "porcentajes_deudas_df"
   ]
  },
  {
   "cell_type": "code",
   "execution_count": 75,
   "id": "65358d18",
   "metadata": {},
   "outputs": [
    {
     "data": {
      "text/plain": [
       "[Text(0.5, 1.0, 'Porcentaje de depositantes sobre el total de clientes por tipo de deuda')]"
      ]
     },
     "execution_count": 75,
     "metadata": {},
     "output_type": "execute_result"
    },
    {
     "data": {
      "image/png": "[encoded data removed]",
      "text/plain": [
       "<Figure size 640x480 with 1 Axes>"
      ]
     },
     "metadata": {},
     "output_type": "display_data"
    }
   ],
   "source": [
    "sns.barplot(data= porcentajes_deudas_df, x='deuda', y='porcentaje').set(title= 'Porcentaje de depositantes sobre el total de clientes por tipo de deuda')"
   ]
  },
  {
   "attachments": {},
   "cell_type": "markdown",
   "id": "06ac5ce2-4838-42d3-8466-6db6c2ce594f",
   "metadata": {},
   "source": [
    "Luego de nuestro análisis exhaustivo, sin dudas las personas sin hipotecas ni préstamos son más propensas a realizar un depósito. Como también vimos, aumenta la posibilidad si hablamos de una persona soltera y con un nivel terciario en educación."
   ]
  },
  {
   "cell_type": "markdown",
   "id": "cb3a342b-15f5-4693-8bc4-756fb9dacb38",
   "metadata": {},
   "source": [
    "> Avancemos con la 2° Hipótesis"
   ]
  },
  {
   "cell_type": "code",
   "execution_count": 77,
   "id": "f93c08d2-d693-4819-b26f-259dfad40974",
   "metadata": {},
   "outputs": [],
   "source": [
    "edades = df.groupby(df['age']).count()"
   ]
  },
  {
   "cell_type": "code",
   "execution_count": 78,
   "id": "30f3bc34-dbb9-46bf-855e-cea3cb24ebf6",
   "metadata": {},
   "outputs": [],
   "source": [
    "lista_edades = edades.columns.to_list()\n",
    "to_drop= lista_edades[0:15]"
   ]
  },
  {
   "cell_type": "code",
   "execution_count": 79,
   "id": "c3f02553-29ff-40b3-838a-eb31eea71630",
   "metadata": {},
   "outputs": [],
   "source": [
    "edades.drop(columns= to_drop, inplace= True)"
   ]
  },
  {
   "cell_type": "code",
   "execution_count": 80,
   "id": "edaf1ee5-0f3b-4889-a157-a914c563599c",
   "metadata": {},
   "outputs": [],
   "source": [
    "edades[0:27];"
   ]
  },
  {
   "cell_type": "code",
   "execution_count": 81,
   "id": "cbff5c09-1a68-403a-a435-47652df2a863",
   "metadata": {},
   "outputs": [],
   "source": [
    "edades[0:27].p_fijo.sum();"
   ]
  },
  {
   "cell_type": "code",
   "execution_count": 82,
   "id": "15713525-180c-43ec-a2e4-709ef4195fd1",
   "metadata": {},
   "outputs": [],
   "source": [
    "edades[27:48].p_fijo.sum();"
   ]
  },
  {
   "cell_type": "code",
   "execution_count": 83,
   "id": "11114538-71da-40e1-8b35-197a6e6f6e72",
   "metadata": {},
   "outputs": [],
   "source": [
    "edades[27:48];"
   ]
  },
  {
   "cell_type": "code",
   "execution_count": 84,
   "id": "352e05fd-99d4-4e86-8cf9-bbfbb80f02d1",
   "metadata": {},
   "outputs": [],
   "source": [
    "edades[48:-1];"
   ]
  },
  {
   "cell_type": "code",
   "execution_count": 85,
   "id": "b4a6262f-ec4a-4653-b972-43f970a5d86f",
   "metadata": {},
   "outputs": [],
   "source": [
    "edades[48:-1].p_fijo.sum();"
   ]
  },
  {
   "cell_type": "code",
   "execution_count": 86,
   "id": "fc47fbe2-86b5-487d-8034-e37dea2ab353",
   "metadata": {},
   "outputs": [],
   "source": [
    "edadesx= ['18-44', '45-65', '66-94']\n",
    "edadesy= [edades[0:27].p_fijo.sum(), edades[27:48].p_fijo.sum(), edades[48:-1].p_fijo.sum()]"
   ]
  },
  {
   "cell_type": "code",
   "execution_count": 87,
   "id": "db2f2ba9-c90b-42cb-a90e-bbcbec32389b",
   "metadata": {},
   "outputs": [
    {
     "data": {
      "text/plain": [
       "[Text(0.5, 1.0, 'Cantidad de depositantes de plazos fijos por grupo etario')]"
      ]
     },
     "execution_count": 87,
     "metadata": {},
     "output_type": "execute_result"
    },
    {
     "data": {
      "image/png": "[encoded data removed]",
      "text/plain": [
       "<Figure size 640x480 with 1 Axes>"
      ]
     },
     "metadata": {},
     "output_type": "display_data"
    }
   ],
   "source": [
    "sns.barplot(x= edadesx, y= edadesy).set(title= 'Cantidad de depositantes de plazos fijos por grupo etario')"
   ]
  },
  {
   "cell_type": "markdown",
   "id": "d822416e-6ed6-4566-ad13-33ed323d52ca",
   "metadata": {},
   "source": [
    "Al contar el total de depósitos por grupo etario podemos anular nuestra hipótesis de que el grupo etario de entre 18-44 años es menos probable de hacer un depósito. Ya que el gráfico nos está indicando lo contrario."
   ]
  },
  {
   "cell_type": "code",
   "execution_count": 127,
   "id": "b87623ac-6220-49d2-8775-58231ce9b923",
   "metadata": {},
   "outputs": [
    {
     "data": {
      "text/html": [
       "<div>\n",
       "<style scoped>\n",
       "    .dataframe tbody tr th:only-of-type {\n",
       "        vertical-align: middle;\n",
       "    }\n",
       "\n",
       "    .dataframe tbody tr th {\n",
       "        vertical-align: top;\n",
       "    }\n",
       "\n",
       "    .dataframe thead th {\n",
       "        text-align: right;\n",
       "    }\n",
       "</style>\n",
       "<table border=\"1\" class=\"dataframe\">\n",
       "  <thead>\n",
       "    <tr style=\"text-align: right;\">\n",
       "      <th></th>\n",
       "      <th>age</th>\n",
       "      <th>balance</th>\n",
       "      <th>housing</th>\n",
       "      <th>loan</th>\n",
       "      <th>day</th>\n",
       "      <th>duration</th>\n",
       "      <th>campaign</th>\n",
       "      <th>pdays</th>\n",
       "      <th>previous</th>\n",
       "      <th>p_fijo</th>\n",
       "    </tr>\n",
       "    <tr>\n",
       "      <th>education</th>\n",
       "      <th></th>\n",
       "      <th></th>\n",
       "      <th></th>\n",
       "      <th></th>\n",
       "      <th></th>\n",
       "      <th></th>\n",
       "      <th></th>\n",
       "      <th></th>\n",
       "      <th></th>\n",
       "      <th></th>\n",
       "    </tr>\n",
       "  </thead>\n",
       "  <tbody>\n",
       "    <tr>\n",
       "      <th>primary</th>\n",
       "      <td>314225</td>\n",
       "      <td>8570258</td>\n",
       "      <td>3894</td>\n",
       "      <td>1024</td>\n",
       "      <td>105652</td>\n",
       "      <td>1753397</td>\n",
       "      <td>19418</td>\n",
       "      <td>247196</td>\n",
       "      <td>3352</td>\n",
       "      <td>591</td>\n",
       "    </tr>\n",
       "    <tr>\n",
       "      <th>secondary</th>\n",
       "      <td>927251</td>\n",
       "      <td>26795544</td>\n",
       "      <td>14038</td>\n",
       "      <td>4303</td>\n",
       "      <td>365644</td>\n",
       "      <td>6002027</td>\n",
       "      <td>62664</td>\n",
       "      <td>982686</td>\n",
       "      <td>13173</td>\n",
       "      <td>2450</td>\n",
       "    </tr>\n",
       "    <tr>\n",
       "      <th>tertiary</th>\n",
       "      <td>526635</td>\n",
       "      <td>23388697</td>\n",
       "      <td>6378</td>\n",
       "      <td>1784</td>\n",
       "      <td>213967</td>\n",
       "      <td>3438555</td>\n",
       "      <td>37583</td>\n",
       "      <td>519060</td>\n",
       "      <td>8805</td>\n",
       "      <td>1996</td>\n",
       "    </tr>\n",
       "    <tr>\n",
       "      <th>unknown</th>\n",
       "      <td>82656</td>\n",
       "      <td>2835183</td>\n",
       "      <td>820</td>\n",
       "      <td>133</td>\n",
       "      <td>29361</td>\n",
       "      <td>477832</td>\n",
       "      <td>5291</td>\n",
       "      <td>68442</td>\n",
       "      <td>907</td>\n",
       "      <td>252</td>\n",
       "    </tr>\n",
       "  </tbody>\n",
       "</table>\n",
       "</div>"
      ],
      "text/plain": [
       "              age   balance  housing  loan     day  duration  campaign  \\\n",
       "education                                                                \n",
       "primary    314225   8570258     3894  1024  105652   1753397     19418   \n",
       "secondary  927251  26795544    14038  4303  365644   6002027     62664   \n",
       "tertiary   526635  23388697     6378  1784  213967   3438555     37583   \n",
       "unknown     82656   2835183      820   133   29361    477832      5291   \n",
       "\n",
       "            pdays  previous  p_fijo  \n",
       "education                            \n",
       "primary    247196      3352     591  \n",
       "secondary  982686     13173    2450  \n",
       "tertiary   519060      8805    1996  \n",
       "unknown     68442       907     252  "
      ]
     },
     "execution_count": 127,
     "metadata": {},
     "output_type": "execute_result"
    }
   ],
   "source": [
    "education = df.groupby(df['education']).sum(numeric_only=True)\n",
    "education"
   ]
  },
  {
   "cell_type": "code",
   "execution_count": 129,
   "id": "d67bc526-6fbd-4579-9ced-df2601b0f356",
   "metadata": {},
   "outputs": [],
   "source": [
    "education = education.reset_index()"
   ]
  },
  {
   "cell_type": "code",
   "execution_count": 130,
   "id": "5177080f-2496-4094-96aa-c99598cd7b49",
   "metadata": {},
   "outputs": [
    {
     "name": "stdout",
     "output_type": "stream",
     "text": [
      "['primary' 'secondary' 'tertiary' 'unknown'] [ 591 2450 1996  252]\n"
     ]
    }
   ],
   "source": [
    "edx = education.education.unique()\n",
    "edy = education.p_fijo.unique()\n",
    "print(edx, edy)"
   ]
  },
  {
   "cell_type": "code",
   "execution_count": 131,
   "id": "61dd3a5a-7115-45ad-879a-e2592d385cff",
   "metadata": {},
   "outputs": [
    {
     "data": {
      "text/plain": [
       "[Text(0.5, 1.0, 'Cantidad de depositantes por nivel académico')]"
      ]
     },
     "execution_count": 131,
     "metadata": {},
     "output_type": "execute_result"
    },
    {
     "data": {
      "image/png": "[encoded data removed]",
      "text/plain": [
       "<Figure size 600x400 with 1 Axes>"
      ]
     },
     "metadata": {},
     "output_type": "display_data"
    }
   ],
   "source": [
    "fig, ax = plt.subplots(figsize=(6,4))\n",
    "sns.barplot(x=edx, y=edy).set(title = \"Cantidad de depositantes por nivel académico\")"
   ]
  },
  {
   "cell_type": "code",
   "execution_count": 133,
   "id": "ef50bb41",
   "metadata": {},
   "outputs": [
    {
     "name": "stdout",
     "output_type": "stream",
     "text": [
      "Del total de clientes con nivel secundario 23202, solo el 10.56% realizó un depósito. \n",
      "Mientras que del nivel terciario, del total 13301, un 18.42% realizó un depósito\n"
     ]
    }
   ],
   "source": [
    "total_clientes_secundarios = len(df[df['education'] == 'secondary'])\n",
    "secundario_con_deposito = len(df[(df['education'] == 'secondary') & (df['p_fijo'] == 1)])\n",
    "porcentaje_secundario = (secundario_con_deposito/total_clientes_secundarios)\n",
    "\n",
    "total_clientes_terciarios = len(df[df['education'] == 'tertiary'])\n",
    "terciario_con_deposito = len(df[(df['education'] == 'tertiary') & (df['p_fijo'] == 1)])\n",
    "porcentaje_terciario = (secundario_con_deposito/total_clientes_terciarios)\n",
    "\n",
    "print('Del total de clientes con nivel secundario {}, solo el {:.2%} realizó un depósito. \\nMientras que del nivel terciario, del total {}, un {:.2%} realizó un depósito'.format(total_clientes_secundarios, porcentaje_secundario,total_clientes_terciarios, porcentaje_terciario))"
   ]
  },
  {
   "cell_type": "code",
   "execution_count": 134,
   "id": "4b57c5f5",
   "metadata": {},
   "outputs": [
    {
     "data": {
      "text/html": [
       "<div>\n",
       "<style scoped>\n",
       "    .dataframe tbody tr th:only-of-type {\n",
       "        vertical-align: middle;\n",
       "    }\n",
       "\n",
       "    .dataframe tbody tr th {\n",
       "        vertical-align: top;\n",
       "    }\n",
       "\n",
       "    .dataframe thead th {\n",
       "        text-align: right;\n",
       "    }\n",
       "</style>\n",
       "<table border=\"1\" class=\"dataframe\">\n",
       "  <thead>\n",
       "    <tr style=\"text-align: right;\">\n",
       "      <th></th>\n",
       "      <th>nivel educativo</th>\n",
       "      <th>total de clientes</th>\n",
       "      <th>total depositantes</th>\n",
       "      <th>porcentaje</th>\n",
       "    </tr>\n",
       "  </thead>\n",
       "  <tbody>\n",
       "    <tr>\n",
       "      <th>0</th>\n",
       "      <td>secundario</td>\n",
       "      <td>23202</td>\n",
       "      <td>2450</td>\n",
       "      <td>0.105594</td>\n",
       "    </tr>\n",
       "    <tr>\n",
       "      <th>1</th>\n",
       "      <td>terciario</td>\n",
       "      <td>13301</td>\n",
       "      <td>1996</td>\n",
       "      <td>0.184197</td>\n",
       "    </tr>\n",
       "  </tbody>\n",
       "</table>\n",
       "</div>"
      ],
      "text/plain": [
       "  nivel educativo  total de clientes  total depositantes  porcentaje\n",
       "0      secundario              23202                2450    0.105594\n",
       "1       terciario              13301                1996    0.184197"
      ]
     },
     "execution_count": 134,
     "metadata": {},
     "output_type": "execute_result"
    }
   ],
   "source": [
    "porcentajes = {'nivel educativo': ['secundario', 'terciario'],'total de clientes' : [total_clientes_secundarios, total_clientes_terciarios], 'total depositantes' : [secundario_con_deposito, terciario_con_deposito], 'porcentaje' : [porcentaje_secundario, porcentaje_terciario]}\n",
    "porcentaje_df = pd.DataFrame(porcentajes)\n",
    "porcentaje_df"
   ]
  },
  {
   "cell_type": "code",
   "execution_count": 137,
   "id": "52f71670",
   "metadata": {},
   "outputs": [
    {
     "data": {
      "text/plain": [
       "[Text(0.5, 1.0, 'Porcentaje de depositantes sobre el total de clientes por nivel académico')]"
      ]
     },
     "execution_count": 137,
     "metadata": {},
     "output_type": "execute_result"
    },
    {
     "data": {
      "image/png": "[encoded data removed]",
      "text/plain": [
       "<Figure size 640x480 with 1 Axes>"
      ]
     },
     "metadata": {},
     "output_type": "display_data"
    }
   ],
   "source": [
    "sns.barplot(data= porcentaje_df, x='nivel educativo', y='porcentaje', hue= 'total de clientes').set(title= 'Porcentaje de depositantes sobre el total de clientes por nivel académico')"
   ]
  },
  {
   "attachments": {},
   "cell_type": "markdown",
   "id": "5c9980ac-a9cb-4560-aa1c-c95847dc6c3e",
   "metadata": {},
   "source": [
    "Nuestra 3° Hipótesis versa sobre que las personas con un nivel de educación terciario son las que tienen mayor probabilidad de hacer un depósito. Puede ser cierto, ya que a pesar que hay más depositantes en total de nivel secundario, en general es menor el porcentaje de depositantes por el total de clientes. En el nivel terciario tenemos menor cantidad de clientes, por lo tanto menor cantidad de depósitos, sin embargo el porcentaje de depositantes sobre el total es mayor, indicando una mayor probabilidad."
   ]
  },
  {
   "cell_type": "markdown",
   "id": "fec85d01-e839-4951-8af6-d44116677ab5",
   "metadata": {},
   "source": [
    "> Solo por curiosidad quiero medir el nivel de balance que tienen estos grupos ya que puede pasar que hayan menos depositantes pero que depositen más dinero."
   ]
  },
  {
   "cell_type": "code",
   "execution_count": 138,
   "id": "0070914b-bdb0-47d2-a908-0d5fcf6b8574",
   "metadata": {},
   "outputs": [
    {
     "data": {
      "text/html": [
       "<div>\n",
       "<style scoped>\n",
       "    .dataframe tbody tr th:only-of-type {\n",
       "        vertical-align: middle;\n",
       "    }\n",
       "\n",
       "    .dataframe tbody tr th {\n",
       "        vertical-align: top;\n",
       "    }\n",
       "\n",
       "    .dataframe thead th {\n",
       "        text-align: right;\n",
       "    }\n",
       "</style>\n",
       "<table border=\"1\" class=\"dataframe\">\n",
       "  <thead>\n",
       "    <tr style=\"text-align: right;\">\n",
       "      <th></th>\n",
       "      <th>age</th>\n",
       "      <th>balance</th>\n",
       "      <th>housing</th>\n",
       "      <th>loan</th>\n",
       "      <th>day</th>\n",
       "      <th>duration</th>\n",
       "      <th>campaign</th>\n",
       "      <th>pdays</th>\n",
       "      <th>previous</th>\n",
       "      <th>p_fijo</th>\n",
       "    </tr>\n",
       "    <tr>\n",
       "      <th>education</th>\n",
       "      <th></th>\n",
       "      <th></th>\n",
       "      <th></th>\n",
       "      <th></th>\n",
       "      <th></th>\n",
       "      <th></th>\n",
       "      <th></th>\n",
       "      <th></th>\n",
       "      <th></th>\n",
       "      <th></th>\n",
       "    </tr>\n",
       "  </thead>\n",
       "  <tbody>\n",
       "    <tr>\n",
       "      <th>primary</th>\n",
       "      <td>45.865567</td>\n",
       "      <td>1250.949934</td>\n",
       "      <td>0.568384</td>\n",
       "      <td>0.149467</td>\n",
       "      <td>15.421398</td>\n",
       "      <td>255.933002</td>\n",
       "      <td>2.834331</td>\n",
       "      <td>36.081740</td>\n",
       "      <td>0.489272</td>\n",
       "      <td>0.086265</td>\n",
       "    </tr>\n",
       "    <tr>\n",
       "      <th>secondary</th>\n",
       "      <td>39.964270</td>\n",
       "      <td>1154.880786</td>\n",
       "      <td>0.605034</td>\n",
       "      <td>0.185458</td>\n",
       "      <td>15.759159</td>\n",
       "      <td>258.685760</td>\n",
       "      <td>2.700802</td>\n",
       "      <td>42.353504</td>\n",
       "      <td>0.567753</td>\n",
       "      <td>0.105594</td>\n",
       "    </tr>\n",
       "    <tr>\n",
       "      <th>tertiary</th>\n",
       "      <td>39.593640</td>\n",
       "      <td>1758.416435</td>\n",
       "      <td>0.479513</td>\n",
       "      <td>0.134125</td>\n",
       "      <td>16.086535</td>\n",
       "      <td>258.518532</td>\n",
       "      <td>2.825577</td>\n",
       "      <td>39.024134</td>\n",
       "      <td>0.661980</td>\n",
       "      <td>0.150064</td>\n",
       "    </tr>\n",
       "    <tr>\n",
       "      <th>unknown</th>\n",
       "      <td>44.510501</td>\n",
       "      <td>1526.754443</td>\n",
       "      <td>0.441572</td>\n",
       "      <td>0.071621</td>\n",
       "      <td>15.810985</td>\n",
       "      <td>257.313947</td>\n",
       "      <td>2.849219</td>\n",
       "      <td>36.856220</td>\n",
       "      <td>0.488422</td>\n",
       "      <td>0.135703</td>\n",
       "    </tr>\n",
       "  </tbody>\n",
       "</table>\n",
       "</div>"
      ],
      "text/plain": [
       "                 age      balance   housing      loan        day    duration  \\\n",
       "education                                                                      \n",
       "primary    45.865567  1250.949934  0.568384  0.149467  15.421398  255.933002   \n",
       "secondary  39.964270  1154.880786  0.605034  0.185458  15.759159  258.685760   \n",
       "tertiary   39.593640  1758.416435  0.479513  0.134125  16.086535  258.518532   \n",
       "unknown    44.510501  1526.754443  0.441572  0.071621  15.810985  257.313947   \n",
       "\n",
       "           campaign      pdays  previous    p_fijo  \n",
       "education                                           \n",
       "primary    2.834331  36.081740  0.489272  0.086265  \n",
       "secondary  2.700802  42.353504  0.567753  0.105594  \n",
       "tertiary   2.825577  39.024134  0.661980  0.150064  \n",
       "unknown    2.849219  36.856220  0.488422  0.135703  "
      ]
     },
     "execution_count": 138,
     "metadata": {},
     "output_type": "execute_result"
    }
   ],
   "source": [
    "education2 = df.groupby(df['education']).mean(numeric_only=True)\n",
    "education2"
   ]
  },
  {
   "cell_type": "code",
   "execution_count": 139,
   "id": "a526f342-e5dc-49ab-9f1f-c5a03943dde0",
   "metadata": {},
   "outputs": [],
   "source": [
    "education2 = education2.reset_index()"
   ]
  },
  {
   "cell_type": "code",
   "execution_count": 140,
   "id": "d7124b8e-fdce-47f0-a537-91f74ecf34a5",
   "metadata": {},
   "outputs": [],
   "source": [
    "ed2x = education2.education.unique()\n",
    "ed2y = education2.balance.unique()"
   ]
  },
  {
   "cell_type": "code",
   "execution_count": 141,
   "id": "2f2951b3-410d-4f28-a799-fecfc07ba90d",
   "metadata": {},
   "outputs": [
    {
     "data": {
      "text/plain": [
       "[Text(0.5, 1.0, 'Promedio de balance por grupo educativo')]"
      ]
     },
     "execution_count": 141,
     "metadata": {},
     "output_type": "execute_result"
    },
    {
     "data": {
      "image/png": "[encoded data removed]",
      "text/plain": [
       "<Figure size 640x480 with 1 Axes>"
      ]
     },
     "metadata": {},
     "output_type": "display_data"
    }
   ],
   "source": [
    "sns.barplot(x=ed2x, y=ed2y).set(title = \"Promedio de balance por grupo educativo\")"
   ]
  },
  {
   "cell_type": "markdown",
   "id": "d7b6ae3c-a1a0-4bbd-b5fb-1cbb7368f2c8",
   "metadata": {},
   "source": [
    "Bueno, el gráfico es revelador, ya que a pesar de que el grupo con nivel educativo terciario tiene menor cantidad de depositantes, su balance tiende a ser mayor, por lo que también es posible asumir que la cantidad de dinero que de positen también debe ser mayor. "
   ]
  },
  {
   "cell_type": "code",
   "execution_count": 142,
   "id": "899177d5-87dd-4c38-ac0b-dae555a6665f",
   "metadata": {},
   "outputs": [
    {
     "data": {
      "text/html": [
       "<div>\n",
       "<style scoped>\n",
       "    .dataframe tbody tr th:only-of-type {\n",
       "        vertical-align: middle;\n",
       "    }\n",
       "\n",
       "    .dataframe tbody tr th {\n",
       "        vertical-align: top;\n",
       "    }\n",
       "\n",
       "    .dataframe thead th {\n",
       "        text-align: right;\n",
       "    }\n",
       "</style>\n",
       "<table border=\"1\" class=\"dataframe\">\n",
       "  <thead>\n",
       "    <tr style=\"text-align: right;\">\n",
       "      <th></th>\n",
       "      <th>age</th>\n",
       "      <th>balance</th>\n",
       "      <th>housing</th>\n",
       "      <th>loan</th>\n",
       "      <th>day</th>\n",
       "      <th>duration</th>\n",
       "      <th>campaign</th>\n",
       "      <th>pdays</th>\n",
       "      <th>previous</th>\n",
       "      <th>p_fijo</th>\n",
       "    </tr>\n",
       "    <tr>\n",
       "      <th>marital</th>\n",
       "      <th></th>\n",
       "      <th></th>\n",
       "      <th></th>\n",
       "      <th></th>\n",
       "      <th></th>\n",
       "      <th></th>\n",
       "      <th></th>\n",
       "      <th></th>\n",
       "      <th></th>\n",
       "      <th></th>\n",
       "    </tr>\n",
       "  </thead>\n",
       "  <tbody>\n",
       "    <tr>\n",
       "      <th>divorced</th>\n",
       "      <td>238392</td>\n",
       "      <td>6138388</td>\n",
       "      <td>2907</td>\n",
       "      <td>921</td>\n",
       "      <td>82252</td>\n",
       "      <td>1366927</td>\n",
       "      <td>13699</td>\n",
       "      <td>213496</td>\n",
       "      <td>2871</td>\n",
       "      <td>622</td>\n",
       "    </tr>\n",
       "    <tr>\n",
       "      <th>married</th>\n",
       "      <td>1181308</td>\n",
       "      <td>38805139</td>\n",
       "      <td>15321</td>\n",
       "      <td>4660</td>\n",
       "      <td>431464</td>\n",
       "      <td>6896375</td>\n",
       "      <td>77366</td>\n",
       "      <td>1032784</td>\n",
       "      <td>15146</td>\n",
       "      <td>2755</td>\n",
       "    </tr>\n",
       "    <tr>\n",
       "      <th>single</th>\n",
       "      <td>431067</td>\n",
       "      <td>16646155</td>\n",
       "      <td>6902</td>\n",
       "      <td>1663</td>\n",
       "      <td>200908</td>\n",
       "      <td>3408509</td>\n",
       "      <td>33891</td>\n",
       "      <td>571104</td>\n",
       "      <td>8220</td>\n",
       "      <td>1912</td>\n",
       "    </tr>\n",
       "  </tbody>\n",
       "</table>\n",
       "</div>"
      ],
      "text/plain": [
       "              age   balance  housing  loan     day  duration  campaign  \\\n",
       "marital                                                                  \n",
       "divorced   238392   6138388     2907   921   82252   1366927     13699   \n",
       "married   1181308  38805139    15321  4660  431464   6896375     77366   \n",
       "single     431067  16646155     6902  1663  200908   3408509     33891   \n",
       "\n",
       "            pdays  previous  p_fijo  \n",
       "marital                              \n",
       "divorced   213496      2871     622  \n",
       "married   1032784     15146    2755  \n",
       "single     571104      8220    1912  "
      ]
     },
     "execution_count": 142,
     "metadata": {},
     "output_type": "execute_result"
    }
   ],
   "source": [
    "m_state = df.groupby(df['marital']).sum(numeric_only=True)\n",
    "m_state"
   ]
  },
  {
   "cell_type": "code",
   "execution_count": 143,
   "id": "21ca0f51-7ef9-4c89-843c-e63ee7be2bf5",
   "metadata": {},
   "outputs": [
    {
     "data": {
      "text/html": [
       "<div>\n",
       "<style scoped>\n",
       "    .dataframe tbody tr th:only-of-type {\n",
       "        vertical-align: middle;\n",
       "    }\n",
       "\n",
       "    .dataframe tbody tr th {\n",
       "        vertical-align: top;\n",
       "    }\n",
       "\n",
       "    .dataframe thead th {\n",
       "        text-align: right;\n",
       "    }\n",
       "</style>\n",
       "<table border=\"1\" class=\"dataframe\">\n",
       "  <thead>\n",
       "    <tr style=\"text-align: right;\">\n",
       "      <th></th>\n",
       "      <th>marital</th>\n",
       "      <th>age</th>\n",
       "      <th>balance</th>\n",
       "      <th>housing</th>\n",
       "      <th>loan</th>\n",
       "      <th>day</th>\n",
       "      <th>duration</th>\n",
       "      <th>campaign</th>\n",
       "      <th>pdays</th>\n",
       "      <th>previous</th>\n",
       "      <th>p_fijo</th>\n",
       "    </tr>\n",
       "  </thead>\n",
       "  <tbody>\n",
       "    <tr>\n",
       "      <th>0</th>\n",
       "      <td>divorced</td>\n",
       "      <td>238392</td>\n",
       "      <td>6138388</td>\n",
       "      <td>2907</td>\n",
       "      <td>921</td>\n",
       "      <td>82252</td>\n",
       "      <td>1366927</td>\n",
       "      <td>13699</td>\n",
       "      <td>213496</td>\n",
       "      <td>2871</td>\n",
       "      <td>622</td>\n",
       "    </tr>\n",
       "    <tr>\n",
       "      <th>1</th>\n",
       "      <td>married</td>\n",
       "      <td>1181308</td>\n",
       "      <td>38805139</td>\n",
       "      <td>15321</td>\n",
       "      <td>4660</td>\n",
       "      <td>431464</td>\n",
       "      <td>6896375</td>\n",
       "      <td>77366</td>\n",
       "      <td>1032784</td>\n",
       "      <td>15146</td>\n",
       "      <td>2755</td>\n",
       "    </tr>\n",
       "    <tr>\n",
       "      <th>2</th>\n",
       "      <td>single</td>\n",
       "      <td>431067</td>\n",
       "      <td>16646155</td>\n",
       "      <td>6902</td>\n",
       "      <td>1663</td>\n",
       "      <td>200908</td>\n",
       "      <td>3408509</td>\n",
       "      <td>33891</td>\n",
       "      <td>571104</td>\n",
       "      <td>8220</td>\n",
       "      <td>1912</td>\n",
       "    </tr>\n",
       "  </tbody>\n",
       "</table>\n",
       "</div>"
      ],
      "text/plain": [
       "    marital      age   balance  housing  loan     day  duration  campaign  \\\n",
       "0  divorced   238392   6138388     2907   921   82252   1366927     13699   \n",
       "1   married  1181308  38805139    15321  4660  431464   6896375     77366   \n",
       "2    single   431067  16646155     6902  1663  200908   3408509     33891   \n",
       "\n",
       "     pdays  previous  p_fijo  \n",
       "0   213496      2871     622  \n",
       "1  1032784     15146    2755  \n",
       "2   571104      8220    1912  "
      ]
     },
     "execution_count": 143,
     "metadata": {},
     "output_type": "execute_result"
    }
   ],
   "source": [
    "m_state = m_state.reset_index()\n",
    "m_state"
   ]
  },
  {
   "cell_type": "code",
   "execution_count": 144,
   "id": "c636348b-bfb1-467f-b7b3-b3a3ce52557c",
   "metadata": {},
   "outputs": [],
   "source": [
    "msx = m_state.marital.unique()\n",
    "msy = m_state.p_fijo.unique()"
   ]
  },
  {
   "cell_type": "code",
   "execution_count": 145,
   "id": "8083aa18-c010-4d2c-99c9-7d59271994ce",
   "metadata": {},
   "outputs": [
    {
     "data": {
      "text/plain": [
       "[Text(0.5, 1.0, 'Cantidad de depositantes por estado civil')]"
      ]
     },
     "execution_count": 145,
     "metadata": {},
     "output_type": "execute_result"
    },
    {
     "data": {
      "image/png": "[encoded data removed]",
      "text/plain": [
       "<Figure size 640x480 with 1 Axes>"
      ]
     },
     "metadata": {},
     "output_type": "display_data"
    }
   ],
   "source": [
    "sns.barplot(x=msx, y=msy).set(title = \"Cantidad de depositantes por estado civil\")"
   ]
  },
  {
   "cell_type": "code",
   "execution_count": 146,
   "id": "e680d9a9-147d-44a4-aea5-a87911156497",
   "metadata": {},
   "outputs": [
    {
     "data": {
      "text/html": [
       "<div>\n",
       "<style scoped>\n",
       "    .dataframe tbody tr th:only-of-type {\n",
       "        vertical-align: middle;\n",
       "    }\n",
       "\n",
       "    .dataframe tbody tr th {\n",
       "        vertical-align: top;\n",
       "    }\n",
       "\n",
       "    .dataframe thead th {\n",
       "        text-align: right;\n",
       "    }\n",
       "</style>\n",
       "<table border=\"1\" class=\"dataframe\">\n",
       "  <thead>\n",
       "    <tr style=\"text-align: right;\">\n",
       "      <th></th>\n",
       "      <th>age</th>\n",
       "      <th>balance</th>\n",
       "      <th>housing</th>\n",
       "      <th>loan</th>\n",
       "      <th>day</th>\n",
       "      <th>duration</th>\n",
       "      <th>campaign</th>\n",
       "      <th>pdays</th>\n",
       "      <th>previous</th>\n",
       "      <th>p_fijo</th>\n",
       "    </tr>\n",
       "    <tr>\n",
       "      <th>marital</th>\n",
       "      <th></th>\n",
       "      <th></th>\n",
       "      <th></th>\n",
       "      <th></th>\n",
       "      <th></th>\n",
       "      <th></th>\n",
       "      <th></th>\n",
       "      <th></th>\n",
       "      <th></th>\n",
       "      <th></th>\n",
       "    </tr>\n",
       "  </thead>\n",
       "  <tbody>\n",
       "    <tr>\n",
       "      <th>divorced</th>\n",
       "      <td>45.782984</td>\n",
       "      <td>1178.872287</td>\n",
       "      <td>0.558287</td>\n",
       "      <td>0.176877</td>\n",
       "      <td>15.796428</td>\n",
       "      <td>262.517188</td>\n",
       "      <td>2.630882</td>\n",
       "      <td>41.001728</td>\n",
       "      <td>0.551373</td>\n",
       "      <td>0.119455</td>\n",
       "    </tr>\n",
       "    <tr>\n",
       "      <th>married</th>\n",
       "      <td>43.408099</td>\n",
       "      <td>1425.925590</td>\n",
       "      <td>0.562982</td>\n",
       "      <td>0.171235</td>\n",
       "      <td>15.854487</td>\n",
       "      <td>253.412765</td>\n",
       "      <td>2.842875</td>\n",
       "      <td>37.950467</td>\n",
       "      <td>0.556552</td>\n",
       "      <td>0.101235</td>\n",
       "    </tr>\n",
       "    <tr>\n",
       "      <th>single</th>\n",
       "      <td>33.703440</td>\n",
       "      <td>1301.497654</td>\n",
       "      <td>0.539640</td>\n",
       "      <td>0.130023</td>\n",
       "      <td>15.708210</td>\n",
       "      <td>266.497967</td>\n",
       "      <td>2.649805</td>\n",
       "      <td>44.652385</td>\n",
       "      <td>0.642690</td>\n",
       "      <td>0.149492</td>\n",
       "    </tr>\n",
       "  </tbody>\n",
       "</table>\n",
       "</div>"
      ],
      "text/plain": [
       "                age      balance   housing      loan        day    duration  \\\n",
       "marital                                                                       \n",
       "divorced  45.782984  1178.872287  0.558287  0.176877  15.796428  262.517188   \n",
       "married   43.408099  1425.925590  0.562982  0.171235  15.854487  253.412765   \n",
       "single    33.703440  1301.497654  0.539640  0.130023  15.708210  266.497967   \n",
       "\n",
       "          campaign      pdays  previous    p_fijo  \n",
       "marital                                            \n",
       "divorced  2.630882  41.001728  0.551373  0.119455  \n",
       "married   2.842875  37.950467  0.556552  0.101235  \n",
       "single    2.649805  44.652385  0.642690  0.149492  "
      ]
     },
     "execution_count": 146,
     "metadata": {},
     "output_type": "execute_result"
    }
   ],
   "source": [
    "m_state2 = df.groupby(df['marital']).mean(numeric_only=True)\n",
    "m_state2"
   ]
  },
  {
   "cell_type": "code",
   "execution_count": 147,
   "id": "c50b6101-0222-42bf-8532-ab5f0a60bb48",
   "metadata": {},
   "outputs": [
    {
     "data": {
      "text/html": [
       "<div>\n",
       "<style scoped>\n",
       "    .dataframe tbody tr th:only-of-type {\n",
       "        vertical-align: middle;\n",
       "    }\n",
       "\n",
       "    .dataframe tbody tr th {\n",
       "        vertical-align: top;\n",
       "    }\n",
       "\n",
       "    .dataframe thead th {\n",
       "        text-align: right;\n",
       "    }\n",
       "</style>\n",
       "<table border=\"1\" class=\"dataframe\">\n",
       "  <thead>\n",
       "    <tr style=\"text-align: right;\">\n",
       "      <th></th>\n",
       "      <th>marital</th>\n",
       "      <th>age</th>\n",
       "      <th>balance</th>\n",
       "      <th>housing</th>\n",
       "      <th>loan</th>\n",
       "      <th>day</th>\n",
       "      <th>duration</th>\n",
       "      <th>campaign</th>\n",
       "      <th>pdays</th>\n",
       "      <th>previous</th>\n",
       "      <th>p_fijo</th>\n",
       "    </tr>\n",
       "  </thead>\n",
       "  <tbody>\n",
       "    <tr>\n",
       "      <th>0</th>\n",
       "      <td>divorced</td>\n",
       "      <td>45.782984</td>\n",
       "      <td>1178.872287</td>\n",
       "      <td>0.558287</td>\n",
       "      <td>0.176877</td>\n",
       "      <td>15.796428</td>\n",
       "      <td>262.517188</td>\n",
       "      <td>2.630882</td>\n",
       "      <td>41.001728</td>\n",
       "      <td>0.551373</td>\n",
       "      <td>0.119455</td>\n",
       "    </tr>\n",
       "    <tr>\n",
       "      <th>1</th>\n",
       "      <td>married</td>\n",
       "      <td>43.408099</td>\n",
       "      <td>1425.925590</td>\n",
       "      <td>0.562982</td>\n",
       "      <td>0.171235</td>\n",
       "      <td>15.854487</td>\n",
       "      <td>253.412765</td>\n",
       "      <td>2.842875</td>\n",
       "      <td>37.950467</td>\n",
       "      <td>0.556552</td>\n",
       "      <td>0.101235</td>\n",
       "    </tr>\n",
       "    <tr>\n",
       "      <th>2</th>\n",
       "      <td>single</td>\n",
       "      <td>33.703440</td>\n",
       "      <td>1301.497654</td>\n",
       "      <td>0.539640</td>\n",
       "      <td>0.130023</td>\n",
       "      <td>15.708210</td>\n",
       "      <td>266.497967</td>\n",
       "      <td>2.649805</td>\n",
       "      <td>44.652385</td>\n",
       "      <td>0.642690</td>\n",
       "      <td>0.149492</td>\n",
       "    </tr>\n",
       "  </tbody>\n",
       "</table>\n",
       "</div>"
      ],
      "text/plain": [
       "    marital        age      balance   housing      loan        day  \\\n",
       "0  divorced  45.782984  1178.872287  0.558287  0.176877  15.796428   \n",
       "1   married  43.408099  1425.925590  0.562982  0.171235  15.854487   \n",
       "2    single  33.703440  1301.497654  0.539640  0.130023  15.708210   \n",
       "\n",
       "     duration  campaign      pdays  previous    p_fijo  \n",
       "0  262.517188  2.630882  41.001728  0.551373  0.119455  \n",
       "1  253.412765  2.842875  37.950467  0.556552  0.101235  \n",
       "2  266.497967  2.649805  44.652385  0.642690  0.149492  "
      ]
     },
     "execution_count": 147,
     "metadata": {},
     "output_type": "execute_result"
    }
   ],
   "source": [
    "m_state2 = m_state2.reset_index()\n",
    "m_state2"
   ]
  },
  {
   "cell_type": "code",
   "execution_count": 148,
   "id": "83fea687-30b0-4ba1-89f0-d1615d9b87ef",
   "metadata": {},
   "outputs": [],
   "source": [
    "ms2x = m_state2.marital.unique()\n",
    "ms2y = m_state2.balance.unique()"
   ]
  },
  {
   "cell_type": "code",
   "execution_count": 149,
   "id": "3f8ea901-f603-4012-8f06-bd3fd79dc42b",
   "metadata": {},
   "outputs": [
    {
     "data": {
      "text/plain": [
       "[Text(0.5, 1.0, 'Promedio de balance por estado civil')]"
      ]
     },
     "execution_count": 149,
     "metadata": {},
     "output_type": "execute_result"
    },
    {
     "data": {
      "image/png": "[encoded data removed]",
      "text/plain": [
       "<Figure size 640x480 with 1 Axes>"
      ]
     },
     "metadata": {},
     "output_type": "display_data"
    }
   ],
   "source": [
    "sns.barplot(x=ms2x, y=ms2y).set(title = \"Promedio de balance por estado civil\")"
   ]
  },
  {
   "cell_type": "code",
   "execution_count": 150,
   "id": "291105e0",
   "metadata": {},
   "outputs": [
    {
     "name": "stdout",
     "output_type": "stream",
     "text": [
      "Del total de divorciados 5207, solo el 11.95% realizó un depósito. \n",
      "Mientras que de los casados 27214, un 10.12% realizó un depósito \n",
      "Por último del total de solteros, 12790 un 14.95% realizó un depósito\n"
     ]
    }
   ],
   "source": [
    "total_divorciados = len(df[df['marital'] == 'divorced'])\n",
    "divorciados_depositantes = len(df[(df['marital'] == 'divorced') & (df['p_fijo'] == 1)])\n",
    "porcentaje_divorciados = (divorciados_depositantes/total_divorciados)\n",
    "\n",
    "total_casados = len(df[df['marital'] == 'married'])\n",
    "casados_depositantes = len(df[(df['marital'] == 'married') & (df['p_fijo'] == 1)])\n",
    "porcentaje_casados = (casados_depositantes/total_casados)\n",
    "\n",
    "total_solteros= len(df[df['marital'] == 'single'])\n",
    "solteros_depositantes = len(df[(df['marital'] == 'single') & (df['p_fijo'] == 1)])\n",
    "porcentaje_solteros = (solteros_depositantes/total_solteros)\n",
    "\n",
    "\n",
    "print('Del total de divorciados {}, solo el {:.2%} realizó un depósito. \\nMientras que de los casados {}, un {:.2%} realizó un depósito \\nPor último del total de solteros, {} un {:.2%} realizó un depósito'.format(total_divorciados,porcentaje_divorciados,total_casados,porcentaje_casados,total_solteros,porcentaje_solteros))"
   ]
  },
  {
   "cell_type": "code",
   "execution_count": 151,
   "id": "e68f9e33",
   "metadata": {},
   "outputs": [
    {
     "data": {
      "text/html": [
       "<div>\n",
       "<style scoped>\n",
       "    .dataframe tbody tr th:only-of-type {\n",
       "        vertical-align: middle;\n",
       "    }\n",
       "\n",
       "    .dataframe tbody tr th {\n",
       "        vertical-align: top;\n",
       "    }\n",
       "\n",
       "    .dataframe thead th {\n",
       "        text-align: right;\n",
       "    }\n",
       "</style>\n",
       "<table border=\"1\" class=\"dataframe\">\n",
       "  <thead>\n",
       "    <tr style=\"text-align: right;\">\n",
       "      <th></th>\n",
       "      <th>estado civil</th>\n",
       "      <th>total de clientes</th>\n",
       "      <th>total depositantes</th>\n",
       "      <th>porcentaje</th>\n",
       "    </tr>\n",
       "  </thead>\n",
       "  <tbody>\n",
       "    <tr>\n",
       "      <th>0</th>\n",
       "      <td>divorciado</td>\n",
       "      <td>5207</td>\n",
       "      <td>622</td>\n",
       "      <td>0.119455</td>\n",
       "    </tr>\n",
       "    <tr>\n",
       "      <th>1</th>\n",
       "      <td>casado</td>\n",
       "      <td>27214</td>\n",
       "      <td>2755</td>\n",
       "      <td>0.101235</td>\n",
       "    </tr>\n",
       "    <tr>\n",
       "      <th>2</th>\n",
       "      <td>soltero</td>\n",
       "      <td>12790</td>\n",
       "      <td>1912</td>\n",
       "      <td>0.149492</td>\n",
       "    </tr>\n",
       "  </tbody>\n",
       "</table>\n",
       "</div>"
      ],
      "text/plain": [
       "  estado civil  total de clientes  total depositantes  porcentaje\n",
       "0   divorciado               5207                 622    0.119455\n",
       "1       casado              27214                2755    0.101235\n",
       "2      soltero              12790                1912    0.149492"
      ]
     },
     "execution_count": 151,
     "metadata": {},
     "output_type": "execute_result"
    }
   ],
   "source": [
    "porcentajes = {'estado civil': ['divorciado', 'casado', 'soltero'],'total de clientes' : [ total_divorciados, total_casados, total_solteros], 'total depositantes' : [divorciados_depositantes,casados_depositantes,solteros_depositantes ], 'porcentaje' : [porcentaje_divorciados, porcentaje_casados, porcentaje_solteros ]}\n",
    "porcentaje_marital_df = pd.DataFrame(porcentajes)\n",
    "porcentaje_marital_df"
   ]
  },
  {
   "cell_type": "code",
   "execution_count": 166,
   "id": "7c1ec553",
   "metadata": {},
   "outputs": [
    {
     "data": {
      "image/png": "[encoded data removed]",
      "text/plain": [
       "<Figure size 640x480 with 1 Axes>"
      ]
     },
     "metadata": {},
     "output_type": "display_data"
    }
   ],
   "source": [
    "import seaborn as sns\n",
    "import matplotlib.pyplot as plt\n",
    "\n",
    "# crear el gráfico de barras\n",
    "ax = sns.barplot(data=porcentaje_marital_df, x='estado civil', y='porcentaje')\n",
    "\n",
    "# agregar las etiquetas de valores en cada barra\n",
    "for i in range(len(porcentaje_marital_df)):\n",
    "    ax.text(x=i, y=porcentaje_marital_df.iloc[i]['porcentaje']/2, \n",
    "            s=\"{:.2f}%\".format(porcentaje_marital_df.iloc[i]['porcentaje']), \n",
    "            ha='center', fontsize=10, color='white')\n",
    "\n",
    "# establecer el título del gráfico\n",
    "ax.set(title='Porcentaje de depositantes sobre el total de clientes por estado marital')\n",
    "\n",
    "# mostrar el gráfico\n",
    "plt.show()\n"
   ]
  },
  {
   "attachments": {},
   "cell_type": "markdown",
   "id": "00fa0be6-2894-412c-9f65-5e15deeb6c6e",
   "metadata": {},
   "source": [
    "Para nuestra 4° Hipotesis, que dice que las personas casadas tienen más posibilidad de hacer un depósito, podemos ver que son las personas que mayor cantidad depósitos han hecho. También es mayor la cantidad de clientes del banco que su estado civil es casado. Se encontró que dentro del grupo de clientes solteros, el porcentaje de depósitos es mayor que al resto del grupo. Por lo que a pesar de que la mayoría de clientes casados han hecho un depósito, demuestra que a pesar de ser una minoría, este grupo tiene un poco más de posibilidad de hacer un depósito. En cuanto a la probabilidad como tal, mantengo que la hipótesis es correcta, ya que la mayorái de depositantes es casado y además la diferencia porcentual no es lo suficiente para descartar la hipótesis. "
   ]
  },
  {
   "cell_type": "markdown",
   "id": "c3736932-bd72-40db-ab1f-9ecf9ecb5ce1",
   "metadata": {},
   "source": [
    "#### Análisis de probabilidad condicional "
   ]
  },
  {
   "cell_type": "markdown",
   "id": "48f4be22-97d3-45d3-872e-60a46cfddd86",
   "metadata": {},
   "source": [
    "P(A|B)=P(A ∩ B)/P(B)"
   ]
  },
  {
   "cell_type": "code",
   "execution_count": 167,
   "id": "91d90bec-c6bb-4db6-8952-f785845fe08f",
   "metadata": {},
   "outputs": [
    {
     "data": {
      "text/plain": [
       "5289"
      ]
     },
     "execution_count": 167,
     "metadata": {},
     "output_type": "execute_result"
    }
   ],
   "source": [
    "df.p_fijo.sum()"
   ]
  },
  {
   "cell_type": "code",
   "execution_count": 168,
   "id": "e643662b-3696-4927-920e-fcec93d0f0b1",
   "metadata": {},
   "outputs": [],
   "source": [
    "percent = (5289*100 ) / 45211 "
   ]
  },
  {
   "cell_type": "code",
   "execution_count": 169,
   "id": "e0c5291a-3dbb-4001-a6a5-ae6d47de9259",
   "metadata": {},
   "outputs": [
    {
     "data": {
      "text/plain": [
       "88.30151954170445"
      ]
     },
     "execution_count": 169,
     "metadata": {},
     "output_type": "execute_result"
    }
   ],
   "source": [
    "100 - percent"
   ]
  },
  {
   "cell_type": "markdown",
   "id": "3a46da44-cf77-4435-b8f0-4e7a6073a0ac",
   "metadata": {},
   "source": [
    "45.211 personas, de las cuales solo 5.289 han hecho un depósito. Lo que quiere decir, es que solo un 11,7% de los usuarios, han hecho un depósito. El otro 88,3% de los usuarios, no ha hecho un depósito."
   ]
  },
  {
   "cell_type": "code",
   "execution_count": 171,
   "id": "44fbbc54-7c34-495c-bcd9-3f049e875b83",
   "metadata": {},
   "outputs": [
    {
     "data": {
      "text/plain": [
       "265"
      ]
     },
     "execution_count": 171,
     "metadata": {},
     "output_type": "execute_result"
    }
   ],
   "source": [
    "endeudados = df[((df['housing'] == 1) & (df['loan']== 1) & (df['p_fijo'] == 1))] \n",
    "endeudados.count()[0]"
   ]
  },
  {
   "cell_type": "code",
   "execution_count": 172,
   "id": "7e7151e1-8bf1-4c9d-a24e-aba625604a6e",
   "metadata": {},
   "outputs": [
    {
     "data": {
      "text/plain": [
       "5024"
      ]
     },
     "execution_count": 172,
     "metadata": {},
     "output_type": "execute_result"
    }
   ],
   "source": [
    "5289-265"
   ]
  },
  {
   "cell_type": "markdown",
   "id": "5b8e47e0-6250-4f3e-be8b-51854245fb4f",
   "metadata": {},
   "source": [
    "De las 5.289 personas, solo 265, han hecho un depósito teniendo un préstamo y una hipoteca. Por lo que es mucho más probable que una persona haga un depósito sin préstamos ni hipotecas (5.024)"
   ]
  },
  {
   "cell_type": "markdown",
   "id": "254b2629-78cf-4131-bec8-9debe6d70a80",
   "metadata": {},
   "source": [
    "> ¿Y entre la hipoteca y el préstamo, cual de las dos repercute más en la posibilidad de hacer un depósito?"
   ]
  },
  {
   "cell_type": "code",
   "execution_count": 175,
   "id": "4a94b778-b9b1-4c74-accb-7f23c7e8ebd9",
   "metadata": {},
   "outputs": [
    {
     "data": {
      "text/plain": [
       "1670"
      ]
     },
     "execution_count": 175,
     "metadata": {},
     "output_type": "execute_result"
    }
   ],
   "source": [
    "hipotecados = df[((df['housing'] == 1) & (df['loan']== 0) & (df['p_fijo'] == 1))]\n",
    "hipotecados.count()[0]"
   ]
  },
  {
   "cell_type": "code",
   "execution_count": 176,
   "id": "d7b30e38-0bd8-4333-a095-3d48ae93e11d",
   "metadata": {},
   "outputs": [
    {
     "data": {
      "text/plain": [
       "31.57496691245982"
      ]
     },
     "execution_count": 176,
     "metadata": {},
     "output_type": "execute_result"
    }
   ],
   "source": [
    "(1670*100)/5289"
   ]
  },
  {
   "cell_type": "code",
   "execution_count": 178,
   "id": "9bfd4636-4859-4b37-b930-a535116f560c",
   "metadata": {},
   "outputs": [
    {
     "data": {
      "text/plain": [
       "219"
      ]
     },
     "execution_count": 178,
     "metadata": {},
     "output_type": "execute_result"
    }
   ],
   "source": [
    "con_prestamo = df[((df['housing'] == 0) & (df['loan']== 1) & (df['p_fijo'] == 1))]\n",
    "con_prestamo.count()[0]"
   ]
  },
  {
   "cell_type": "markdown",
   "id": "e8415edc-3da4-454f-9cd7-86d99edb0a66",
   "metadata": {},
   "source": [
    "Por los resultados arrojados, es más posible que una persona con una hipoteca haga un depósito que una persona con un préstamo. De hecho, del total de depósitos, un 31,57% corresponde a personas con hipotecas (pero sin préstamos). "
   ]
  },
  {
   "cell_type": "code",
   "execution_count": 179,
   "id": "0b7371cb-e257-4713-bff6-43dea7c5ab43",
   "metadata": {},
   "outputs": [
    {
     "data": {
      "text/plain": [
       "3135"
      ]
     },
     "execution_count": 179,
     "metadata": {},
     "output_type": "execute_result"
    }
   ],
   "source": [
    "mayor_prob = df[((df['housing'] == 0) & (df['loan']== 0) & (df['p_fijo'] == 1))]\n",
    "mayor_prob.count()[0]"
   ]
  },
  {
   "cell_type": "code",
   "execution_count": 189,
   "id": "a6e35138",
   "metadata": {},
   "outputs": [],
   "source": [
    "resul= (3135)/5289"
   ]
  },
  {
   "cell_type": "code",
   "execution_count": 194,
   "id": "5df6bec3-cad8-4f49-843f-0993f3e1f244",
   "metadata": {},
   "outputs": [
    {
     "name": "stdout",
     "output_type": "stream",
     "text": [
      "El 59.27% de depositos es sin préstamo ni hipoteca\n"
     ]
    }
   ],
   "source": [
    "print('El {:.2%} de depositos es sin préstamo ni hipoteca'.format(resul))"
   ]
  },
  {
   "cell_type": "code",
   "execution_count": 195,
   "id": "4c302513-b489-4a95-afc1-033c6c6bf077",
   "metadata": {},
   "outputs": [
    {
     "data": {
      "text/plain": [
       "0.11698480458295547"
      ]
     },
     "execution_count": 195,
     "metadata": {},
     "output_type": "execute_result"
    }
   ],
   "source": [
    "PA = 5289/45211\n",
    "PA"
   ]
  },
  {
   "cell_type": "code",
   "execution_count": 196,
   "id": "7abb70eb-c119-4b83-857a-20b90ba3acca",
   "metadata": {},
   "outputs": [
    {
     "data": {
      "text/plain": [
       "0.0693415319280706"
      ]
     },
     "execution_count": 196,
     "metadata": {},
     "output_type": "execute_result"
    }
   ],
   "source": [
    "PB= 3135/45211\n",
    "PB"
   ]
  },
  {
   "cell_type": "code",
   "execution_count": 197,
   "id": "a366e6da-bf42-4753-9ef8-b4b84993bce8",
   "metadata": {},
   "outputs": [
    {
     "data": {
      "text/plain": [
       "59.27396483267159"
      ]
     },
     "execution_count": 197,
     "metadata": {},
     "output_type": "execute_result"
    }
   ],
   "source": [
    "PC=PB/PA\n",
    "PC*100"
   ]
  },
  {
   "cell_type": "markdown",
   "id": "f5eae309-0cf5-402c-b5a9-73c1e73d8baa",
   "metadata": {},
   "source": [
    "La probabilidad condicional de que una persona haga un depósito sin préstamos ni hipotecas es del 59% "
   ]
  },
  {
   "cell_type": "markdown",
   "id": "bdb79085-cd5d-48d0-acdd-17168c022ce5",
   "metadata": {},
   "source": [
    "# Desafío de consumo de API y DATA WRANGLING:"
   ]
  },
  {
   "cell_type": "markdown",
   "id": "ca9d6c01-ab44-40eb-8e3e-399e959b26fd",
   "metadata": {},
   "source": [
    "> Ahora buscaremos ver como se distribuye el balance por tipo de trabajo"
   ]
  },
  {
   "cell_type": "markdown",
   "id": "dd5ef05a-555e-4de2-ac40-70481b3d208e",
   "metadata": {},
   "source": [
    "Para eso, vamos a utilizar una api que nos permita convertir el valor de euro (el que está en el dataframe, a pesos argentinos)"
   ]
  },
  {
   "cell_type": "code",
   "execution_count": 198,
   "id": "e5a7183c-91ff-4c63-9abc-337760a2ee86",
   "metadata": {},
   "outputs": [],
   "source": [
    "import requests\n",
    "import json"
   ]
  },
  {
   "cell_type": "code",
   "execution_count": 199,
   "id": "bd44e2d6-11a5-4130-8e53-5e7239d00d70",
   "metadata": {},
   "outputs": [
    {
     "name": "stdout",
     "output_type": "stream",
     "text": [
      "{\n",
      "    \"date\": \"2023-04-21\",\n",
      "    \"ars\": 239.205721\n",
      "}\n"
     ]
    }
   ],
   "source": [
    "url = \"https://cdn.jsdelivr.net/gh/fawazahmed0/currency-api@1/latest/currencies/eur/ars.json\"\n",
    "response = requests.request(\"GET\", url)\n",
    "\n",
    "print(response.text) #Nos trae el precio de conversión del euro a pesos argentinos."
   ]
  },
  {
   "cell_type": "code",
   "execution_count": 200,
   "id": "8b270e9e-846b-4aac-be73-36833d1922f8",
   "metadata": {},
   "outputs": [
    {
     "data": {
      "text/plain": [
       "{'date': '2023-04-21', 'ars': 239.205721}"
      ]
     },
     "execution_count": 200,
     "metadata": {},
     "output_type": "execute_result"
    }
   ],
   "source": [
    "texto = response.text\n",
    "json.loads(texto)"
   ]
  },
  {
   "cell_type": "code",
   "execution_count": 201,
   "id": "35e2eaaf-0574-4c15-b87c-505aa736ddcb",
   "metadata": {},
   "outputs": [
    {
     "data": {
      "text/html": [
       "<div>\n",
       "<style scoped>\n",
       "    .dataframe tbody tr th:only-of-type {\n",
       "        vertical-align: middle;\n",
       "    }\n",
       "\n",
       "    .dataframe tbody tr th {\n",
       "        vertical-align: top;\n",
       "    }\n",
       "\n",
       "    .dataframe thead th {\n",
       "        text-align: right;\n",
       "    }\n",
       "</style>\n",
       "<table border=\"1\" class=\"dataframe\">\n",
       "  <thead>\n",
       "    <tr style=\"text-align: right;\">\n",
       "      <th></th>\n",
       "      <th>date</th>\n",
       "      <th>ars</th>\n",
       "    </tr>\n",
       "  </thead>\n",
       "  <tbody>\n",
       "    <tr>\n",
       "      <th>0</th>\n",
       "      <td>2023-04-21</td>\n",
       "      <td>239.205721</td>\n",
       "    </tr>\n",
       "  </tbody>\n",
       "</table>\n",
       "</div>"
      ],
      "text/plain": [
       "         date         ars\n",
       "0  2023-04-21  239.205721"
      ]
     },
     "execution_count": 201,
     "metadata": {},
     "output_type": "execute_result"
    }
   ],
   "source": [
    "jsondata=json.loads(texto)\n",
    "df2=pd.DataFrame(jsondata, index=[0])\n",
    "df2.head()"
   ]
  },
  {
   "cell_type": "code",
   "execution_count": 202,
   "id": "c7ee4f9e-92ab-437c-b7a9-afdbcb0e7255",
   "metadata": {},
   "outputs": [],
   "source": [
    "df1 = pd.read_csv('bank-full.csv', sep = ';')"
   ]
  },
  {
   "cell_type": "code",
   "execution_count": 203,
   "id": "687b9a73-4686-4fcc-b4a5-a23cf20e7c00",
   "metadata": {},
   "outputs": [],
   "source": [
    "df1 = pd.DataFrame(df1)"
   ]
  },
  {
   "cell_type": "code",
   "execution_count": 204,
   "id": "52401754-da3d-4655-9138-3717d1653e26",
   "metadata": {},
   "outputs": [
    {
     "data": {
      "text/html": [
       "<div>\n",
       "<style scoped>\n",
       "    .dataframe tbody tr th:only-of-type {\n",
       "        vertical-align: middle;\n",
       "    }\n",
       "\n",
       "    .dataframe tbody tr th {\n",
       "        vertical-align: top;\n",
       "    }\n",
       "\n",
       "    .dataframe thead th {\n",
       "        text-align: right;\n",
       "    }\n",
       "</style>\n",
       "<table border=\"1\" class=\"dataframe\">\n",
       "  <thead>\n",
       "    <tr style=\"text-align: right;\">\n",
       "      <th></th>\n",
       "      <th>age</th>\n",
       "      <th>job</th>\n",
       "      <th>marital</th>\n",
       "      <th>education</th>\n",
       "      <th>default</th>\n",
       "      <th>balance</th>\n",
       "      <th>housing</th>\n",
       "      <th>loan</th>\n",
       "      <th>contact</th>\n",
       "      <th>day</th>\n",
       "      <th>month</th>\n",
       "      <th>duration</th>\n",
       "      <th>campaign</th>\n",
       "      <th>pdays</th>\n",
       "      <th>previous</th>\n",
       "      <th>poutcome</th>\n",
       "      <th>y</th>\n",
       "    </tr>\n",
       "  </thead>\n",
       "  <tbody>\n",
       "    <tr>\n",
       "      <th>0</th>\n",
       "      <td>58</td>\n",
       "      <td>management</td>\n",
       "      <td>married</td>\n",
       "      <td>tertiary</td>\n",
       "      <td>no</td>\n",
       "      <td>2143</td>\n",
       "      <td>yes</td>\n",
       "      <td>no</td>\n",
       "      <td>unknown</td>\n",
       "      <td>5</td>\n",
       "      <td>may</td>\n",
       "      <td>261</td>\n",
       "      <td>1</td>\n",
       "      <td>-1</td>\n",
       "      <td>0</td>\n",
       "      <td>unknown</td>\n",
       "      <td>no</td>\n",
       "    </tr>\n",
       "    <tr>\n",
       "      <th>1</th>\n",
       "      <td>44</td>\n",
       "      <td>technician</td>\n",
       "      <td>single</td>\n",
       "      <td>secondary</td>\n",
       "      <td>no</td>\n",
       "      <td>29</td>\n",
       "      <td>yes</td>\n",
       "      <td>no</td>\n",
       "      <td>unknown</td>\n",
       "      <td>5</td>\n",
       "      <td>may</td>\n",
       "      <td>151</td>\n",
       "      <td>1</td>\n",
       "      <td>-1</td>\n",
       "      <td>0</td>\n",
       "      <td>unknown</td>\n",
       "      <td>no</td>\n",
       "    </tr>\n",
       "    <tr>\n",
       "      <th>2</th>\n",
       "      <td>33</td>\n",
       "      <td>entrepreneur</td>\n",
       "      <td>married</td>\n",
       "      <td>secondary</td>\n",
       "      <td>no</td>\n",
       "      <td>2</td>\n",
       "      <td>yes</td>\n",
       "      <td>yes</td>\n",
       "      <td>unknown</td>\n",
       "      <td>5</td>\n",
       "      <td>may</td>\n",
       "      <td>76</td>\n",
       "      <td>1</td>\n",
       "      <td>-1</td>\n",
       "      <td>0</td>\n",
       "      <td>unknown</td>\n",
       "      <td>no</td>\n",
       "    </tr>\n",
       "    <tr>\n",
       "      <th>3</th>\n",
       "      <td>47</td>\n",
       "      <td>blue-collar</td>\n",
       "      <td>married</td>\n",
       "      <td>unknown</td>\n",
       "      <td>no</td>\n",
       "      <td>1506</td>\n",
       "      <td>yes</td>\n",
       "      <td>no</td>\n",
       "      <td>unknown</td>\n",
       "      <td>5</td>\n",
       "      <td>may</td>\n",
       "      <td>92</td>\n",
       "      <td>1</td>\n",
       "      <td>-1</td>\n",
       "      <td>0</td>\n",
       "      <td>unknown</td>\n",
       "      <td>no</td>\n",
       "    </tr>\n",
       "    <tr>\n",
       "      <th>4</th>\n",
       "      <td>33</td>\n",
       "      <td>unknown</td>\n",
       "      <td>single</td>\n",
       "      <td>unknown</td>\n",
       "      <td>no</td>\n",
       "      <td>1</td>\n",
       "      <td>no</td>\n",
       "      <td>no</td>\n",
       "      <td>unknown</td>\n",
       "      <td>5</td>\n",
       "      <td>may</td>\n",
       "      <td>198</td>\n",
       "      <td>1</td>\n",
       "      <td>-1</td>\n",
       "      <td>0</td>\n",
       "      <td>unknown</td>\n",
       "      <td>no</td>\n",
       "    </tr>\n",
       "    <tr>\n",
       "      <th>...</th>\n",
       "      <td>...</td>\n",
       "      <td>...</td>\n",
       "      <td>...</td>\n",
       "      <td>...</td>\n",
       "      <td>...</td>\n",
       "      <td>...</td>\n",
       "      <td>...</td>\n",
       "      <td>...</td>\n",
       "      <td>...</td>\n",
       "      <td>...</td>\n",
       "      <td>...</td>\n",
       "      <td>...</td>\n",
       "      <td>...</td>\n",
       "      <td>...</td>\n",
       "      <td>...</td>\n",
       "      <td>...</td>\n",
       "      <td>...</td>\n",
       "    </tr>\n",
       "    <tr>\n",
       "      <th>45206</th>\n",
       "      <td>51</td>\n",
       "      <td>technician</td>\n",
       "      <td>married</td>\n",
       "      <td>tertiary</td>\n",
       "      <td>no</td>\n",
       "      <td>825</td>\n",
       "      <td>no</td>\n",
       "      <td>no</td>\n",
       "      <td>cellular</td>\n",
       "      <td>17</td>\n",
       "      <td>nov</td>\n",
       "      <td>977</td>\n",
       "      <td>3</td>\n",
       "      <td>-1</td>\n",
       "      <td>0</td>\n",
       "      <td>unknown</td>\n",
       "      <td>yes</td>\n",
       "    </tr>\n",
       "    <tr>\n",
       "      <th>45207</th>\n",
       "      <td>71</td>\n",
       "      <td>retired</td>\n",
       "      <td>divorced</td>\n",
       "      <td>primary</td>\n",
       "      <td>no</td>\n",
       "      <td>1729</td>\n",
       "      <td>no</td>\n",
       "      <td>no</td>\n",
       "      <td>cellular</td>\n",
       "      <td>17</td>\n",
       "      <td>nov</td>\n",
       "      <td>456</td>\n",
       "      <td>2</td>\n",
       "      <td>-1</td>\n",
       "      <td>0</td>\n",
       "      <td>unknown</td>\n",
       "      <td>yes</td>\n",
       "    </tr>\n",
       "    <tr>\n",
       "      <th>45208</th>\n",
       "      <td>72</td>\n",
       "      <td>retired</td>\n",
       "      <td>married</td>\n",
       "      <td>secondary</td>\n",
       "      <td>no</td>\n",
       "      <td>5715</td>\n",
       "      <td>no</td>\n",
       "      <td>no</td>\n",
       "      <td>cellular</td>\n",
       "      <td>17</td>\n",
       "      <td>nov</td>\n",
       "      <td>1127</td>\n",
       "      <td>5</td>\n",
       "      <td>184</td>\n",
       "      <td>3</td>\n",
       "      <td>success</td>\n",
       "      <td>yes</td>\n",
       "    </tr>\n",
       "    <tr>\n",
       "      <th>45209</th>\n",
       "      <td>57</td>\n",
       "      <td>blue-collar</td>\n",
       "      <td>married</td>\n",
       "      <td>secondary</td>\n",
       "      <td>no</td>\n",
       "      <td>668</td>\n",
       "      <td>no</td>\n",
       "      <td>no</td>\n",
       "      <td>telephone</td>\n",
       "      <td>17</td>\n",
       "      <td>nov</td>\n",
       "      <td>508</td>\n",
       "      <td>4</td>\n",
       "      <td>-1</td>\n",
       "      <td>0</td>\n",
       "      <td>unknown</td>\n",
       "      <td>no</td>\n",
       "    </tr>\n",
       "    <tr>\n",
       "      <th>45210</th>\n",
       "      <td>37</td>\n",
       "      <td>entrepreneur</td>\n",
       "      <td>married</td>\n",
       "      <td>secondary</td>\n",
       "      <td>no</td>\n",
       "      <td>2971</td>\n",
       "      <td>no</td>\n",
       "      <td>no</td>\n",
       "      <td>cellular</td>\n",
       "      <td>17</td>\n",
       "      <td>nov</td>\n",
       "      <td>361</td>\n",
       "      <td>2</td>\n",
       "      <td>188</td>\n",
       "      <td>11</td>\n",
       "      <td>other</td>\n",
       "      <td>no</td>\n",
       "    </tr>\n",
       "  </tbody>\n",
       "</table>\n",
       "<p>45211 rows × 17 columns</p>\n",
       "</div>"
      ],
      "text/plain": [
       "       age           job   marital  education default  balance housing loan  \\\n",
       "0       58    management   married   tertiary      no     2143     yes   no   \n",
       "1       44    technician    single  secondary      no       29     yes   no   \n",
       "2       33  entrepreneur   married  secondary      no        2     yes  yes   \n",
       "3       47   blue-collar   married    unknown      no     1506     yes   no   \n",
       "4       33       unknown    single    unknown      no        1      no   no   \n",
       "...    ...           ...       ...        ...     ...      ...     ...  ...   \n",
       "45206   51    technician   married   tertiary      no      825      no   no   \n",
       "45207   71       retired  divorced    primary      no     1729      no   no   \n",
       "45208   72       retired   married  secondary      no     5715      no   no   \n",
       "45209   57   blue-collar   married  secondary      no      668      no   no   \n",
       "45210   37  entrepreneur   married  secondary      no     2971      no   no   \n",
       "\n",
       "         contact  day month  duration  campaign  pdays  previous poutcome    y  \n",
       "0        unknown    5   may       261         1     -1         0  unknown   no  \n",
       "1        unknown    5   may       151         1     -1         0  unknown   no  \n",
       "2        unknown    5   may        76         1     -1         0  unknown   no  \n",
       "3        unknown    5   may        92         1     -1         0  unknown   no  \n",
       "4        unknown    5   may       198         1     -1         0  unknown   no  \n",
       "...          ...  ...   ...       ...       ...    ...       ...      ...  ...  \n",
       "45206   cellular   17   nov       977         3     -1         0  unknown  yes  \n",
       "45207   cellular   17   nov       456         2     -1         0  unknown  yes  \n",
       "45208   cellular   17   nov      1127         5    184         3  success  yes  \n",
       "45209  telephone   17   nov       508         4     -1         0  unknown   no  \n",
       "45210   cellular   17   nov       361         2    188        11    other   no  \n",
       "\n",
       "[45211 rows x 17 columns]"
      ]
     },
     "execution_count": 204,
     "metadata": {},
     "output_type": "execute_result"
    }
   ],
   "source": [
    "df1"
   ]
  },
  {
   "cell_type": "code",
   "execution_count": 205,
   "id": "792f1c11-55d9-4ff0-aede-5757b2297b6c",
   "metadata": {},
   "outputs": [],
   "source": [
    "df1 = pd.concat([df1,df2], axis=0)"
   ]
  },
  {
   "cell_type": "code",
   "execution_count": 206,
   "id": "e1c4f65e-8fa0-4020-b475-4faf7c42d9b6",
   "metadata": {},
   "outputs": [],
   "source": [
    "df1 = df1.reset_index()"
   ]
  },
  {
   "cell_type": "code",
   "execution_count": 207,
   "id": "46e4c8fc-fc00-4c89-b92f-8220e8a40482",
   "metadata": {},
   "outputs": [],
   "source": [
    "mask = df1.pop('date')"
   ]
  },
  {
   "cell_type": "code",
   "execution_count": 208,
   "id": "e9eb6f63-fdb3-41c3-89cd-da86ac9478ea",
   "metadata": {},
   "outputs": [
    {
     "data": {
      "text/html": [
       "<div>\n",
       "<style scoped>\n",
       "    .dataframe tbody tr th:only-of-type {\n",
       "        vertical-align: middle;\n",
       "    }\n",
       "\n",
       "    .dataframe tbody tr th {\n",
       "        vertical-align: top;\n",
       "    }\n",
       "\n",
       "    .dataframe thead th {\n",
       "        text-align: right;\n",
       "    }\n",
       "</style>\n",
       "<table border=\"1\" class=\"dataframe\">\n",
       "  <thead>\n",
       "    <tr style=\"text-align: right;\">\n",
       "      <th></th>\n",
       "      <th>index</th>\n",
       "      <th>age</th>\n",
       "      <th>job</th>\n",
       "      <th>marital</th>\n",
       "      <th>education</th>\n",
       "      <th>default</th>\n",
       "      <th>balance</th>\n",
       "      <th>housing</th>\n",
       "      <th>loan</th>\n",
       "      <th>contact</th>\n",
       "      <th>day</th>\n",
       "      <th>month</th>\n",
       "      <th>duration</th>\n",
       "      <th>campaign</th>\n",
       "      <th>pdays</th>\n",
       "      <th>previous</th>\n",
       "      <th>poutcome</th>\n",
       "      <th>y</th>\n",
       "      <th>ars</th>\n",
       "    </tr>\n",
       "  </thead>\n",
       "  <tbody>\n",
       "    <tr>\n",
       "      <th>0</th>\n",
       "      <td>0</td>\n",
       "      <td>58.0</td>\n",
       "      <td>management</td>\n",
       "      <td>married</td>\n",
       "      <td>tertiary</td>\n",
       "      <td>no</td>\n",
       "      <td>2143.0</td>\n",
       "      <td>yes</td>\n",
       "      <td>no</td>\n",
       "      <td>unknown</td>\n",
       "      <td>5.0</td>\n",
       "      <td>may</td>\n",
       "      <td>261.0</td>\n",
       "      <td>1.0</td>\n",
       "      <td>-1.0</td>\n",
       "      <td>0.0</td>\n",
       "      <td>unknown</td>\n",
       "      <td>no</td>\n",
       "      <td>NaN</td>\n",
       "    </tr>\n",
       "    <tr>\n",
       "      <th>1</th>\n",
       "      <td>1</td>\n",
       "      <td>44.0</td>\n",
       "      <td>technician</td>\n",
       "      <td>single</td>\n",
       "      <td>secondary</td>\n",
       "      <td>no</td>\n",
       "      <td>29.0</td>\n",
       "      <td>yes</td>\n",
       "      <td>no</td>\n",
       "      <td>unknown</td>\n",
       "      <td>5.0</td>\n",
       "      <td>may</td>\n",
       "      <td>151.0</td>\n",
       "      <td>1.0</td>\n",
       "      <td>-1.0</td>\n",
       "      <td>0.0</td>\n",
       "      <td>unknown</td>\n",
       "      <td>no</td>\n",
       "      <td>NaN</td>\n",
       "    </tr>\n",
       "    <tr>\n",
       "      <th>2</th>\n",
       "      <td>2</td>\n",
       "      <td>33.0</td>\n",
       "      <td>entrepreneur</td>\n",
       "      <td>married</td>\n",
       "      <td>secondary</td>\n",
       "      <td>no</td>\n",
       "      <td>2.0</td>\n",
       "      <td>yes</td>\n",
       "      <td>yes</td>\n",
       "      <td>unknown</td>\n",
       "      <td>5.0</td>\n",
       "      <td>may</td>\n",
       "      <td>76.0</td>\n",
       "      <td>1.0</td>\n",
       "      <td>-1.0</td>\n",
       "      <td>0.0</td>\n",
       "      <td>unknown</td>\n",
       "      <td>no</td>\n",
       "      <td>NaN</td>\n",
       "    </tr>\n",
       "    <tr>\n",
       "      <th>3</th>\n",
       "      <td>3</td>\n",
       "      <td>47.0</td>\n",
       "      <td>blue-collar</td>\n",
       "      <td>married</td>\n",
       "      <td>unknown</td>\n",
       "      <td>no</td>\n",
       "      <td>1506.0</td>\n",
       "      <td>yes</td>\n",
       "      <td>no</td>\n",
       "      <td>unknown</td>\n",
       "      <td>5.0</td>\n",
       "      <td>may</td>\n",
       "      <td>92.0</td>\n",
       "      <td>1.0</td>\n",
       "      <td>-1.0</td>\n",
       "      <td>0.0</td>\n",
       "      <td>unknown</td>\n",
       "      <td>no</td>\n",
       "      <td>NaN</td>\n",
       "    </tr>\n",
       "    <tr>\n",
       "      <th>4</th>\n",
       "      <td>4</td>\n",
       "      <td>33.0</td>\n",
       "      <td>unknown</td>\n",
       "      <td>single</td>\n",
       "      <td>unknown</td>\n",
       "      <td>no</td>\n",
       "      <td>1.0</td>\n",
       "      <td>no</td>\n",
       "      <td>no</td>\n",
       "      <td>unknown</td>\n",
       "      <td>5.0</td>\n",
       "      <td>may</td>\n",
       "      <td>198.0</td>\n",
       "      <td>1.0</td>\n",
       "      <td>-1.0</td>\n",
       "      <td>0.0</td>\n",
       "      <td>unknown</td>\n",
       "      <td>no</td>\n",
       "      <td>NaN</td>\n",
       "    </tr>\n",
       "    <tr>\n",
       "      <th>...</th>\n",
       "      <td>...</td>\n",
       "      <td>...</td>\n",
       "      <td>...</td>\n",
       "      <td>...</td>\n",
       "      <td>...</td>\n",
       "      <td>...</td>\n",
       "      <td>...</td>\n",
       "      <td>...</td>\n",
       "      <td>...</td>\n",
       "      <td>...</td>\n",
       "      <td>...</td>\n",
       "      <td>...</td>\n",
       "      <td>...</td>\n",
       "      <td>...</td>\n",
       "      <td>...</td>\n",
       "      <td>...</td>\n",
       "      <td>...</td>\n",
       "      <td>...</td>\n",
       "      <td>...</td>\n",
       "    </tr>\n",
       "    <tr>\n",
       "      <th>45207</th>\n",
       "      <td>45207</td>\n",
       "      <td>71.0</td>\n",
       "      <td>retired</td>\n",
       "      <td>divorced</td>\n",
       "      <td>primary</td>\n",
       "      <td>no</td>\n",
       "      <td>1729.0</td>\n",
       "      <td>no</td>\n",
       "      <td>no</td>\n",
       "      <td>cellular</td>\n",
       "      <td>17.0</td>\n",
       "      <td>nov</td>\n",
       "      <td>456.0</td>\n",
       "      <td>2.0</td>\n",
       "      <td>-1.0</td>\n",
       "      <td>0.0</td>\n",
       "      <td>unknown</td>\n",
       "      <td>yes</td>\n",
       "      <td>NaN</td>\n",
       "    </tr>\n",
       "    <tr>\n",
       "      <th>45208</th>\n",
       "      <td>45208</td>\n",
       "      <td>72.0</td>\n",
       "      <td>retired</td>\n",
       "      <td>married</td>\n",
       "      <td>secondary</td>\n",
       "      <td>no</td>\n",
       "      <td>5715.0</td>\n",
       "      <td>no</td>\n",
       "      <td>no</td>\n",
       "      <td>cellular</td>\n",
       "      <td>17.0</td>\n",
       "      <td>nov</td>\n",
       "      <td>1127.0</td>\n",
       "      <td>5.0</td>\n",
       "      <td>184.0</td>\n",
       "      <td>3.0</td>\n",
       "      <td>success</td>\n",
       "      <td>yes</td>\n",
       "      <td>NaN</td>\n",
       "    </tr>\n",
       "    <tr>\n",
       "      <th>45209</th>\n",
       "      <td>45209</td>\n",
       "      <td>57.0</td>\n",
       "      <td>blue-collar</td>\n",
       "      <td>married</td>\n",
       "      <td>secondary</td>\n",
       "      <td>no</td>\n",
       "      <td>668.0</td>\n",
       "      <td>no</td>\n",
       "      <td>no</td>\n",
       "      <td>telephone</td>\n",
       "      <td>17.0</td>\n",
       "      <td>nov</td>\n",
       "      <td>508.0</td>\n",
       "      <td>4.0</td>\n",
       "      <td>-1.0</td>\n",
       "      <td>0.0</td>\n",
       "      <td>unknown</td>\n",
       "      <td>no</td>\n",
       "      <td>NaN</td>\n",
       "    </tr>\n",
       "    <tr>\n",
       "      <th>45210</th>\n",
       "      <td>45210</td>\n",
       "      <td>37.0</td>\n",
       "      <td>entrepreneur</td>\n",
       "      <td>married</td>\n",
       "      <td>secondary</td>\n",
       "      <td>no</td>\n",
       "      <td>2971.0</td>\n",
       "      <td>no</td>\n",
       "      <td>no</td>\n",
       "      <td>cellular</td>\n",
       "      <td>17.0</td>\n",
       "      <td>nov</td>\n",
       "      <td>361.0</td>\n",
       "      <td>2.0</td>\n",
       "      <td>188.0</td>\n",
       "      <td>11.0</td>\n",
       "      <td>other</td>\n",
       "      <td>no</td>\n",
       "      <td>NaN</td>\n",
       "    </tr>\n",
       "    <tr>\n",
       "      <th>45211</th>\n",
       "      <td>0</td>\n",
       "      <td>NaN</td>\n",
       "      <td>NaN</td>\n",
       "      <td>NaN</td>\n",
       "      <td>NaN</td>\n",
       "      <td>NaN</td>\n",
       "      <td>NaN</td>\n",
       "      <td>NaN</td>\n",
       "      <td>NaN</td>\n",
       "      <td>NaN</td>\n",
       "      <td>NaN</td>\n",
       "      <td>NaN</td>\n",
       "      <td>NaN</td>\n",
       "      <td>NaN</td>\n",
       "      <td>NaN</td>\n",
       "      <td>NaN</td>\n",
       "      <td>NaN</td>\n",
       "      <td>NaN</td>\n",
       "      <td>239.205721</td>\n",
       "    </tr>\n",
       "  </tbody>\n",
       "</table>\n",
       "<p>45212 rows × 19 columns</p>\n",
       "</div>"
      ],
      "text/plain": [
       "       index   age           job   marital  education default  balance  \\\n",
       "0          0  58.0    management   married   tertiary      no   2143.0   \n",
       "1          1  44.0    technician    single  secondary      no     29.0   \n",
       "2          2  33.0  entrepreneur   married  secondary      no      2.0   \n",
       "3          3  47.0   blue-collar   married    unknown      no   1506.0   \n",
       "4          4  33.0       unknown    single    unknown      no      1.0   \n",
       "...      ...   ...           ...       ...        ...     ...      ...   \n",
       "45207  45207  71.0       retired  divorced    primary      no   1729.0   \n",
       "45208  45208  72.0       retired   married  secondary      no   5715.0   \n",
       "45209  45209  57.0   blue-collar   married  secondary      no    668.0   \n",
       "45210  45210  37.0  entrepreneur   married  secondary      no   2971.0   \n",
       "45211      0   NaN           NaN       NaN        NaN     NaN      NaN   \n",
       "\n",
       "      housing loan    contact   day month  duration  campaign  pdays  \\\n",
       "0         yes   no    unknown   5.0   may     261.0       1.0   -1.0   \n",
       "1         yes   no    unknown   5.0   may     151.0       1.0   -1.0   \n",
       "2         yes  yes    unknown   5.0   may      76.0       1.0   -1.0   \n",
       "3         yes   no    unknown   5.0   may      92.0       1.0   -1.0   \n",
       "4          no   no    unknown   5.0   may     198.0       1.0   -1.0   \n",
       "...       ...  ...        ...   ...   ...       ...       ...    ...   \n",
       "45207      no   no   cellular  17.0   nov     456.0       2.0   -1.0   \n",
       "45208      no   no   cellular  17.0   nov    1127.0       5.0  184.0   \n",
       "45209      no   no  telephone  17.0   nov     508.0       4.0   -1.0   \n",
       "45210      no   no   cellular  17.0   nov     361.0       2.0  188.0   \n",
       "45211     NaN  NaN        NaN   NaN   NaN       NaN       NaN    NaN   \n",
       "\n",
       "       previous poutcome    y         ars  \n",
       "0           0.0  unknown   no         NaN  \n",
       "1           0.0  unknown   no         NaN  \n",
       "2           0.0  unknown   no         NaN  \n",
       "3           0.0  unknown   no         NaN  \n",
       "4           0.0  unknown   no         NaN  \n",
       "...         ...      ...  ...         ...  \n",
       "45207       0.0  unknown  yes         NaN  \n",
       "45208       3.0  success  yes         NaN  \n",
       "45209       0.0  unknown   no         NaN  \n",
       "45210      11.0    other   no         NaN  \n",
       "45211       NaN      NaN  NaN  239.205721  \n",
       "\n",
       "[45212 rows x 19 columns]"
      ]
     },
     "execution_count": 208,
     "metadata": {},
     "output_type": "execute_result"
    }
   ],
   "source": [
    "df1"
   ]
  },
  {
   "cell_type": "code",
   "execution_count": 209,
   "id": "d3986cde-c11d-43b5-9201-624be380107e",
   "metadata": {},
   "outputs": [],
   "source": [
    "df1['ars'] = df1['balance'] * df1['ars'][45211]"
   ]
  },
  {
   "cell_type": "code",
   "execution_count": 210,
   "id": "bbbb66ae-7b91-494b-b2a4-30590ad8f472",
   "metadata": {},
   "outputs": [
    {
     "data": {
      "text/plain": [
       "0        5.126179e+05\n",
       "1        6.936966e+03\n",
       "2        4.784114e+02\n",
       "3        3.602438e+05\n",
       "4        2.392057e+02\n",
       "             ...     \n",
       "45207    4.135867e+05\n",
       "45208    1.367061e+06\n",
       "45209    1.597894e+05\n",
       "45210    7.106802e+05\n",
       "45211             NaN\n",
       "Name: ars, Length: 45212, dtype: float64"
      ]
     },
     "execution_count": 210,
     "metadata": {},
     "output_type": "execute_result"
    }
   ],
   "source": [
    "df1['ars']"
   ]
  },
  {
   "cell_type": "code",
   "execution_count": 211,
   "id": "bf66caa9-3483-4833-9665-038927ad6825",
   "metadata": {},
   "outputs": [],
   "source": [
    "df1 = df1.drop(45211)"
   ]
  },
  {
   "cell_type": "code",
   "execution_count": 212,
   "id": "0b0dbf8f-16aa-4bea-b419-9bd34a10512b",
   "metadata": {},
   "outputs": [],
   "source": [
    "df1['ars'] = pd.to_numeric(df1['ars'])"
   ]
  },
  {
   "cell_type": "code",
   "execution_count": 213,
   "id": "84947b03-184e-4b12-b2c0-7c01f6fbd246",
   "metadata": {},
   "outputs": [],
   "source": [
    "df1['ars'] = df1['ars'].astype(int)"
   ]
  },
  {
   "cell_type": "code",
   "execution_count": 214,
   "id": "2679d8e0-778b-4d68-a44a-c24fb81791bd",
   "metadata": {},
   "outputs": [],
   "source": [
    "df1.rename(columns = {'ars':'ars_balance'}, inplace = True)"
   ]
  },
  {
   "cell_type": "code",
   "execution_count": 215,
   "id": "8f7e9d7f-1e26-4287-b245-26c1fab87eee",
   "metadata": {},
   "outputs": [
    {
     "data": {
      "text/html": [
       "<div>\n",
       "<style scoped>\n",
       "    .dataframe tbody tr th:only-of-type {\n",
       "        vertical-align: middle;\n",
       "    }\n",
       "\n",
       "    .dataframe tbody tr th {\n",
       "        vertical-align: top;\n",
       "    }\n",
       "\n",
       "    .dataframe thead th {\n",
       "        text-align: right;\n",
       "    }\n",
       "</style>\n",
       "<table border=\"1\" class=\"dataframe\">\n",
       "  <thead>\n",
       "    <tr style=\"text-align: right;\">\n",
       "      <th></th>\n",
       "      <th>index</th>\n",
       "      <th>age</th>\n",
       "      <th>job</th>\n",
       "      <th>marital</th>\n",
       "      <th>education</th>\n",
       "      <th>default</th>\n",
       "      <th>balance</th>\n",
       "      <th>housing</th>\n",
       "      <th>loan</th>\n",
       "      <th>contact</th>\n",
       "      <th>day</th>\n",
       "      <th>month</th>\n",
       "      <th>duration</th>\n",
       "      <th>campaign</th>\n",
       "      <th>pdays</th>\n",
       "      <th>previous</th>\n",
       "      <th>poutcome</th>\n",
       "      <th>y</th>\n",
       "      <th>ars_balance</th>\n",
       "    </tr>\n",
       "  </thead>\n",
       "  <tbody>\n",
       "    <tr>\n",
       "      <th>0</th>\n",
       "      <td>0</td>\n",
       "      <td>58.0</td>\n",
       "      <td>management</td>\n",
       "      <td>married</td>\n",
       "      <td>tertiary</td>\n",
       "      <td>no</td>\n",
       "      <td>2143.0</td>\n",
       "      <td>yes</td>\n",
       "      <td>no</td>\n",
       "      <td>unknown</td>\n",
       "      <td>5.0</td>\n",
       "      <td>may</td>\n",
       "      <td>261.0</td>\n",
       "      <td>1.0</td>\n",
       "      <td>-1.0</td>\n",
       "      <td>0.0</td>\n",
       "      <td>unknown</td>\n",
       "      <td>no</td>\n",
       "      <td>512617</td>\n",
       "    </tr>\n",
       "    <tr>\n",
       "      <th>1</th>\n",
       "      <td>1</td>\n",
       "      <td>44.0</td>\n",
       "      <td>technician</td>\n",
       "      <td>single</td>\n",
       "      <td>secondary</td>\n",
       "      <td>no</td>\n",
       "      <td>29.0</td>\n",
       "      <td>yes</td>\n",
       "      <td>no</td>\n",
       "      <td>unknown</td>\n",
       "      <td>5.0</td>\n",
       "      <td>may</td>\n",
       "      <td>151.0</td>\n",
       "      <td>1.0</td>\n",
       "      <td>-1.0</td>\n",
       "      <td>0.0</td>\n",
       "      <td>unknown</td>\n",
       "      <td>no</td>\n",
       "      <td>6936</td>\n",
       "    </tr>\n",
       "    <tr>\n",
       "      <th>2</th>\n",
       "      <td>2</td>\n",
       "      <td>33.0</td>\n",
       "      <td>entrepreneur</td>\n",
       "      <td>married</td>\n",
       "      <td>secondary</td>\n",
       "      <td>no</td>\n",
       "      <td>2.0</td>\n",
       "      <td>yes</td>\n",
       "      <td>yes</td>\n",
       "      <td>unknown</td>\n",
       "      <td>5.0</td>\n",
       "      <td>may</td>\n",
       "      <td>76.0</td>\n",
       "      <td>1.0</td>\n",
       "      <td>-1.0</td>\n",
       "      <td>0.0</td>\n",
       "      <td>unknown</td>\n",
       "      <td>no</td>\n",
       "      <td>478</td>\n",
       "    </tr>\n",
       "    <tr>\n",
       "      <th>3</th>\n",
       "      <td>3</td>\n",
       "      <td>47.0</td>\n",
       "      <td>blue-collar</td>\n",
       "      <td>married</td>\n",
       "      <td>unknown</td>\n",
       "      <td>no</td>\n",
       "      <td>1506.0</td>\n",
       "      <td>yes</td>\n",
       "      <td>no</td>\n",
       "      <td>unknown</td>\n",
       "      <td>5.0</td>\n",
       "      <td>may</td>\n",
       "      <td>92.0</td>\n",
       "      <td>1.0</td>\n",
       "      <td>-1.0</td>\n",
       "      <td>0.0</td>\n",
       "      <td>unknown</td>\n",
       "      <td>no</td>\n",
       "      <td>360243</td>\n",
       "    </tr>\n",
       "    <tr>\n",
       "      <th>4</th>\n",
       "      <td>4</td>\n",
       "      <td>33.0</td>\n",
       "      <td>unknown</td>\n",
       "      <td>single</td>\n",
       "      <td>unknown</td>\n",
       "      <td>no</td>\n",
       "      <td>1.0</td>\n",
       "      <td>no</td>\n",
       "      <td>no</td>\n",
       "      <td>unknown</td>\n",
       "      <td>5.0</td>\n",
       "      <td>may</td>\n",
       "      <td>198.0</td>\n",
       "      <td>1.0</td>\n",
       "      <td>-1.0</td>\n",
       "      <td>0.0</td>\n",
       "      <td>unknown</td>\n",
       "      <td>no</td>\n",
       "      <td>239</td>\n",
       "    </tr>\n",
       "    <tr>\n",
       "      <th>...</th>\n",
       "      <td>...</td>\n",
       "      <td>...</td>\n",
       "      <td>...</td>\n",
       "      <td>...</td>\n",
       "      <td>...</td>\n",
       "      <td>...</td>\n",
       "      <td>...</td>\n",
       "      <td>...</td>\n",
       "      <td>...</td>\n",
       "      <td>...</td>\n",
       "      <td>...</td>\n",
       "      <td>...</td>\n",
       "      <td>...</td>\n",
       "      <td>...</td>\n",
       "      <td>...</td>\n",
       "      <td>...</td>\n",
       "      <td>...</td>\n",
       "      <td>...</td>\n",
       "      <td>...</td>\n",
       "    </tr>\n",
       "    <tr>\n",
       "      <th>45206</th>\n",
       "      <td>45206</td>\n",
       "      <td>51.0</td>\n",
       "      <td>technician</td>\n",
       "      <td>married</td>\n",
       "      <td>tertiary</td>\n",
       "      <td>no</td>\n",
       "      <td>825.0</td>\n",
       "      <td>no</td>\n",
       "      <td>no</td>\n",
       "      <td>cellular</td>\n",
       "      <td>17.0</td>\n",
       "      <td>nov</td>\n",
       "      <td>977.0</td>\n",
       "      <td>3.0</td>\n",
       "      <td>-1.0</td>\n",
       "      <td>0.0</td>\n",
       "      <td>unknown</td>\n",
       "      <td>yes</td>\n",
       "      <td>197344</td>\n",
       "    </tr>\n",
       "    <tr>\n",
       "      <th>45207</th>\n",
       "      <td>45207</td>\n",
       "      <td>71.0</td>\n",
       "      <td>retired</td>\n",
       "      <td>divorced</td>\n",
       "      <td>primary</td>\n",
       "      <td>no</td>\n",
       "      <td>1729.0</td>\n",
       "      <td>no</td>\n",
       "      <td>no</td>\n",
       "      <td>cellular</td>\n",
       "      <td>17.0</td>\n",
       "      <td>nov</td>\n",
       "      <td>456.0</td>\n",
       "      <td>2.0</td>\n",
       "      <td>-1.0</td>\n",
       "      <td>0.0</td>\n",
       "      <td>unknown</td>\n",
       "      <td>yes</td>\n",
       "      <td>413586</td>\n",
       "    </tr>\n",
       "    <tr>\n",
       "      <th>45208</th>\n",
       "      <td>45208</td>\n",
       "      <td>72.0</td>\n",
       "      <td>retired</td>\n",
       "      <td>married</td>\n",
       "      <td>secondary</td>\n",
       "      <td>no</td>\n",
       "      <td>5715.0</td>\n",
       "      <td>no</td>\n",
       "      <td>no</td>\n",
       "      <td>cellular</td>\n",
       "      <td>17.0</td>\n",
       "      <td>nov</td>\n",
       "      <td>1127.0</td>\n",
       "      <td>5.0</td>\n",
       "      <td>184.0</td>\n",
       "      <td>3.0</td>\n",
       "      <td>success</td>\n",
       "      <td>yes</td>\n",
       "      <td>1367060</td>\n",
       "    </tr>\n",
       "    <tr>\n",
       "      <th>45209</th>\n",
       "      <td>45209</td>\n",
       "      <td>57.0</td>\n",
       "      <td>blue-collar</td>\n",
       "      <td>married</td>\n",
       "      <td>secondary</td>\n",
       "      <td>no</td>\n",
       "      <td>668.0</td>\n",
       "      <td>no</td>\n",
       "      <td>no</td>\n",
       "      <td>telephone</td>\n",
       "      <td>17.0</td>\n",
       "      <td>nov</td>\n",
       "      <td>508.0</td>\n",
       "      <td>4.0</td>\n",
       "      <td>-1.0</td>\n",
       "      <td>0.0</td>\n",
       "      <td>unknown</td>\n",
       "      <td>no</td>\n",
       "      <td>159789</td>\n",
       "    </tr>\n",
       "    <tr>\n",
       "      <th>45210</th>\n",
       "      <td>45210</td>\n",
       "      <td>37.0</td>\n",
       "      <td>entrepreneur</td>\n",
       "      <td>married</td>\n",
       "      <td>secondary</td>\n",
       "      <td>no</td>\n",
       "      <td>2971.0</td>\n",
       "      <td>no</td>\n",
       "      <td>no</td>\n",
       "      <td>cellular</td>\n",
       "      <td>17.0</td>\n",
       "      <td>nov</td>\n",
       "      <td>361.0</td>\n",
       "      <td>2.0</td>\n",
       "      <td>188.0</td>\n",
       "      <td>11.0</td>\n",
       "      <td>other</td>\n",
       "      <td>no</td>\n",
       "      <td>710680</td>\n",
       "    </tr>\n",
       "  </tbody>\n",
       "</table>\n",
       "<p>45211 rows × 19 columns</p>\n",
       "</div>"
      ],
      "text/plain": [
       "       index   age           job   marital  education default  balance  \\\n",
       "0          0  58.0    management   married   tertiary      no   2143.0   \n",
       "1          1  44.0    technician    single  secondary      no     29.0   \n",
       "2          2  33.0  entrepreneur   married  secondary      no      2.0   \n",
       "3          3  47.0   blue-collar   married    unknown      no   1506.0   \n",
       "4          4  33.0       unknown    single    unknown      no      1.0   \n",
       "...      ...   ...           ...       ...        ...     ...      ...   \n",
       "45206  45206  51.0    technician   married   tertiary      no    825.0   \n",
       "45207  45207  71.0       retired  divorced    primary      no   1729.0   \n",
       "45208  45208  72.0       retired   married  secondary      no   5715.0   \n",
       "45209  45209  57.0   blue-collar   married  secondary      no    668.0   \n",
       "45210  45210  37.0  entrepreneur   married  secondary      no   2971.0   \n",
       "\n",
       "      housing loan    contact   day month  duration  campaign  pdays  \\\n",
       "0         yes   no    unknown   5.0   may     261.0       1.0   -1.0   \n",
       "1         yes   no    unknown   5.0   may     151.0       1.0   -1.0   \n",
       "2         yes  yes    unknown   5.0   may      76.0       1.0   -1.0   \n",
       "3         yes   no    unknown   5.0   may      92.0       1.0   -1.0   \n",
       "4          no   no    unknown   5.0   may     198.0       1.0   -1.0   \n",
       "...       ...  ...        ...   ...   ...       ...       ...    ...   \n",
       "45206      no   no   cellular  17.0   nov     977.0       3.0   -1.0   \n",
       "45207      no   no   cellular  17.0   nov     456.0       2.0   -1.0   \n",
       "45208      no   no   cellular  17.0   nov    1127.0       5.0  184.0   \n",
       "45209      no   no  telephone  17.0   nov     508.0       4.0   -1.0   \n",
       "45210      no   no   cellular  17.0   nov     361.0       2.0  188.0   \n",
       "\n",
       "       previous poutcome    y  ars_balance  \n",
       "0           0.0  unknown   no       512617  \n",
       "1           0.0  unknown   no         6936  \n",
       "2           0.0  unknown   no          478  \n",
       "3           0.0  unknown   no       360243  \n",
       "4           0.0  unknown   no          239  \n",
       "...         ...      ...  ...          ...  \n",
       "45206       0.0  unknown  yes       197344  \n",
       "45207       0.0  unknown  yes       413586  \n",
       "45208       3.0  success  yes      1367060  \n",
       "45209       0.0  unknown   no       159789  \n",
       "45210      11.0    other   no       710680  \n",
       "\n",
       "[45211 rows x 19 columns]"
      ]
     },
     "execution_count": 215,
     "metadata": {},
     "output_type": "execute_result"
    }
   ],
   "source": [
    "df1"
   ]
  },
  {
   "cell_type": "code",
   "execution_count": 216,
   "id": "64c73293-b7d1-4da1-ba94-ff19f3aa2db8",
   "metadata": {},
   "outputs": [
    {
     "data": {
      "text/plain": [
       "job\n",
       "admin.            94725.0\n",
       "blue-collar       92811.0\n",
       "entrepreneur      84200.0\n",
       "housemaid         97117.0\n",
       "management       136825.0\n",
       "retired          188254.5\n",
       "self-employed    125822.0\n",
       "services          81209.5\n",
       "student          120081.0\n",
       "technician       100705.0\n",
       "unemployed       126539.0\n",
       "unknown          161942.0\n",
       "Name: ars_balance, dtype: float64"
      ]
     },
     "execution_count": 216,
     "metadata": {},
     "output_type": "execute_result"
    }
   ],
   "source": [
    "grouped = df1['ars_balance'].groupby(df1['job']).median()\n",
    "grouped"
   ]
  },
  {
   "cell_type": "code",
   "execution_count": 217,
   "id": "45a37466-8e2b-4f18-99a6-38b53e50ac8a",
   "metadata": {},
   "outputs": [
    {
     "data": {
      "text/plain": [
       "Index(['ars_balance'], dtype='object')"
      ]
     },
     "execution_count": 217,
     "metadata": {},
     "output_type": "execute_result"
    }
   ],
   "source": [
    "groupeddf = pd.DataFrame(grouped)\n",
    "groupeddf.columns"
   ]
  },
  {
   "cell_type": "code",
   "execution_count": 218,
   "id": "614fe979-a94d-42d7-9f69-079a3a90b37a",
   "metadata": {},
   "outputs": [
    {
     "data": {
      "text/html": [
       "<div>\n",
       "<style scoped>\n",
       "    .dataframe tbody tr th:only-of-type {\n",
       "        vertical-align: middle;\n",
       "    }\n",
       "\n",
       "    .dataframe tbody tr th {\n",
       "        vertical-align: top;\n",
       "    }\n",
       "\n",
       "    .dataframe thead th {\n",
       "        text-align: right;\n",
       "    }\n",
       "</style>\n",
       "<table border=\"1\" class=\"dataframe\">\n",
       "  <thead>\n",
       "    <tr style=\"text-align: right;\">\n",
       "      <th></th>\n",
       "      <th>ars_balance</th>\n",
       "    </tr>\n",
       "    <tr>\n",
       "      <th>job</th>\n",
       "      <th></th>\n",
       "    </tr>\n",
       "  </thead>\n",
       "  <tbody>\n",
       "    <tr>\n",
       "      <th>admin.</th>\n",
       "      <td>94725.0</td>\n",
       "    </tr>\n",
       "    <tr>\n",
       "      <th>blue-collar</th>\n",
       "      <td>92811.0</td>\n",
       "    </tr>\n",
       "    <tr>\n",
       "      <th>entrepreneur</th>\n",
       "      <td>84200.0</td>\n",
       "    </tr>\n",
       "    <tr>\n",
       "      <th>housemaid</th>\n",
       "      <td>97117.0</td>\n",
       "    </tr>\n",
       "    <tr>\n",
       "      <th>management</th>\n",
       "      <td>136825.0</td>\n",
       "    </tr>\n",
       "    <tr>\n",
       "      <th>retired</th>\n",
       "      <td>188254.5</td>\n",
       "    </tr>\n",
       "    <tr>\n",
       "      <th>self-employed</th>\n",
       "      <td>125822.0</td>\n",
       "    </tr>\n",
       "    <tr>\n",
       "      <th>services</th>\n",
       "      <td>81209.5</td>\n",
       "    </tr>\n",
       "    <tr>\n",
       "      <th>student</th>\n",
       "      <td>120081.0</td>\n",
       "    </tr>\n",
       "    <tr>\n",
       "      <th>technician</th>\n",
       "      <td>100705.0</td>\n",
       "    </tr>\n",
       "    <tr>\n",
       "      <th>unemployed</th>\n",
       "      <td>126539.0</td>\n",
       "    </tr>\n",
       "    <tr>\n",
       "      <th>unknown</th>\n",
       "      <td>161942.0</td>\n",
       "    </tr>\n",
       "  </tbody>\n",
       "</table>\n",
       "</div>"
      ],
      "text/plain": [
       "               ars_balance\n",
       "job                       \n",
       "admin.             94725.0\n",
       "blue-collar        92811.0\n",
       "entrepreneur       84200.0\n",
       "housemaid          97117.0\n",
       "management        136825.0\n",
       "retired           188254.5\n",
       "self-employed     125822.0\n",
       "services           81209.5\n",
       "student           120081.0\n",
       "technician        100705.0\n",
       "unemployed        126539.0\n",
       "unknown           161942.0"
      ]
     },
     "execution_count": 218,
     "metadata": {},
     "output_type": "execute_result"
    }
   ],
   "source": [
    "groupeddf['ars_balance'] = groupeddf['ars_balance'].apply(lambda x: float(\"{:.2f}\".format(x)))\n",
    "groupeddf"
   ]
  },
  {
   "cell_type": "code",
   "execution_count": 219,
   "id": "62a7e629-f21f-4410-8ba0-455f8f4d115a",
   "metadata": {},
   "outputs": [],
   "source": [
    "groupeddf= groupeddf.drop('unknown')"
   ]
  },
  {
   "cell_type": "code",
   "execution_count": 220,
   "id": "dae7bf83-e849-4ef8-b888-f0a40dae1edd",
   "metadata": {},
   "outputs": [
    {
     "data": {
      "text/plain": [
       "(array([ 0,  1,  2,  3,  4,  5,  6,  7,  8,  9, 10]),\n",
       " [Text(0, 0, 'admin.'),\n",
       "  Text(1, 0, 'blue-collar'),\n",
       "  Text(2, 0, 'entrepreneur'),\n",
       "  Text(3, 0, 'housemaid'),\n",
       "  Text(4, 0, 'management'),\n",
       "  Text(5, 0, 'retired'),\n",
       "  Text(6, 0, 'self-employed'),\n",
       "  Text(7, 0, 'services'),\n",
       "  Text(8, 0, 'student'),\n",
       "  Text(9, 0, 'technician'),\n",
       "  Text(10, 0, 'unemployed')])"
      ]
     },
     "execution_count": 220,
     "metadata": {},
     "output_type": "execute_result"
    },
    {
     "data": {
      "image/png": "[encoded data removed]",
      "text/plain": [
       "<Figure size 600x400 with 1 Axes>"
      ]
     },
     "metadata": {},
     "output_type": "display_data"
    }
   ],
   "source": [
    "fig, ax = plt.subplots(figsize=(6,4))\n",
    "sns.barplot(data= groupeddf, x= groupeddf.index, y= groupeddf.ars_balance, palette= 'deep')\n",
    "plt.title('Mediana del balance en pesos argentinos por tipo de trabajo')\n",
    "plt.xticks(rotation=90)"
   ]
  },
  {
   "cell_type": "code",
   "execution_count": 221,
   "id": "21e7ac9a-923c-4b8a-89b9-d53898f05086",
   "metadata": {},
   "outputs": [
    {
     "data": {
      "text/plain": [
       "job\n",
       "admin.            631\n",
       "blue-collar       708\n",
       "entrepreneur      123\n",
       "housemaid         109\n",
       "management       1301\n",
       "retired           516\n",
       "self-employed     187\n",
       "services          369\n",
       "student           269\n",
       "technician        840\n",
       "unemployed        202\n",
       "unknown            34\n",
       "Name: p_fijo, dtype: int64"
      ]
     },
     "execution_count": 221,
     "metadata": {},
     "output_type": "execute_result"
    }
   ],
   "source": [
    "job_p_fijo_sum = df['p_fijo'].groupby(df['job']).sum()\n",
    "job_p_fijo_sum"
   ]
  },
  {
   "cell_type": "code",
   "execution_count": 222,
   "id": "9c0ee2ba-0f75-48b7-942b-76840fb5ca3e",
   "metadata": {},
   "outputs": [
    {
     "data": {
      "text/plain": [
       "Index(['p_fijo'], dtype='object')"
      ]
     },
     "execution_count": 222,
     "metadata": {},
     "output_type": "execute_result"
    }
   ],
   "source": [
    "job_p_fijo_sum = pd.DataFrame(job_p_fijo_sum)\n",
    "job_p_fijo_sum.columns"
   ]
  },
  {
   "cell_type": "code",
   "execution_count": 223,
   "id": "5768f7ec-1629-41bb-a049-4d70e06f7e3c",
   "metadata": {},
   "outputs": [
    {
     "data": {
      "text/plain": [
       "(array([ 0,  1,  2,  3,  4,  5,  6,  7,  8,  9, 10, 11]),\n",
       " [Text(0, 0, 'admin.'),\n",
       "  Text(1, 0, 'blue-collar'),\n",
       "  Text(2, 0, 'entrepreneur'),\n",
       "  Text(3, 0, 'housemaid'),\n",
       "  Text(4, 0, 'management'),\n",
       "  Text(5, 0, 'retired'),\n",
       "  Text(6, 0, 'self-employed'),\n",
       "  Text(7, 0, 'services'),\n",
       "  Text(8, 0, 'student'),\n",
       "  Text(9, 0, 'technician'),\n",
       "  Text(10, 0, 'unemployed'),\n",
       "  Text(11, 0, 'unknown')])"
      ]
     },
     "execution_count": 223,
     "metadata": {},
     "output_type": "execute_result"
    },
    {
     "data": {
      "image/png": "[encoded data removed]",
      "text/plain": [
       "<Figure size 640x480 with 1 Axes>"
      ]
     },
     "metadata": {},
     "output_type": "display_data"
    }
   ],
   "source": [
    "sns.barplot(data= job_p_fijo_sum, x= job_p_fijo_sum.index, y= job_p_fijo_sum.p_fijo, palette= 'deep')\n",
    "plt.title('Cantidad de depositos en plazo fijo por tipo de trabajo')\n",
    "plt.xticks(rotation=90)"
   ]
  },
  {
   "cell_type": "code",
   "execution_count": 224,
   "id": "a1251e57",
   "metadata": {},
   "outputs": [
    {
     "data": {
      "text/plain": [
       "True"
      ]
     },
     "execution_count": 224,
     "metadata": {},
     "output_type": "execute_result"
    }
   ],
   "source": [
    "import os\n",
    "from dotenv import load_dotenv\n",
    "load_dotenv()"
   ]
  },
  {
   "cell_type": "code",
   "execution_count": 225,
   "id": "3e5fee8f-4bf7-47f1-8c9a-e9d9c181f96a",
   "metadata": {},
   "outputs": [],
   "source": [
    "\n",
    "url = \"https://api.estadisticasbcra.com/plazo_fijo\"\n",
    "headers = {os.getenv('header1') : os.getenv('header2')}\n",
    "r = requests.get(url, headers=headers)"
   ]
  },
  {
   "cell_type": "code",
   "execution_count": 226,
   "id": "cbbdb0a0-36cc-42df-bfb6-09c22bea44c4",
   "metadata": {},
   "outputs": [],
   "source": [
    "r.text;"
   ]
  },
  {
   "cell_type": "code",
   "execution_count": 227,
   "id": "96832c38-d974-496d-902f-c3745cbe4342",
   "metadata": {},
   "outputs": [],
   "source": [
    "text = r.text\n",
    "json_bcra= json.loads(text)"
   ]
  },
  {
   "cell_type": "code",
   "execution_count": 228,
   "id": "af133add-0484-4b3f-a2a2-1ccf814063de",
   "metadata": {},
   "outputs": [
    {
     "data": {
      "text/html": [
       "<div>\n",
       "<style scoped>\n",
       "    .dataframe tbody tr th:only-of-type {\n",
       "        vertical-align: middle;\n",
       "    }\n",
       "\n",
       "    .dataframe tbody tr th {\n",
       "        vertical-align: top;\n",
       "    }\n",
       "\n",
       "    .dataframe thead th {\n",
       "        text-align: right;\n",
       "    }\n",
       "</style>\n",
       "<table border=\"1\" class=\"dataframe\">\n",
       "  <thead>\n",
       "    <tr style=\"text-align: right;\">\n",
       "      <th></th>\n",
       "      <th>d</th>\n",
       "      <th>v</th>\n",
       "    </tr>\n",
       "  </thead>\n",
       "  <tbody>\n",
       "    <tr>\n",
       "      <th>6721</th>\n",
       "      <td>2023-03-31</td>\n",
       "      <td>12675335</td>\n",
       "    </tr>\n",
       "    <tr>\n",
       "      <th>6722</th>\n",
       "      <td>2023-04-03</td>\n",
       "      <td>12607471</td>\n",
       "    </tr>\n",
       "    <tr>\n",
       "      <th>6723</th>\n",
       "      <td>2023-04-04</td>\n",
       "      <td>12638775</td>\n",
       "    </tr>\n",
       "    <tr>\n",
       "      <th>6724</th>\n",
       "      <td>2023-04-05</td>\n",
       "      <td>12714274</td>\n",
       "    </tr>\n",
       "    <tr>\n",
       "      <th>6725</th>\n",
       "      <td>2023-04-10</td>\n",
       "      <td>12499273</td>\n",
       "    </tr>\n",
       "  </tbody>\n",
       "</table>\n",
       "</div>"
      ],
      "text/plain": [
       "               d         v\n",
       "6721  2023-03-31  12675335\n",
       "6722  2023-04-03  12607471\n",
       "6723  2023-04-04  12638775\n",
       "6724  2023-04-05  12714274\n",
       "6725  2023-04-10  12499273"
      ]
     },
     "execution_count": 228,
     "metadata": {},
     "output_type": "execute_result"
    }
   ],
   "source": [
    "df2=pd.DataFrame(json_bcra)\n",
    "df2.tail()"
   ]
  },
  {
   "cell_type": "code",
   "execution_count": 229,
   "id": "cc1afdcd-4894-479b-a60f-071f11a27218",
   "metadata": {},
   "outputs": [],
   "source": [
    "df2.rename(columns={'d' : 'fecha','v': 'p_fijo'}, inplace = True)"
   ]
  },
  {
   "cell_type": "code",
   "execution_count": 230,
   "id": "46316fc6-8ad9-4683-bdd5-654863b5d405",
   "metadata": {},
   "outputs": [],
   "source": [
    "df2['fecha'] =  pd.to_datetime(df2['fecha'], format='%Y-%m-%d')"
   ]
  },
  {
   "cell_type": "code",
   "execution_count": 231,
   "id": "36c257ac-0526-4edd-ac45-8d48430938b7",
   "metadata": {},
   "outputs": [
    {
     "data": {
      "text/html": [
       "<div>\n",
       "<style scoped>\n",
       "    .dataframe tbody tr th:only-of-type {\n",
       "        vertical-align: middle;\n",
       "    }\n",
       "\n",
       "    .dataframe tbody tr th {\n",
       "        vertical-align: top;\n",
       "    }\n",
       "\n",
       "    .dataframe thead th {\n",
       "        text-align: right;\n",
       "    }\n",
       "</style>\n",
       "<table border=\"1\" class=\"dataframe\">\n",
       "  <thead>\n",
       "    <tr style=\"text-align: right;\">\n",
       "      <th></th>\n",
       "      <th>fecha</th>\n",
       "      <th>p_fijo</th>\n",
       "    </tr>\n",
       "  </thead>\n",
       "  <tbody>\n",
       "    <tr>\n",
       "      <th>0</th>\n",
       "      <td>1996-01-02</td>\n",
       "      <td>26134</td>\n",
       "    </tr>\n",
       "    <tr>\n",
       "      <th>1</th>\n",
       "      <td>1996-01-03</td>\n",
       "      <td>26014</td>\n",
       "    </tr>\n",
       "    <tr>\n",
       "      <th>2</th>\n",
       "      <td>1996-01-04</td>\n",
       "      <td>26251</td>\n",
       "    </tr>\n",
       "    <tr>\n",
       "      <th>3</th>\n",
       "      <td>1996-01-05</td>\n",
       "      <td>26432</td>\n",
       "    </tr>\n",
       "    <tr>\n",
       "      <th>4</th>\n",
       "      <td>1996-01-08</td>\n",
       "      <td>26472</td>\n",
       "    </tr>\n",
       "    <tr>\n",
       "      <th>...</th>\n",
       "      <td>...</td>\n",
       "      <td>...</td>\n",
       "    </tr>\n",
       "    <tr>\n",
       "      <th>6721</th>\n",
       "      <td>2023-03-31</td>\n",
       "      <td>12675335</td>\n",
       "    </tr>\n",
       "    <tr>\n",
       "      <th>6722</th>\n",
       "      <td>2023-04-03</td>\n",
       "      <td>12607471</td>\n",
       "    </tr>\n",
       "    <tr>\n",
       "      <th>6723</th>\n",
       "      <td>2023-04-04</td>\n",
       "      <td>12638775</td>\n",
       "    </tr>\n",
       "    <tr>\n",
       "      <th>6724</th>\n",
       "      <td>2023-04-05</td>\n",
       "      <td>12714274</td>\n",
       "    </tr>\n",
       "    <tr>\n",
       "      <th>6725</th>\n",
       "      <td>2023-04-10</td>\n",
       "      <td>12499273</td>\n",
       "    </tr>\n",
       "  </tbody>\n",
       "</table>\n",
       "<p>6726 rows × 2 columns</p>\n",
       "</div>"
      ],
      "text/plain": [
       "          fecha    p_fijo\n",
       "0    1996-01-02     26134\n",
       "1    1996-01-03     26014\n",
       "2    1996-01-04     26251\n",
       "3    1996-01-05     26432\n",
       "4    1996-01-08     26472\n",
       "...         ...       ...\n",
       "6721 2023-03-31  12675335\n",
       "6722 2023-04-03  12607471\n",
       "6723 2023-04-04  12638775\n",
       "6724 2023-04-05  12714274\n",
       "6725 2023-04-10  12499273\n",
       "\n",
       "[6726 rows x 2 columns]"
      ]
     },
     "execution_count": 231,
     "metadata": {},
     "output_type": "execute_result"
    }
   ],
   "source": [
    "df2"
   ]
  },
  {
   "cell_type": "code",
   "execution_count": 232,
   "id": "6d4a221f-bf96-489c-a889-8d7835f0de86",
   "metadata": {},
   "outputs": [
    {
     "data": {
      "text/plain": [
       "pandas._libs.tslibs.timestamps.Timestamp"
      ]
     },
     "execution_count": 232,
     "metadata": {},
     "output_type": "execute_result"
    }
   ],
   "source": [
    "type(df2.fecha[0])"
   ]
  },
  {
   "cell_type": "code",
   "execution_count": 233,
   "id": "63ede851-bbfa-430d-8661-facb0babd2a1",
   "metadata": {},
   "outputs": [],
   "source": [
    "df2['year'] = df2['fecha'].dt.to_period('Y')"
   ]
  },
  {
   "cell_type": "code",
   "execution_count": 234,
   "id": "9173dc4b-73fc-4b8d-98f2-afd10df7b497",
   "metadata": {},
   "outputs": [],
   "source": [
    "groupeddf2= df2.groupby('year').first()"
   ]
  },
  {
   "cell_type": "code",
   "execution_count": 235,
   "id": "cec91955-0c06-4956-ac7b-1e94719fb056",
   "metadata": {},
   "outputs": [],
   "source": [
    "groupeddf2.reset_index(inplace= True)"
   ]
  },
  {
   "cell_type": "code",
   "execution_count": 236,
   "id": "b60daeb9-bdbd-4e12-9d95-46aed98f5cc6",
   "metadata": {},
   "outputs": [
    {
     "data": {
      "text/html": [
       "<div>\n",
       "<style scoped>\n",
       "    .dataframe tbody tr th:only-of-type {\n",
       "        vertical-align: middle;\n",
       "    }\n",
       "\n",
       "    .dataframe tbody tr th {\n",
       "        vertical-align: top;\n",
       "    }\n",
       "\n",
       "    .dataframe thead th {\n",
       "        text-align: right;\n",
       "    }\n",
       "</style>\n",
       "<table border=\"1\" class=\"dataframe\">\n",
       "  <thead>\n",
       "    <tr style=\"text-align: right;\">\n",
       "      <th></th>\n",
       "      <th>year</th>\n",
       "      <th>fecha</th>\n",
       "      <th>p_fijo</th>\n",
       "    </tr>\n",
       "  </thead>\n",
       "  <tbody>\n",
       "    <tr>\n",
       "      <th>0</th>\n",
       "      <td>1996</td>\n",
       "      <td>1996-01-02</td>\n",
       "      <td>26134</td>\n",
       "    </tr>\n",
       "    <tr>\n",
       "      <th>1</th>\n",
       "      <td>1997</td>\n",
       "      <td>1997-01-02</td>\n",
       "      <td>31063</td>\n",
       "    </tr>\n",
       "    <tr>\n",
       "      <th>2</th>\n",
       "      <td>1998</td>\n",
       "      <td>1998-01-02</td>\n",
       "      <td>41465</td>\n",
       "    </tr>\n",
       "    <tr>\n",
       "      <th>3</th>\n",
       "      <td>1999</td>\n",
       "      <td>1999-01-04</td>\n",
       "      <td>47203</td>\n",
       "    </tr>\n",
       "    <tr>\n",
       "      <th>4</th>\n",
       "      <td>2000</td>\n",
       "      <td>2000-01-03</td>\n",
       "      <td>51103</td>\n",
       "    </tr>\n",
       "    <tr>\n",
       "      <th>5</th>\n",
       "      <td>2001</td>\n",
       "      <td>2001-01-02</td>\n",
       "      <td>55496</td>\n",
       "    </tr>\n",
       "    <tr>\n",
       "      <th>6</th>\n",
       "      <td>2002</td>\n",
       "      <td>2002-01-02</td>\n",
       "      <td>27630</td>\n",
       "    </tr>\n",
       "    <tr>\n",
       "      <th>7</th>\n",
       "      <td>2003</td>\n",
       "      <td>2003-01-02</td>\n",
       "      <td>21746</td>\n",
       "    </tr>\n",
       "    <tr>\n",
       "      <th>8</th>\n",
       "      <td>2004</td>\n",
       "      <td>2004-01-02</td>\n",
       "      <td>38165</td>\n",
       "    </tr>\n",
       "    <tr>\n",
       "      <th>9</th>\n",
       "      <td>2005</td>\n",
       "      <td>2005-01-03</td>\n",
       "      <td>46113</td>\n",
       "    </tr>\n",
       "    <tr>\n",
       "      <th>10</th>\n",
       "      <td>2006</td>\n",
       "      <td>2006-01-02</td>\n",
       "      <td>55338</td>\n",
       "    </tr>\n",
       "    <tr>\n",
       "      <th>11</th>\n",
       "      <td>2007</td>\n",
       "      <td>2007-01-02</td>\n",
       "      <td>75916</td>\n",
       "    </tr>\n",
       "    <tr>\n",
       "      <th>12</th>\n",
       "      <td>2008</td>\n",
       "      <td>2008-01-02</td>\n",
       "      <td>84913</td>\n",
       "    </tr>\n",
       "    <tr>\n",
       "      <th>13</th>\n",
       "      <td>2009</td>\n",
       "      <td>2009-01-02</td>\n",
       "      <td>96627</td>\n",
       "    </tr>\n",
       "    <tr>\n",
       "      <th>14</th>\n",
       "      <td>2010</td>\n",
       "      <td>2010-01-04</td>\n",
       "      <td>109878</td>\n",
       "    </tr>\n",
       "    <tr>\n",
       "      <th>15</th>\n",
       "      <td>2011</td>\n",
       "      <td>2011-01-03</td>\n",
       "      <td>151131</td>\n",
       "    </tr>\n",
       "    <tr>\n",
       "      <th>16</th>\n",
       "      <td>2012</td>\n",
       "      <td>2012-01-03</td>\n",
       "      <td>193733</td>\n",
       "    </tr>\n",
       "    <tr>\n",
       "      <th>17</th>\n",
       "      <td>2013</td>\n",
       "      <td>2013-01-02</td>\n",
       "      <td>243857</td>\n",
       "    </tr>\n",
       "    <tr>\n",
       "      <th>18</th>\n",
       "      <td>2014</td>\n",
       "      <td>2014-01-02</td>\n",
       "      <td>307476</td>\n",
       "    </tr>\n",
       "    <tr>\n",
       "      <th>19</th>\n",
       "      <td>2015</td>\n",
       "      <td>2015-01-02</td>\n",
       "      <td>386796</td>\n",
       "    </tr>\n",
       "    <tr>\n",
       "      <th>20</th>\n",
       "      <td>2016</td>\n",
       "      <td>2016-01-04</td>\n",
       "      <td>576073</td>\n",
       "    </tr>\n",
       "    <tr>\n",
       "      <th>21</th>\n",
       "      <td>2017</td>\n",
       "      <td>2017-01-02</td>\n",
       "      <td>697919</td>\n",
       "    </tr>\n",
       "    <tr>\n",
       "      <th>22</th>\n",
       "      <td>2018</td>\n",
       "      <td>2018-01-02</td>\n",
       "      <td>862233</td>\n",
       "    </tr>\n",
       "    <tr>\n",
       "      <th>23</th>\n",
       "      <td>2019</td>\n",
       "      <td>2019-01-02</td>\n",
       "      <td>1604639</td>\n",
       "    </tr>\n",
       "    <tr>\n",
       "      <th>24</th>\n",
       "      <td>2020</td>\n",
       "      <td>2020-01-02</td>\n",
       "      <td>1864495</td>\n",
       "    </tr>\n",
       "    <tr>\n",
       "      <th>25</th>\n",
       "      <td>2021</td>\n",
       "      <td>2021-01-04</td>\n",
       "      <td>3261576</td>\n",
       "    </tr>\n",
       "    <tr>\n",
       "      <th>26</th>\n",
       "      <td>2022</td>\n",
       "      <td>2022-01-03</td>\n",
       "      <td>4918604</td>\n",
       "    </tr>\n",
       "    <tr>\n",
       "      <th>27</th>\n",
       "      <td>2023</td>\n",
       "      <td>2023-01-02</td>\n",
       "      <td>10360334</td>\n",
       "    </tr>\n",
       "  </tbody>\n",
       "</table>\n",
       "</div>"
      ],
      "text/plain": [
       "    year      fecha    p_fijo\n",
       "0   1996 1996-01-02     26134\n",
       "1   1997 1997-01-02     31063\n",
       "2   1998 1998-01-02     41465\n",
       "3   1999 1999-01-04     47203\n",
       "4   2000 2000-01-03     51103\n",
       "5   2001 2001-01-02     55496\n",
       "6   2002 2002-01-02     27630\n",
       "7   2003 2003-01-02     21746\n",
       "8   2004 2004-01-02     38165\n",
       "9   2005 2005-01-03     46113\n",
       "10  2006 2006-01-02     55338\n",
       "11  2007 2007-01-02     75916\n",
       "12  2008 2008-01-02     84913\n",
       "13  2009 2009-01-02     96627\n",
       "14  2010 2010-01-04    109878\n",
       "15  2011 2011-01-03    151131\n",
       "16  2012 2012-01-03    193733\n",
       "17  2013 2013-01-02    243857\n",
       "18  2014 2014-01-02    307476\n",
       "19  2015 2015-01-02    386796\n",
       "20  2016 2016-01-04    576073\n",
       "21  2017 2017-01-02    697919\n",
       "22  2018 2018-01-02    862233\n",
       "23  2019 2019-01-02   1604639\n",
       "24  2020 2020-01-02   1864495\n",
       "25  2021 2021-01-04   3261576\n",
       "26  2022 2022-01-03   4918604\n",
       "27  2023 2023-01-02  10360334"
      ]
     },
     "execution_count": 236,
     "metadata": {},
     "output_type": "execute_result"
    }
   ],
   "source": [
    "groupeddf2"
   ]
  },
  {
   "cell_type": "code",
   "execution_count": 237,
   "id": "1b4206ed-b1ee-4ed3-977c-ee6b814b0a5a",
   "metadata": {},
   "outputs": [],
   "source": [
    "df2.year= df2.year.astype(str)"
   ]
  },
  {
   "cell_type": "code",
   "execution_count": 238,
   "id": "f7a84da9-e0a4-421f-b53c-b05b4c34893d",
   "metadata": {},
   "outputs": [],
   "source": [
    "groupeddf2.p_fijo = groupeddf2.p_fijo.astype(int)\n",
    "groupeddf2.year= groupeddf2.year.astype(str)"
   ]
  },
  {
   "cell_type": "code",
   "execution_count": 239,
   "id": "e0b1c99c-3b2c-480b-9bd2-dc0af39125ec",
   "metadata": {},
   "outputs": [
    {
     "data": {
      "image/png": "[encoded data removed]",
      "text/plain": [
       "<Figure size 600x400 with 1 Axes>"
      ]
     },
     "metadata": {},
     "output_type": "display_data"
    }
   ],
   "source": [
    "from matplotlib.ticker import FuncFormatter\n",
    "\n",
    "fig, ax = plt.subplots(figsize=(6,4))\n",
    "plt.style.use('_mpl-gallery')\n",
    "\n",
    "plt.plot(groupeddf2.year,groupeddf2.p_fijo)\n",
    "\n",
    "plt.title('Cantidad de plazos fijos por año en Argentina')\n",
    "\n",
    "plt.ylabel('Cantidad de plazos fijos')\n",
    "\n",
    "plt.xlabel('Años')\n",
    "\n",
    "plt.ticklabel_format(axis=\"y\", style='plain')\n",
    "\n",
    "plt.xticks(rotation=90);"
   ]
  },
  {
   "cell_type": "markdown",
   "id": "45213e34-b2ab-4265-8da1-bca22a83540e",
   "metadata": {},
   "source": [
    "# Desafío de Data Storytelling 28/03/23"
   ]
  },
  {
   "cell_type": "markdown",
   "id": "4efa293d-9454-4461-8ee9-ba3a4c71efa9",
   "metadata": {},
   "source": [
    "En cuanto a las campañas de marketing directo, ¿cuál fue la más efectiva, es decir, cuál de todas generó mayor depósitos en plazo fijo?"
   ]
  },
  {
   "cell_type": "markdown",
   "id": "575eb75b-207b-41aa-b0c5-e86fe5dea11a",
   "metadata": {},
   "source": [
    ">Primero veamos la frecuencia que tuvieron las campañas"
   ]
  },
  {
   "cell_type": "code",
   "execution_count": 240,
   "id": "9b2f1b2a-0fd4-4836-9efe-be4113d76f66",
   "metadata": {},
   "outputs": [
    {
     "data": {
      "text/plain": [
       "1    17544\n",
       "2    12505\n",
       "3     5521\n",
       "4     3522\n",
       "5     1764\n",
       "Name: campaign, dtype: int64"
      ]
     },
     "execution_count": 240,
     "metadata": {},
     "output_type": "execute_result"
    }
   ],
   "source": [
    "df.campaign.value_counts().head(5)"
   ]
  },
  {
   "cell_type": "markdown",
   "id": "3907a96c-519d-491d-8e87-20913cb3c81c",
   "metadata": {},
   "source": [
    "Podemos ver que la campaña con más frecuencia, fue la 1, luego la 2, la 3 y así sucesivamente."
   ]
  },
  {
   "cell_type": "markdown",
   "id": "e404b50d-97f9-43b4-b1a2-8c295d315534",
   "metadata": {},
   "source": [
    "> Veamos ahora que campaña fue más efectiva, es decir, que mayor cantidad de plazos fijos tiene, vamos a aprovechar para cruzar variables"
   ]
  },
  {
   "cell_type": "code",
   "execution_count": 241,
   "id": "1b08ce80-d157-4a25-8947-b1b0fd29c1bb",
   "metadata": {},
   "outputs": [
    {
     "data": {
      "text/html": [
       "<div>\n",
       "<style scoped>\n",
       "    .dataframe tbody tr th:only-of-type {\n",
       "        vertical-align: middle;\n",
       "    }\n",
       "\n",
       "    .dataframe tbody tr th {\n",
       "        vertical-align: top;\n",
       "    }\n",
       "\n",
       "    .dataframe thead th {\n",
       "        text-align: right;\n",
       "    }\n",
       "</style>\n",
       "<table border=\"1\" class=\"dataframe\">\n",
       "  <thead>\n",
       "    <tr style=\"text-align: right;\">\n",
       "      <th></th>\n",
       "      <th>campaign</th>\n",
       "      <th>job</th>\n",
       "      <th>age</th>\n",
       "      <th>balance</th>\n",
       "      <th>housing</th>\n",
       "      <th>loan</th>\n",
       "      <th>day</th>\n",
       "      <th>duration</th>\n",
       "      <th>pdays</th>\n",
       "      <th>previous</th>\n",
       "      <th>p_fijo</th>\n",
       "    </tr>\n",
       "  </thead>\n",
       "  <tbody>\n",
       "    <tr>\n",
       "      <th>0</th>\n",
       "      <td>1</td>\n",
       "      <td>admin.</td>\n",
       "      <td>87841</td>\n",
       "      <td>2627674</td>\n",
       "      <td>1413</td>\n",
       "      <td>418</td>\n",
       "      <td>33616</td>\n",
       "      <td>558732</td>\n",
       "      <td>123257</td>\n",
       "      <td>1498</td>\n",
       "      <td>339</td>\n",
       "    </tr>\n",
       "    <tr>\n",
       "      <th>1</th>\n",
       "      <td>1</td>\n",
       "      <td>blue-collar</td>\n",
       "      <td>144053</td>\n",
       "      <td>4022331</td>\n",
       "      <td>2726</td>\n",
       "      <td>635</td>\n",
       "      <td>52527</td>\n",
       "      <td>971792</td>\n",
       "      <td>186590</td>\n",
       "      <td>1846</td>\n",
       "      <td>322</td>\n",
       "    </tr>\n",
       "    <tr>\n",
       "      <th>2</th>\n",
       "      <td>1</td>\n",
       "      <td>entrepreneur</td>\n",
       "      <td>24129</td>\n",
       "      <td>904218</td>\n",
       "      <td>349</td>\n",
       "      <td>129</td>\n",
       "      <td>8332</td>\n",
       "      <td>147663</td>\n",
       "      <td>22447</td>\n",
       "      <td>290</td>\n",
       "      <td>48</td>\n",
       "    </tr>\n",
       "    <tr>\n",
       "      <th>3</th>\n",
       "      <td>1</td>\n",
       "      <td>housemaid</td>\n",
       "      <td>20240</td>\n",
       "      <td>576711</td>\n",
       "      <td>147</td>\n",
       "      <td>45</td>\n",
       "      <td>6250</td>\n",
       "      <td>107081</td>\n",
       "      <td>12784</td>\n",
       "      <td>169</td>\n",
       "      <td>47</td>\n",
       "    </tr>\n",
       "    <tr>\n",
       "      <th>4</th>\n",
       "      <td>1</td>\n",
       "      <td>management</td>\n",
       "      <td>139862</td>\n",
       "      <td>6470752</td>\n",
       "      <td>1875</td>\n",
       "      <td>496</td>\n",
       "      <td>51762</td>\n",
       "      <td>903054</td>\n",
       "      <td>177292</td>\n",
       "      <td>2512</td>\n",
       "      <td>589</td>\n",
       "    </tr>\n",
       "    <tr>\n",
       "      <th>...</th>\n",
       "      <td>...</td>\n",
       "      <td>...</td>\n",
       "      <td>...</td>\n",
       "      <td>...</td>\n",
       "      <td>...</td>\n",
       "      <td>...</td>\n",
       "      <td>...</td>\n",
       "      <td>...</td>\n",
       "      <td>...</td>\n",
       "      <td>...</td>\n",
       "      <td>...</td>\n",
       "    </tr>\n",
       "    <tr>\n",
       "      <th>322</th>\n",
       "      <td>50</td>\n",
       "      <td>blue-collar</td>\n",
       "      <td>70</td>\n",
       "      <td>710</td>\n",
       "      <td>2</td>\n",
       "      <td>1</td>\n",
       "      <td>54</td>\n",
       "      <td>212</td>\n",
       "      <td>-2</td>\n",
       "      <td>0</td>\n",
       "      <td>0</td>\n",
       "    </tr>\n",
       "    <tr>\n",
       "      <th>323</th>\n",
       "      <td>51</td>\n",
       "      <td>management</td>\n",
       "      <td>30</td>\n",
       "      <td>358</td>\n",
       "      <td>1</td>\n",
       "      <td>0</td>\n",
       "      <td>19</td>\n",
       "      <td>88</td>\n",
       "      <td>-1</td>\n",
       "      <td>0</td>\n",
       "      <td>0</td>\n",
       "    </tr>\n",
       "    <tr>\n",
       "      <th>324</th>\n",
       "      <td>55</td>\n",
       "      <td>technician</td>\n",
       "      <td>35</td>\n",
       "      <td>432</td>\n",
       "      <td>1</td>\n",
       "      <td>0</td>\n",
       "      <td>21</td>\n",
       "      <td>1094</td>\n",
       "      <td>-1</td>\n",
       "      <td>0</td>\n",
       "      <td>0</td>\n",
       "    </tr>\n",
       "    <tr>\n",
       "      <th>325</th>\n",
       "      <td>58</td>\n",
       "      <td>technician</td>\n",
       "      <td>24</td>\n",
       "      <td>126</td>\n",
       "      <td>1</td>\n",
       "      <td>0</td>\n",
       "      <td>20</td>\n",
       "      <td>10</td>\n",
       "      <td>-1</td>\n",
       "      <td>0</td>\n",
       "      <td>0</td>\n",
       "    </tr>\n",
       "    <tr>\n",
       "      <th>326</th>\n",
       "      <td>63</td>\n",
       "      <td>management</td>\n",
       "      <td>45</td>\n",
       "      <td>9051</td>\n",
       "      <td>1</td>\n",
       "      <td>0</td>\n",
       "      <td>19</td>\n",
       "      <td>124</td>\n",
       "      <td>-1</td>\n",
       "      <td>0</td>\n",
       "      <td>0</td>\n",
       "    </tr>\n",
       "  </tbody>\n",
       "</table>\n",
       "<p>327 rows × 11 columns</p>\n",
       "</div>"
      ],
      "text/plain": [
       "     campaign           job     age  balance  housing  loan    day  duration  \\\n",
       "0           1        admin.   87841  2627674     1413   418  33616    558732   \n",
       "1           1   blue-collar  144053  4022331     2726   635  52527    971792   \n",
       "2           1  entrepreneur   24129   904218      349   129   8332    147663   \n",
       "3           1     housemaid   20240   576711      147    45   6250    107081   \n",
       "4           1    management  139862  6470752     1875   496  51762    903054   \n",
       "..        ...           ...     ...      ...      ...   ...    ...       ...   \n",
       "322        50   blue-collar      70      710        2     1     54       212   \n",
       "323        51    management      30      358        1     0     19        88   \n",
       "324        55    technician      35      432        1     0     21      1094   \n",
       "325        58    technician      24      126        1     0     20        10   \n",
       "326        63    management      45     9051        1     0     19       124   \n",
       "\n",
       "      pdays  previous  p_fijo  \n",
       "0    123257      1498     339  \n",
       "1    186590      1846     322  \n",
       "2     22447       290      48  \n",
       "3     12784       169      47  \n",
       "4    177292      2512     589  \n",
       "..      ...       ...     ...  \n",
       "322      -2         0       0  \n",
       "323      -1         0       0  \n",
       "324      -1         0       0  \n",
       "325      -1         0       0  \n",
       "326      -1         0       0  \n",
       "\n",
       "[327 rows x 11 columns]"
      ]
     },
     "execution_count": 241,
     "metadata": {},
     "output_type": "execute_result"
    }
   ],
   "source": [
    "campañas_trabajo= df.groupby(['campaign', 'job']).sum(numeric_only=True).reset_index()\n",
    "campañas_trabajo"
   ]
  },
  {
   "cell_type": "code",
   "execution_count": 242,
   "id": "19552d6a-61df-477b-96e6-246025578936",
   "metadata": {},
   "outputs": [],
   "source": [
    "campañas_trabajo = campañas_trabajo[campañas_trabajo['campaign'] <= 4]"
   ]
  },
  {
   "cell_type": "code",
   "execution_count": 243,
   "id": "066b88ce-57fa-4553-90ec-83481168adb4",
   "metadata": {},
   "outputs": [
    {
     "data": {
      "application/vnd.plotly.v1+json": {
       "config": {
        "plotlyServerURL": "https://plot.ly"
       },
       "data": [
        {
         "alignmentgroup": "True",
         "hovertemplate": "trabajos=admin.<br>Campañas=%{x}<br>cant. de plazos fijos=%{y}<extra></extra>",
         "legendgroup": "admin.",
         "marker": {
          "color": "#636efa",
          "pattern": {
           "shape": ""
          }
         },
         "name": "admin.",
         "offsetgroup": "admin.",
         "orientation": "v",
         "showlegend": true,
         "textposition": "auto",
         "type": "bar",
         "x": [
          1,
          2,
          3,
          4
         ],
         "xaxis": "x",
         "y": [
          339,
          157,
          59,
          37
         ],
         "yaxis": "y"
        },
        {
         "alignmentgroup": "True",
         "hovertemplate": "trabajos=blue-collar<br>Campañas=%{x}<br>cant. de plazos fijos=%{y}<extra></extra>",
         "legendgroup": "blue-collar",
         "marker": {
          "color": "#EF553B",
          "pattern": {
           "shape": ""
          }
         },
         "name": "blue-collar",
         "offsetgroup": "blue-collar",
         "orientation": "v",
         "showlegend": true,
         "textposition": "auto",
         "type": "bar",
         "x": [
          1,
          2,
          3,
          4
         ],
         "xaxis": "x",
         "y": [
          322,
          198,
          86,
          45
         ],
         "yaxis": "y"
        },
        {
         "alignmentgroup": "True",
         "hovertemplate": "trabajos=entrepreneur<br>Campañas=%{x}<br>cant. de plazos fijos=%{y}<extra></extra>",
         "legendgroup": "entrepreneur",
         "marker": {
          "color": "#00cc96",
          "pattern": {
           "shape": ""
          }
         },
         "name": "entrepreneur",
         "offsetgroup": "entrepreneur",
         "orientation": "v",
         "showlegend": true,
         "textposition": "auto",
         "type": "bar",
         "x": [
          1,
          2,
          3,
          4
         ],
         "xaxis": "x",
         "y": [
          48,
          33,
          15,
          12
         ],
         "yaxis": "y"
        },
        {
         "alignmentgroup": "True",
         "hovertemplate": "trabajos=housemaid<br>Campañas=%{x}<br>cant. de plazos fijos=%{y}<extra></extra>",
         "legendgroup": "housemaid",
         "marker": {
          "color": "#ab63fa",
          "pattern": {
           "shape": ""
          }
         },
         "name": "housemaid",
         "offsetgroup": "housemaid",
         "orientation": "v",
         "showlegend": true,
         "textposition": "auto",
         "type": "bar",
         "x": [
          1,
          2,
          3,
          4
         ],
         "xaxis": "x",
         "y": [
          47,
          29,
          16,
          4
         ],
         "yaxis": "y"
        },
        {
         "alignmentgroup": "True",
         "hovertemplate": "trabajos=management<br>Campañas=%{x}<br>cant. de plazos fijos=%{y}<extra></extra>",
         "legendgroup": "management",
         "marker": {
          "color": "#FFA15A",
          "pattern": {
           "shape": ""
          }
         },
         "name": "management",
         "offsetgroup": "management",
         "orientation": "v",
         "showlegend": true,
         "textposition": "auto",
         "type": "bar",
         "x": [
          1,
          2,
          3,
          4
         ],
         "xaxis": "x",
         "y": [
          589,
          358,
          151,
          84
         ],
         "yaxis": "y"
        },
        {
         "alignmentgroup": "True",
         "hovertemplate": "trabajos=retired<br>Campañas=%{x}<br>cant. de plazos fijos=%{y}<extra></extra>",
         "legendgroup": "retired",
         "marker": {
          "color": "#19d3f3",
          "pattern": {
           "shape": ""
          }
         },
         "name": "retired",
         "offsetgroup": "retired",
         "orientation": "v",
         "showlegend": true,
         "textposition": "auto",
         "type": "bar",
         "x": [
          1,
          2,
          3,
          4
         ],
         "xaxis": "x",
         "y": [
          284,
          135,
          46,
          27
         ],
         "yaxis": "y"
        },
        {
         "alignmentgroup": "True",
         "hovertemplate": "trabajos=self-employed<br>Campañas=%{x}<br>cant. de plazos fijos=%{y}<extra></extra>",
         "legendgroup": "self-employed",
         "marker": {
          "color": "#FF6692",
          "pattern": {
           "shape": ""
          }
         },
         "name": "self-employed",
         "offsetgroup": "self-employed",
         "orientation": "v",
         "showlegend": true,
         "textposition": "auto",
         "type": "bar",
         "x": [
          1,
          2,
          3,
          4
         ],
         "xaxis": "x",
         "y": [
          99,
          42,
          23,
          11
         ],
         "yaxis": "y"
        },
        {
         "alignmentgroup": "True",
         "hovertemplate": "trabajos=services<br>Campañas=%{x}<br>cant. de plazos fijos=%{y}<extra></extra>",
         "legendgroup": "services",
         "marker": {
          "color": "#B6E880",
          "pattern": {
           "shape": ""
          }
         },
         "name": "services",
         "offsetgroup": "services",
         "orientation": "v",
         "showlegend": true,
         "textposition": "auto",
         "type": "bar",
         "x": [
          1,
          2,
          3,
          4
         ],
         "xaxis": "x",
         "y": [
          176,
          100,
          42,
          27
         ],
         "yaxis": "y"
        },
        {
         "alignmentgroup": "True",
         "hovertemplate": "trabajos=student<br>Campañas=%{x}<br>cant. de plazos fijos=%{y}<extra></extra>",
         "legendgroup": "student",
         "marker": {
          "color": "#FF97FF",
          "pattern": {
           "shape": ""
          }
         },
         "name": "student",
         "offsetgroup": "student",
         "orientation": "v",
         "showlegend": true,
         "textposition": "auto",
         "type": "bar",
         "x": [
          1,
          2,
          3,
          4
         ],
         "xaxis": "x",
         "y": [
          146,
          58,
          33,
          13
         ],
         "yaxis": "y"
        },
        {
         "alignmentgroup": "True",
         "hovertemplate": "trabajos=technician<br>Campañas=%{x}<br>cant. de plazos fijos=%{y}<extra></extra>",
         "legendgroup": "technician",
         "marker": {
          "color": "#FECB52",
          "pattern": {
           "shape": ""
          }
         },
         "name": "technician",
         "offsetgroup": "technician",
         "orientation": "v",
         "showlegend": true,
         "textposition": "auto",
         "type": "bar",
         "x": [
          1,
          2,
          3,
          4
         ],
         "xaxis": "x",
         "y": [
          386,
          235,
          115,
          46
         ],
         "yaxis": "y"
        },
        {
         "alignmentgroup": "True",
         "hovertemplate": "trabajos=unemployed<br>Campañas=%{x}<br>cant. de plazos fijos=%{y}<extra></extra>",
         "legendgroup": "unemployed",
         "marker": {
          "color": "#636efa",
          "pattern": {
           "shape": ""
          }
         },
         "name": "unemployed",
         "offsetgroup": "unemployed",
         "orientation": "v",
         "showlegend": true,
         "textposition": "auto",
         "type": "bar",
         "x": [
          1,
          2,
          3,
          4
         ],
         "xaxis": "x",
         "y": [
          105,
          50,
          27,
          9
         ],
         "yaxis": "y"
        },
        {
         "alignmentgroup": "True",
         "hovertemplate": "trabajos=unknown<br>Campañas=%{x}<br>cant. de plazos fijos=%{y}<extra></extra>",
         "legendgroup": "unknown",
         "marker": {
          "color": "#EF553B",
          "pattern": {
           "shape": ""
          }
         },
         "name": "unknown",
         "offsetgroup": "unknown",
         "orientation": "v",
         "showlegend": true,
         "textposition": "auto",
         "type": "bar",
         "x": [
          1,
          2,
          3,
          4
         ],
         "xaxis": "x",
         "y": [
          20,
          6,
          5,
          2
         ],
         "yaxis": "y"
        }
       ],
       "layout": {
        "barmode": "relative",
        "legend": {
         "title": {
          "text": "trabajos"
         },
         "tracegroupgap": 0
        },
        "template": {
         "data": {
          "bar": [
           {
            "error_x": {
             "color": "#2a3f5f"
            },
            "error_y": {
             "color": "#2a3f5f"
            },
            "marker": {
             "line": {
              "color": "#E5ECF6",
              "width": 0.5
             },
             "pattern": {
              "fillmode": "overlay",
              "size": 10,
              "solidity": 0.2
             }
            },
            "type": "bar"
           }
          ],
          "barpolar": [
           {
            "marker": {
             "line": {
              "color": "#E5ECF6",
              "width": 0.5
             },
             "pattern": {
              "fillmode": "overlay",
              "size": 10,
              "solidity": 0.2
             }
            },
            "type": "barpolar"
           }
          ],
          "carpet": [
           {
            "aaxis": {
             "endlinecolor": "#2a3f5f",
             "gridcolor": "white",
             "linecolor": "white",
             "minorgridcolor": "white",
             "startlinecolor": "#2a3f5f"
            },
            "baxis": {
             "endlinecolor": "#2a3f5f",
             "gridcolor": "white",
             "linecolor": "white",
             "minorgridcolor": "white",
             "startlinecolor": "#2a3f5f"
            },
            "type": "carpet"
           }
          ],
          "choropleth": [
           {
            "colorbar": {
             "outlinewidth": 0,
             "ticks": ""
            },
            "type": "choropleth"
           }
          ],
          "contour": [
           {
            "colorbar": {
             "outlinewidth": 0,
             "ticks": ""
            },
            "colorscale": [
             [
              0,
              "#0d0887"
             ],
             [
              0.1111111111111111,
              "#46039f"
             ],
             [
              0.2222222222222222,
              "#7201a8"
             ],
             [
              0.3333333333333333,
              "#9c179e"
             ],
             [
              0.4444444444444444,
              "#bd3786"
             ],
             [
              0.5555555555555556,
              "#d8576b"
             ],
             [
              0.6666666666666666,
              "#ed7953"
             ],
             [
              0.7777777777777778,
              "#fb9f3a"
             ],
             [
              0.8888888888888888,
              "#fdca26"
             ],
             [
              1,
              "#f0f921"
             ]
            ],
            "type": "contour"
           }
          ],
          "contourcarpet": [
           {
            "colorbar": {
             "outlinewidth": 0,
             "ticks": ""
            },
            "type": "contourcarpet"
           }
          ],
          "heatmap": [
           {
            "colorbar": {
             "outlinewidth": 0,
             "ticks": ""
            },
            "colorscale": [
             [
              0,
              "#0d0887"
             ],
             [
              0.1111111111111111,
              "#46039f"
             ],
             [
              0.2222222222222222,
              "#7201a8"
             ],
             [
              0.3333333333333333,
              "#9c179e"
             ],
             [
              0.4444444444444444,
              "#bd3786"
             ],
             [
              0.5555555555555556,
              "#d8576b"
             ],
             [
              0.6666666666666666,
              "#ed7953"
             ],
             [
              0.7777777777777778,
              "#fb9f3a"
             ],
             [
              0.8888888888888888,
              "#fdca26"
             ],
             [
              1,
              "#f0f921"
             ]
            ],
            "type": "heatmap"
           }
          ],
          "heatmapgl": [
           {
            "colorbar": {
             "outlinewidth": 0,
             "ticks": ""
            },
            "colorscale": [
             [
              0,
              "#0d0887"
             ],
             [
              0.1111111111111111,
              "#46039f"
             ],
             [
              0.2222222222222222,
              "#7201a8"
             ],
             [
              0.3333333333333333,
              "#9c179e"
             ],
             [
              0.4444444444444444,
              "#bd3786"
             ],
             [
              0.5555555555555556,
              "#d8576b"
             ],
             [
              0.6666666666666666,
              "#ed7953"
             ],
             [
              0.7777777777777778,
              "#fb9f3a"
             ],
             [
              0.8888888888888888,
              "#fdca26"
             ],
             [
              1,
              "#f0f921"
             ]
            ],
            "type": "heatmapgl"
           }
          ],
          "histogram": [
           {
            "marker": {
             "pattern": {
              "fillmode": "overlay",
              "size": 10,
              "solidity": 0.2
             }
            },
            "type": "histogram"
           }
          ],
          "histogram2d": [
           {
            "colorbar": {
             "outlinewidth": 0,
             "ticks": ""
            },
            "colorscale": [
             [
              0,
              "#0d0887"
             ],
             [
              0.1111111111111111,
              "#46039f"
             ],
             [
              0.2222222222222222,
              "#7201a8"
             ],
             [
              0.3333333333333333,
              "#9c179e"
             ],
             [
              0.4444444444444444,
              "#bd3786"
             ],
             [
              0.5555555555555556,
              "#d8576b"
             ],
             [
              0.6666666666666666,
              "#ed7953"
             ],
             [
              0.7777777777777778,
              "#fb9f3a"
             ],
             [
              0.8888888888888888,
              "#fdca26"
             ],
             [
              1,
              "#f0f921"
             ]
            ],
            "type": "histogram2d"
           }
          ],
          "histogram2dcontour": [
           {
            "colorbar": {
             "outlinewidth": 0,
             "ticks": ""
            },
            "colorscale": [
             [
              0,
              "#0d0887"
             ],
             [
              0.1111111111111111,
              "#46039f"
             ],
             [
              0.2222222222222222,
              "#7201a8"
             ],
             [
              0.3333333333333333,
              "#9c179e"
             ],
             [
              0.4444444444444444,
              "#bd3786"
             ],
             [
              0.5555555555555556,
              "#d8576b"
             ],
             [
              0.6666666666666666,
              "#ed7953"
             ],
             [
              0.7777777777777778,
              "#fb9f3a"
             ],
             [
              0.8888888888888888,
              "#fdca26"
             ],
             [
              1,
              "#f0f921"
             ]
            ],
            "type": "histogram2dcontour"
           }
          ],
          "mesh3d": [
           {
            "colorbar": {
             "outlinewidth": 0,
             "ticks": ""
            },
            "type": "mesh3d"
           }
          ],
          "parcoords": [
           {
            "line": {
             "colorbar": {
              "outlinewidth": 0,
              "ticks": ""
             }
            },
            "type": "parcoords"
           }
          ],
          "pie": [
           {
            "automargin": true,
            "type": "pie"
           }
          ],
          "scatter": [
           {
            "fillpattern": {
             "fillmode": "overlay",
             "size": 10,
             "solidity": 0.2
            },
            "type": "scatter"
           }
          ],
          "scatter3d": [
           {
            "line": {
             "colorbar": {
              "outlinewidth": 0,
              "ticks": ""
             }
            },
            "marker": {
             "colorbar": {
              "outlinewidth": 0,
              "ticks": ""
             }
            },
            "type": "scatter3d"
           }
          ],
          "scattercarpet": [
           {
            "marker": {
             "colorbar": {
              "outlinewidth": 0,
              "ticks": ""
             }
            },
            "type": "scattercarpet"
           }
          ],
          "scattergeo": [
           {
            "marker": {
             "colorbar": {
              "outlinewidth": 0,
              "ticks": ""
             }
            },
            "type": "scattergeo"
           }
          ],
          "scattergl": [
           {
            "marker": {
             "colorbar": {
              "outlinewidth": 0,
              "ticks": ""
             }
            },
            "type": "scattergl"
           }
          ],
          "scattermapbox": [
           {
            "marker": {
             "colorbar": {
              "outlinewidth": 0,
              "ticks": ""
             }
            },
            "type": "scattermapbox"
           }
          ],
          "scatterpolar": [
           {
            "marker": {
             "colorbar": {
              "outlinewidth": 0,
              "ticks": ""
             }
            },
            "type": "scatterpolar"
           }
          ],
          "scatterpolargl": [
           {
            "marker": {
             "colorbar": {
              "outlinewidth": 0,
              "ticks": ""
             }
            },
            "type": "scatterpolargl"
           }
          ],
          "scatterternary": [
           {
            "marker": {
             "colorbar": {
              "outlinewidth": 0,
              "ticks": ""
             }
            },
            "type": "scatterternary"
           }
          ],
          "surface": [
           {
            "colorbar": {
             "outlinewidth": 0,
             "ticks": ""
            },
            "colorscale": [
             [
              0,
              "#0d0887"
             ],
             [
              0.1111111111111111,
              "#46039f"
             ],
             [
              0.2222222222222222,
              "#7201a8"
             ],
             [
              0.3333333333333333,
              "#9c179e"
             ],
             [
              0.4444444444444444,
              "#bd3786"
             ],
             [
              0.5555555555555556,
              "#d8576b"
             ],
             [
              0.6666666666666666,
              "#ed7953"
             ],
             [
              0.7777777777777778,
              "#fb9f3a"
             ],
             [
              0.8888888888888888,
              "#fdca26"
             ],
             [
              1,
              "#f0f921"
             ]
            ],
            "type": "surface"
           }
          ],
          "table": [
           {
            "cells": {
             "fill": {
              "color": "#EBF0F8"
             },
             "line": {
              "color": "white"
             }
            },
            "header": {
             "fill": {
              "color": "#C8D4E3"
             },
             "line": {
              "color": "white"
             }
            },
            "type": "table"
           }
          ]
         },
         "layout": {
          "annotationdefaults": {
           "arrowcolor": "#2a3f5f",
           "arrowhead": 0,
           "arrowwidth": 1
          },
          "autotypenumbers": "strict",
          "coloraxis": {
           "colorbar": {
            "outlinewidth": 0,
            "ticks": ""
           }
          },
          "colorscale": {
           "diverging": [
            [
             0,
             "#8e0152"
            ],
            [
             0.1,
             "#c51b7d"
            ],
            [
             0.2,
             "#de77ae"
            ],
            [
             0.3,
             "#f1b6da"
            ],
            [
             0.4,
             "#fde0ef"
            ],
            [
             0.5,
             "#f7f7f7"
            ],
            [
             0.6,
             "#e6f5d0"
            ],
            [
             0.7,
             "#b8e186"
            ],
            [
             0.8,
             "#7fbc41"
            ],
            [
             0.9,
             "#4d9221"
            ],
            [
             1,
             "#276419"
            ]
           ],
           "sequential": [
            [
             0,
             "#0d0887"
            ],
            [
             0.1111111111111111,
             "#46039f"
            ],
            [
             0.2222222222222222,
             "#7201a8"
            ],
            [
             0.3333333333333333,
             "#9c179e"
            ],
            [
             0.4444444444444444,
             "#bd3786"
            ],
            [
             0.5555555555555556,
             "#d8576b"
            ],
            [
             0.6666666666666666,
             "#ed7953"
            ],
            [
             0.7777777777777778,
             "#fb9f3a"
            ],
            [
             0.8888888888888888,
             "#fdca26"
            ],
            [
             1,
             "#f0f921"
            ]
           ],
           "sequentialminus": [
            [
             0,
             "#0d0887"
            ],
            [
             0.1111111111111111,
             "#46039f"
            ],
            [
             0.2222222222222222,
             "#7201a8"
            ],
            [
             0.3333333333333333,
             "#9c179e"
            ],
            [
             0.4444444444444444,
             "#bd3786"
            ],
            [
             0.5555555555555556,
             "#d8576b"
            ],
            [
             0.6666666666666666,
             "#ed7953"
            ],
            [
             0.7777777777777778,
             "#fb9f3a"
            ],
            [
             0.8888888888888888,
             "#fdca26"
            ],
            [
             1,
             "#f0f921"
            ]
           ]
          },
          "colorway": [
           "#636efa",
           "#EF553B",
           "#00cc96",
           "#ab63fa",
           "#FFA15A",
           "#19d3f3",
           "#FF6692",
           "#B6E880",
           "#FF97FF",
           "#FECB52"
          ],
          "font": {
           "color": "#2a3f5f"
          },
          "geo": {
           "bgcolor": "white",
           "lakecolor": "white",
           "landcolor": "#E5ECF6",
           "showlakes": true,
           "showland": true,
           "subunitcolor": "white"
          },
          "hoverlabel": {
           "align": "left"
          },
          "hovermode": "closest",
          "mapbox": {
           "style": "light"
          },
          "paper_bgcolor": "white",
          "plot_bgcolor": "#E5ECF6",
          "polar": {
           "angularaxis": {
            "gridcolor": "white",
            "linecolor": "white",
            "ticks": ""
           },
           "bgcolor": "#E5ECF6",
           "radialaxis": {
            "gridcolor": "white",
            "linecolor": "white",
            "ticks": ""
           }
          },
          "scene": {
           "xaxis": {
            "backgroundcolor": "#E5ECF6",
            "gridcolor": "white",
            "gridwidth": 2,
            "linecolor": "white",
            "showbackground": true,
            "ticks": "",
            "zerolinecolor": "white"
           },
           "yaxis": {
            "backgroundcolor": "#E5ECF6",
            "gridcolor": "white",
            "gridwidth": 2,
            "linecolor": "white",
            "showbackground": true,
            "ticks": "",
            "zerolinecolor": "white"
           },
           "zaxis": {
            "backgroundcolor": "#E5ECF6",
            "gridcolor": "white",
            "gridwidth": 2,
            "linecolor": "white",
            "showbackground": true,
            "ticks": "",
            "zerolinecolor": "white"
           }
          },
          "shapedefaults": {
           "line": {
            "color": "#2a3f5f"
           }
          },
          "ternary": {
           "aaxis": {
            "gridcolor": "white",
            "linecolor": "white",
            "ticks": ""
           },
           "baxis": {
            "gridcolor": "white",
            "linecolor": "white",
            "ticks": ""
           },
           "bgcolor": "#E5ECF6",
           "caxis": {
            "gridcolor": "white",
            "linecolor": "white",
            "ticks": ""
           }
          },
          "title": {
           "x": 0.05
          },
          "xaxis": {
           "automargin": true,
           "gridcolor": "white",
           "linecolor": "white",
           "ticks": "",
           "title": {
            "standoff": 15
           },
           "zerolinecolor": "white",
           "zerolinewidth": 2
          },
          "yaxis": {
           "automargin": true,
           "gridcolor": "white",
           "linecolor": "white",
           "ticks": "",
           "title": {
            "standoff": 15
           },
           "zerolinecolor": "white",
           "zerolinewidth": 2
          }
         }
        },
        "title": {
         "text": "Cant. de plazos fijos por campaña y tipo de trabajo"
        },
        "xaxis": {
         "anchor": "y",
         "domain": [
          0,
          1
         ],
         "title": {
          "text": "Campañas"
         }
        },
        "yaxis": {
         "anchor": "x",
         "domain": [
          0,
          1
         ],
         "title": {
          "text": "cant. de plazos fijos"
         }
        }
       }
      }
     },
     "metadata": {},
     "output_type": "display_data"
    }
   ],
   "source": [
    "import plotly.express as px\n",
    "\n",
    "px.bar(campañas_trabajo, x= 'campaign', y= 'p_fijo', title=\"Cant. de plazos fijos por campaña y tipo de trabajo\", \n",
    "       labels= {\n",
    "           'p_fijo' : 'cant. de plazos fijos' , \n",
    "           'campaign' : 'Campañas', \n",
    "           'job' : 'trabajos'}, \n",
    "       color='job')"
   ]
  },
  {
   "cell_type": "markdown",
   "id": "c58fc616-ae06-4390-ad23-6f887f1d4cdd",
   "metadata": {},
   "source": [
    "Fácilmente, podemos ver también, que la frecuencia pudo haber tenido algo que ver con la efectividad en los depósitos. Aprovechamos a ver por cantidad de plazos fijos y el tipo de trabajo que más estuvo presente en la campaña.\n",
    "\n",
    "Por ejemplo: La campaña 1,2, 3 tienen más depósitos el tipo de trabajo \"Blue Collar\". En la campaña 4 no, gana \"management\". Por poco. \n",
    "\n",
    "Lo que podemos concluir viendo este gráfico, es que los tipos de trabajo de \"Blue Collar\", \"Management\", \"technician\" son los tipos de trabajo que más depósitos han realizado y esto puede servir, para en un futuro, hacer un target específico a estos grupos."
   ]
  },
  {
   "cell_type": "code",
   "execution_count": 244,
   "id": "bd23896b-7cf1-4f15-aa37-87d6a425739d",
   "metadata": {},
   "outputs": [
    {
     "data": {
      "text/html": [
       "<div>\n",
       "<style scoped>\n",
       "    .dataframe tbody tr th:only-of-type {\n",
       "        vertical-align: middle;\n",
       "    }\n",
       "\n",
       "    .dataframe tbody tr th {\n",
       "        vertical-align: top;\n",
       "    }\n",
       "\n",
       "    .dataframe thead th {\n",
       "        text-align: right;\n",
       "    }\n",
       "</style>\n",
       "<table border=\"1\" class=\"dataframe\">\n",
       "  <thead>\n",
       "    <tr style=\"text-align: right;\">\n",
       "      <th></th>\n",
       "      <th>campaign</th>\n",
       "      <th>marital</th>\n",
       "      <th>age</th>\n",
       "      <th>balance</th>\n",
       "      <th>housing</th>\n",
       "      <th>loan</th>\n",
       "      <th>day</th>\n",
       "      <th>duration</th>\n",
       "      <th>pdays</th>\n",
       "      <th>previous</th>\n",
       "      <th>p_fijo</th>\n",
       "    </tr>\n",
       "  </thead>\n",
       "  <tbody>\n",
       "    <tr>\n",
       "      <th>0</th>\n",
       "      <td>1</td>\n",
       "      <td>divorced</td>\n",
       "      <td>97616</td>\n",
       "      <td>2588752</td>\n",
       "      <td>1233</td>\n",
       "      <td>397</td>\n",
       "      <td>30862</td>\n",
       "      <td>567530</td>\n",
       "      <td>104660</td>\n",
       "      <td>1200</td>\n",
       "      <td>305</td>\n",
       "    </tr>\n",
       "    <tr>\n",
       "      <th>1</th>\n",
       "      <td>1</td>\n",
       "      <td>married</td>\n",
       "      <td>435818</td>\n",
       "      <td>15046932</td>\n",
       "      <td>5935</td>\n",
       "      <td>1738</td>\n",
       "      <td>147375</td>\n",
       "      <td>2557074</td>\n",
       "      <td>478478</td>\n",
       "      <td>6081</td>\n",
       "      <td>1283</td>\n",
       "    </tr>\n",
       "    <tr>\n",
       "      <th>2</th>\n",
       "      <td>1</td>\n",
       "      <td>single</td>\n",
       "      <td>179989</td>\n",
       "      <td>7190140</td>\n",
       "      <td>2950</td>\n",
       "      <td>694</td>\n",
       "      <td>80465</td>\n",
       "      <td>1455321</td>\n",
       "      <td>284916</td>\n",
       "      <td>3533</td>\n",
       "      <td>973</td>\n",
       "    </tr>\n",
       "    <tr>\n",
       "      <th>3</th>\n",
       "      <td>2</td>\n",
       "      <td>divorced</td>\n",
       "      <td>64565</td>\n",
       "      <td>1682446</td>\n",
       "      <td>781</td>\n",
       "      <td>220</td>\n",
       "      <td>22460</td>\n",
       "      <td>396758</td>\n",
       "      <td>58836</td>\n",
       "      <td>776</td>\n",
       "      <td>176</td>\n",
       "    </tr>\n",
       "    <tr>\n",
       "      <th>4</th>\n",
       "      <td>2</td>\n",
       "      <td>married</td>\n",
       "      <td>330480</td>\n",
       "      <td>10928739</td>\n",
       "      <td>4225</td>\n",
       "      <td>1308</td>\n",
       "      <td>117814</td>\n",
       "      <td>2063587</td>\n",
       "      <td>298555</td>\n",
       "      <td>4413</td>\n",
       "      <td>736</td>\n",
       "    </tr>\n",
       "  </tbody>\n",
       "</table>\n",
       "</div>"
      ],
      "text/plain": [
       "   campaign   marital     age   balance  housing  loan     day  duration  \\\n",
       "0         1  divorced   97616   2588752     1233   397   30862    567530   \n",
       "1         1   married  435818  15046932     5935  1738  147375   2557074   \n",
       "2         1    single  179989   7190140     2950   694   80465   1455321   \n",
       "3         2  divorced   64565   1682446      781   220   22460    396758   \n",
       "4         2   married  330480  10928739     4225  1308  117814   2063587   \n",
       "\n",
       "    pdays  previous  p_fijo  \n",
       "0  104660      1200     305  \n",
       "1  478478      6081    1283  \n",
       "2  284916      3533     973  \n",
       "3   58836       776     176  \n",
       "4  298555      4413     736  "
      ]
     },
     "execution_count": 244,
     "metadata": {},
     "output_type": "execute_result"
    }
   ],
   "source": [
    "campañas_marital= df.groupby(['campaign', 'marital']).sum(numeric_only=True).reset_index()\n",
    "campañas_marital.head()"
   ]
  },
  {
   "cell_type": "code",
   "execution_count": 245,
   "id": "2470d383-cd3f-44d0-97c8-1292f1b7f260",
   "metadata": {},
   "outputs": [],
   "source": [
    "campañas_marital = campañas_marital[campañas_marital['campaign'] <= 4]"
   ]
  },
  {
   "cell_type": "code",
   "execution_count": 246,
   "id": "5215b14c-003b-4f7d-9f22-60bca3bef4b5",
   "metadata": {},
   "outputs": [
    {
     "data": {
      "application/vnd.plotly.v1+json": {
       "config": {
        "plotlyServerURL": "https://plot.ly"
       },
       "data": [
        {
         "alignmentgroup": "True",
         "hovertemplate": "estado marital=divorced<br>Campañas=%{x}<br>cant. de plazos fijos=%{y}<extra></extra>",
         "legendgroup": "divorced",
         "marker": {
          "color": "#636efa",
          "pattern": {
           "shape": ""
          }
         },
         "name": "divorced",
         "offsetgroup": "divorced",
         "orientation": "v",
         "showlegend": true,
         "textposition": "auto",
         "type": "bar",
         "x": [
          1,
          2,
          3,
          4
         ],
         "xaxis": "x",
         "y": [
          305,
          176,
          54,
          42
         ],
         "yaxis": "y"
        },
        {
         "alignmentgroup": "True",
         "hovertemplate": "estado marital=married<br>Campañas=%{x}<br>cant. de plazos fijos=%{y}<extra></extra>",
         "legendgroup": "married",
         "marker": {
          "color": "#EF553B",
          "pattern": {
           "shape": ""
          }
         },
         "name": "married",
         "offsetgroup": "married",
         "orientation": "v",
         "showlegend": true,
         "textposition": "auto",
         "type": "bar",
         "x": [
          1,
          2,
          3,
          4
         ],
         "xaxis": "x",
         "y": [
          1283,
          736,
          342,
          178
         ],
         "yaxis": "y"
        },
        {
         "alignmentgroup": "True",
         "hovertemplate": "estado marital=single<br>Campañas=%{x}<br>cant. de plazos fijos=%{y}<extra></extra>",
         "legendgroup": "single",
         "marker": {
          "color": "#00cc96",
          "pattern": {
           "shape": ""
          }
         },
         "name": "single",
         "offsetgroup": "single",
         "orientation": "v",
         "showlegend": true,
         "textposition": "auto",
         "type": "bar",
         "x": [
          1,
          2,
          3,
          4
         ],
         "xaxis": "x",
         "y": [
          973,
          489,
          222,
          97
         ],
         "yaxis": "y"
        }
       ],
       "layout": {
        "barmode": "relative",
        "legend": {
         "title": {
          "text": "estado marital"
         },
         "tracegroupgap": 0
        },
        "template": {
         "data": {
          "bar": [
           {
            "error_x": {
             "color": "#2a3f5f"
            },
            "error_y": {
             "color": "#2a3f5f"
            },
            "marker": {
             "line": {
              "color": "#E5ECF6",
              "width": 0.5
             },
             "pattern": {
              "fillmode": "overlay",
              "size": 10,
              "solidity": 0.2
             }
            },
            "type": "bar"
           }
          ],
          "barpolar": [
           {
            "marker": {
             "line": {
              "color": "#E5ECF6",
              "width": 0.5
             },
             "pattern": {
              "fillmode": "overlay",
              "size": 10,
              "solidity": 0.2
             }
            },
            "type": "barpolar"
           }
          ],
          "carpet": [
           {
            "aaxis": {
             "endlinecolor": "#2a3f5f",
             "gridcolor": "white",
             "linecolor": "white",
             "minorgridcolor": "white",
             "startlinecolor": "#2a3f5f"
            },
            "baxis": {
             "endlinecolor": "#2a3f5f",
             "gridcolor": "white",
             "linecolor": "white",
             "minorgridcolor": "white",
             "startlinecolor": "#2a3f5f"
            },
            "type": "carpet"
           }
          ],
          "choropleth": [
           {
            "colorbar": {
             "outlinewidth": 0,
             "ticks": ""
            },
            "type": "choropleth"
           }
          ],
          "contour": [
           {
            "colorbar": {
             "outlinewidth": 0,
             "ticks": ""
            },
            "colorscale": [
             [
              0,
              "#0d0887"
             ],
             [
              0.1111111111111111,
              "#46039f"
             ],
             [
              0.2222222222222222,
              "#7201a8"
             ],
             [
              0.3333333333333333,
              "#9c179e"
             ],
             [
              0.4444444444444444,
              "#bd3786"
             ],
             [
              0.5555555555555556,
              "#d8576b"
             ],
             [
              0.6666666666666666,
              "#ed7953"
             ],
             [
              0.7777777777777778,
              "#fb9f3a"
             ],
             [
              0.8888888888888888,
              "#fdca26"
             ],
             [
              1,
              "#f0f921"
             ]
            ],
            "type": "contour"
           }
          ],
          "contourcarpet": [
           {
            "colorbar": {
             "outlinewidth": 0,
             "ticks": ""
            },
            "type": "contourcarpet"
           }
          ],
          "heatmap": [
           {
            "colorbar": {
             "outlinewidth": 0,
             "ticks": ""
            },
            "colorscale": [
             [
              0,
              "#0d0887"
             ],
             [
              0.1111111111111111,
              "#46039f"
             ],
             [
              0.2222222222222222,
              "#7201a8"
             ],
             [
              0.3333333333333333,
              "#9c179e"
             ],
             [
              0.4444444444444444,
              "#bd3786"
             ],
             [
              0.5555555555555556,
              "#d8576b"
             ],
             [
              0.6666666666666666,
              "#ed7953"
             ],
             [
              0.7777777777777778,
              "#fb9f3a"
             ],
             [
              0.8888888888888888,
              "#fdca26"
             ],
             [
              1,
              "#f0f921"
             ]
            ],
            "type": "heatmap"
           }
          ],
          "heatmapgl": [
           {
            "colorbar": {
             "outlinewidth": 0,
             "ticks": ""
            },
            "colorscale": [
             [
              0,
              "#0d0887"
             ],
             [
              0.1111111111111111,
              "#46039f"
             ],
             [
              0.2222222222222222,
              "#7201a8"
             ],
             [
              0.3333333333333333,
              "#9c179e"
             ],
             [
              0.4444444444444444,
              "#bd3786"
             ],
             [
              0.5555555555555556,
              "#d8576b"
             ],
             [
              0.6666666666666666,
              "#ed7953"
             ],
             [
              0.7777777777777778,
              "#fb9f3a"
             ],
             [
              0.8888888888888888,
              "#fdca26"
             ],
             [
              1,
              "#f0f921"
             ]
            ],
            "type": "heatmapgl"
           }
          ],
          "histogram": [
           {
            "marker": {
             "pattern": {
              "fillmode": "overlay",
              "size": 10,
              "solidity": 0.2
             }
            },
            "type": "histogram"
           }
          ],
          "histogram2d": [
           {
            "colorbar": {
             "outlinewidth": 0,
             "ticks": ""
            },
            "colorscale": [
             [
              0,
              "#0d0887"
             ],
             [
              0.1111111111111111,
              "#46039f"
             ],
             [
              0.2222222222222222,
              "#7201a8"
             ],
             [
              0.3333333333333333,
              "#9c179e"
             ],
             [
              0.4444444444444444,
              "#bd3786"
             ],
             [
              0.5555555555555556,
              "#d8576b"
             ],
             [
              0.6666666666666666,
              "#ed7953"
             ],
             [
              0.7777777777777778,
              "#fb9f3a"
             ],
             [
              0.8888888888888888,
              "#fdca26"
             ],
             [
              1,
              "#f0f921"
             ]
            ],
            "type": "histogram2d"
           }
          ],
          "histogram2dcontour": [
           {
            "colorbar": {
             "outlinewidth": 0,
             "ticks": ""
            },
            "colorscale": [
             [
              0,
              "#0d0887"
             ],
             [
              0.1111111111111111,
              "#46039f"
             ],
             [
              0.2222222222222222,
              "#7201a8"
             ],
             [
              0.3333333333333333,
              "#9c179e"
             ],
             [
              0.4444444444444444,
              "#bd3786"
             ],
             [
              0.5555555555555556,
              "#d8576b"
             ],
             [
              0.6666666666666666,
              "#ed7953"
             ],
             [
              0.7777777777777778,
              "#fb9f3a"
             ],
             [
              0.8888888888888888,
              "#fdca26"
             ],
             [
              1,
              "#f0f921"
             ]
            ],
            "type": "histogram2dcontour"
           }
          ],
          "mesh3d": [
           {
            "colorbar": {
             "outlinewidth": 0,
             "ticks": ""
            },
            "type": "mesh3d"
           }
          ],
          "parcoords": [
           {
            "line": {
             "colorbar": {
              "outlinewidth": 0,
              "ticks": ""
             }
            },
            "type": "parcoords"
           }
          ],
          "pie": [
           {
            "automargin": true,
            "type": "pie"
           }
          ],
          "scatter": [
           {
            "fillpattern": {
             "fillmode": "overlay",
             "size": 10,
             "solidity": 0.2
            },
            "type": "scatter"
           }
          ],
          "scatter3d": [
           {
            "line": {
             "colorbar": {
              "outlinewidth": 0,
              "ticks": ""
             }
            },
            "marker": {
             "colorbar": {
              "outlinewidth": 0,
              "ticks": ""
             }
            },
            "type": "scatter3d"
           }
          ],
          "scattercarpet": [
           {
            "marker": {
             "colorbar": {
              "outlinewidth": 0,
              "ticks": ""
             }
            },
            "type": "scattercarpet"
           }
          ],
          "scattergeo": [
           {
            "marker": {
             "colorbar": {
              "outlinewidth": 0,
              "ticks": ""
             }
            },
            "type": "scattergeo"
           }
          ],
          "scattergl": [
           {
            "marker": {
             "colorbar": {
              "outlinewidth": 0,
              "ticks": ""
             }
            },
            "type": "scattergl"
           }
          ],
          "scattermapbox": [
           {
            "marker": {
             "colorbar": {
              "outlinewidth": 0,
              "ticks": ""
             }
            },
            "type": "scattermapbox"
           }
          ],
          "scatterpolar": [
           {
            "marker": {
             "colorbar": {
              "outlinewidth": 0,
              "ticks": ""
             }
            },
            "type": "scatterpolar"
           }
          ],
          "scatterpolargl": [
           {
            "marker": {
             "colorbar": {
              "outlinewidth": 0,
              "ticks": ""
             }
            },
            "type": "scatterpolargl"
           }
          ],
          "scatterternary": [
           {
            "marker": {
             "colorbar": {
              "outlinewidth": 0,
              "ticks": ""
             }
            },
            "type": "scatterternary"
           }
          ],
          "surface": [
           {
            "colorbar": {
             "outlinewidth": 0,
             "ticks": ""
            },
            "colorscale": [
             [
              0,
              "#0d0887"
             ],
             [
              0.1111111111111111,
              "#46039f"
             ],
             [
              0.2222222222222222,
              "#7201a8"
             ],
             [
              0.3333333333333333,
              "#9c179e"
             ],
             [
              0.4444444444444444,
              "#bd3786"
             ],
             [
              0.5555555555555556,
              "#d8576b"
             ],
             [
              0.6666666666666666,
              "#ed7953"
             ],
             [
              0.7777777777777778,
              "#fb9f3a"
             ],
             [
              0.8888888888888888,
              "#fdca26"
             ],
             [
              1,
              "#f0f921"
             ]
            ],
            "type": "surface"
           }
          ],
          "table": [
           {
            "cells": {
             "fill": {
              "color": "#EBF0F8"
             },
             "line": {
              "color": "white"
             }
            },
            "header": {
             "fill": {
              "color": "#C8D4E3"
             },
             "line": {
              "color": "white"
             }
            },
            "type": "table"
           }
          ]
         },
         "layout": {
          "annotationdefaults": {
           "arrowcolor": "#2a3f5f",
           "arrowhead": 0,
           "arrowwidth": 1
          },
          "autotypenumbers": "strict",
          "coloraxis": {
           "colorbar": {
            "outlinewidth": 0,
            "ticks": ""
           }
          },
          "colorscale": {
           "diverging": [
            [
             0,
             "#8e0152"
            ],
            [
             0.1,
             "#c51b7d"
            ],
            [
             0.2,
             "#de77ae"
            ],
            [
             0.3,
             "#f1b6da"
            ],
            [
             0.4,
             "#fde0ef"
            ],
            [
             0.5,
             "#f7f7f7"
            ],
            [
             0.6,
             "#e6f5d0"
            ],
            [
             0.7,
             "#b8e186"
            ],
            [
             0.8,
             "#7fbc41"
            ],
            [
             0.9,
             "#4d9221"
            ],
            [
             1,
             "#276419"
            ]
           ],
           "sequential": [
            [
             0,
             "#0d0887"
            ],
            [
             0.1111111111111111,
             "#46039f"
            ],
            [
             0.2222222222222222,
             "#7201a8"
            ],
            [
             0.3333333333333333,
             "#9c179e"
            ],
            [
             0.4444444444444444,
             "#bd3786"
            ],
            [
             0.5555555555555556,
             "#d8576b"
            ],
            [
             0.6666666666666666,
             "#ed7953"
            ],
            [
             0.7777777777777778,
             "#fb9f3a"
            ],
            [
             0.8888888888888888,
             "#fdca26"
            ],
            [
             1,
             "#f0f921"
            ]
           ],
           "sequentialminus": [
            [
             0,
             "#0d0887"
            ],
            [
             0.1111111111111111,
             "#46039f"
            ],
            [
             0.2222222222222222,
             "#7201a8"
            ],
            [
             0.3333333333333333,
             "#9c179e"
            ],
            [
             0.4444444444444444,
             "#bd3786"
            ],
            [
             0.5555555555555556,
             "#d8576b"
            ],
            [
             0.6666666666666666,
             "#ed7953"
            ],
            [
             0.7777777777777778,
             "#fb9f3a"
            ],
            [
             0.8888888888888888,
             "#fdca26"
            ],
            [
             1,
             "#f0f921"
            ]
           ]
          },
          "colorway": [
           "#636efa",
           "#EF553B",
           "#00cc96",
           "#ab63fa",
           "#FFA15A",
           "#19d3f3",
           "#FF6692",
           "#B6E880",
           "#FF97FF",
           "#FECB52"
          ],
          "font": {
           "color": "#2a3f5f"
          },
          "geo": {
           "bgcolor": "white",
           "lakecolor": "white",
           "landcolor": "#E5ECF6",
           "showlakes": true,
           "showland": true,
           "subunitcolor": "white"
          },
          "hoverlabel": {
           "align": "left"
          },
          "hovermode": "closest",
          "mapbox": {
           "style": "light"
          },
          "paper_bgcolor": "white",
          "plot_bgcolor": "#E5ECF6",
          "polar": {
           "angularaxis": {
            "gridcolor": "white",
            "linecolor": "white",
            "ticks": ""
           },
           "bgcolor": "#E5ECF6",
           "radialaxis": {
            "gridcolor": "white",
            "linecolor": "white",
            "ticks": ""
           }
          },
          "scene": {
           "xaxis": {
            "backgroundcolor": "#E5ECF6",
            "gridcolor": "white",
            "gridwidth": 2,
            "linecolor": "white",
            "showbackground": true,
            "ticks": "",
            "zerolinecolor": "white"
           },
           "yaxis": {
            "backgroundcolor": "#E5ECF6",
            "gridcolor": "white",
            "gridwidth": 2,
            "linecolor": "white",
            "showbackground": true,
            "ticks": "",
            "zerolinecolor": "white"
           },
           "zaxis": {
            "backgroundcolor": "#E5ECF6",
            "gridcolor": "white",
            "gridwidth": 2,
            "linecolor": "white",
            "showbackground": true,
            "ticks": "",
            "zerolinecolor": "white"
           }
          },
          "shapedefaults": {
           "line": {
            "color": "#2a3f5f"
           }
          },
          "ternary": {
           "aaxis": {
            "gridcolor": "white",
            "linecolor": "white",
            "ticks": ""
           },
           "baxis": {
            "gridcolor": "white",
            "linecolor": "white",
            "ticks": ""
           },
           "bgcolor": "#E5ECF6",
           "caxis": {
            "gridcolor": "white",
            "linecolor": "white",
            "ticks": ""
           }
          },
          "title": {
           "x": 0.05
          },
          "xaxis": {
           "automargin": true,
           "gridcolor": "white",
           "linecolor": "white",
           "ticks": "",
           "title": {
            "standoff": 15
           },
           "zerolinecolor": "white",
           "zerolinewidth": 2
          },
          "yaxis": {
           "automargin": true,
           "gridcolor": "white",
           "linecolor": "white",
           "ticks": "",
           "title": {
            "standoff": 15
           },
           "zerolinecolor": "white",
           "zerolinewidth": 2
          }
         }
        },
        "title": {
         "text": "Cantidad de plazos fijos por campaña y por tipo de estado marital"
        },
        "xaxis": {
         "anchor": "y",
         "domain": [
          0,
          1
         ],
         "title": {
          "text": "Campañas"
         }
        },
        "yaxis": {
         "anchor": "x",
         "domain": [
          0,
          1
         ],
         "title": {
          "text": "cant. de plazos fijos"
         }
        }
       }
      }
     },
     "metadata": {},
     "output_type": "display_data"
    }
   ],
   "source": [
    "px.bar(campañas_marital, x= 'campaign', y= 'p_fijo', title=\"Cantidad de plazos fijos por campaña y por tipo de estado marital\", \n",
    "       labels= {\n",
    "    'p_fijo' : 'cant. de plazos fijos' , \n",
    "    'campaign' : 'Campañas', \n",
    "    'marital' : 'estado marital'}, \n",
    "       color='marital')"
   ]
  },
  {
   "cell_type": "markdown",
   "id": "b64d80f6-6f69-4273-8d76-945ff7fcc79b",
   "metadata": {},
   "source": [
    "Con este gráfico podemos ver que las personas con estado marital \"Casado\", y \"Single\" son los estados maritales que mayor depósitos hicieron, por lo tanto, vemos una alta posibilidad de que en futuras campañas, estos dos grupos sean los más receptivos a realizar un depósito fijo."
   ]
  },
  {
   "cell_type": "markdown",
   "id": "f68ccf41-455e-4790-8f31-b8aee62c9eba",
   "metadata": {},
   "source": [
    "En conclusión, viendo los dos gráficos podemos concluir en que la campaña 1 tuvo más difusión, más contactos y esto tuvo una gran causalidad con los resultados de depósitos. También vemos una similitud en todas las campañas con los tipos de trabajo y estado marital en cada campaña. Por lo tanto, podemos deducir que las campañas tuvieron una gran diferencia en la cantidad de personas contactadas."
   ]
  },
  {
   "cell_type": "markdown",
   "id": "dcc1d75a-0b05-47e6-8953-03fb6f5ad682",
   "metadata": {},
   "source": [
    "> En cuanto a los meses, existirá algún patrón, algún mes o meses que indiquen un patrón? "
   ]
  },
  {
   "cell_type": "code",
   "execution_count": 258,
   "id": "71a30fec-b679-488c-ba00-fd8461dbdf1e",
   "metadata": {},
   "outputs": [],
   "source": [
    "month_grouped= df.groupby('month').sum(numeric_only=True).sort_values(by='month', ascending=True).reset_index()"
   ]
  },
  {
   "cell_type": "code",
   "execution_count": 259,
   "id": "be3c55c5-b379-4572-a18e-edf84037c95e",
   "metadata": {},
   "outputs": [],
   "source": [
    "import datetime"
   ]
  },
  {
   "cell_type": "code",
   "execution_count": 260,
   "id": "cd24280a-6964-4dcd-8f75-ed8e103a203d",
   "metadata": {},
   "outputs": [],
   "source": [
    "months = [\"jan\", \"feb\", \"mar\", \"apr\", \"may\", \"jun\", \"jul\", \"aug\", \"sep\", \"oct\", \"nov\", \"dec\"]\n",
    "month_grouped[\"month\"] = pd.Categorical(month_grouped[\"month\"], categories=months, ordered=True)\n",
    "month_grouped.sort_values(\"month\", inplace=True)"
   ]
  },
  {
   "cell_type": "code",
   "execution_count": 261,
   "id": "501ce7f3-a6bd-4f74-a111-7df49d484e6b",
   "metadata": {},
   "outputs": [],
   "source": [
    "df2[\"month\"] = pd.DatetimeIndex(df2[\"fecha\"]).strftime(\"%b\").str.lower()\n",
    "df2[\"year\"] = pd.DatetimeIndex(df2[\"fecha\"]).year"
   ]
  },
  {
   "cell_type": "code",
   "execution_count": 262,
   "id": "76aaceac-17d0-4b88-84db-ad4e42d8ef79",
   "metadata": {},
   "outputs": [],
   "source": [
    "arg_month = df2.groupby('month').sum(numeric_only=True).reset_index()     "
   ]
  },
  {
   "cell_type": "code",
   "execution_count": 263,
   "id": "519f1061-ed5c-4ad4-bcbd-8a5ae9da5f77",
   "metadata": {},
   "outputs": [],
   "source": [
    "arg_month[\"month\"] = pd.Categorical(arg_month[\"month\"], categories=months, ordered=True)\n",
    "arg_month.sort_values(\"month\", inplace=True)"
   ]
  },
  {
   "cell_type": "code",
   "execution_count": 265,
   "id": "7f4308af",
   "metadata": {},
   "outputs": [
    {
     "data": {
      "text/html": [
       "<div>\n",
       "<style scoped>\n",
       "    .dataframe tbody tr th:only-of-type {\n",
       "        vertical-align: middle;\n",
       "    }\n",
       "\n",
       "    .dataframe tbody tr th {\n",
       "        vertical-align: top;\n",
       "    }\n",
       "\n",
       "    .dataframe thead th {\n",
       "        text-align: right;\n",
       "    }\n",
       "</style>\n",
       "<table border=\"1\" class=\"dataframe\">\n",
       "  <thead>\n",
       "    <tr style=\"text-align: right;\">\n",
       "      <th></th>\n",
       "      <th>month</th>\n",
       "      <th>p_fijo</th>\n",
       "      <th>year</th>\n",
       "      <th>valor_normalizado</th>\n",
       "    </tr>\n",
       "  </thead>\n",
       "  <tbody>\n",
       "    <tr>\n",
       "      <th>4</th>\n",
       "      <td>jan</td>\n",
       "      <td>599968243</td>\n",
       "      <td>1201671</td>\n",
       "      <td>0.795710</td>\n",
       "    </tr>\n",
       "    <tr>\n",
       "      <th>3</th>\n",
       "      <td>feb</td>\n",
       "      <td>538576492</td>\n",
       "      <td>1092995</td>\n",
       "      <td>0.549057</td>\n",
       "    </tr>\n",
       "    <tr>\n",
       "      <th>7</th>\n",
       "      <td>mar</td>\n",
       "      <td>650815992</td>\n",
       "      <td>1169461</td>\n",
       "      <td>1.000000</td>\n",
       "    </tr>\n",
       "    <tr>\n",
       "      <th>0</th>\n",
       "      <td>apr</td>\n",
       "      <td>423425155</td>\n",
       "      <td>1064782</td>\n",
       "      <td>0.086416</td>\n",
       "    </tr>\n",
       "    <tr>\n",
       "      <th>8</th>\n",
       "      <td>may</td>\n",
       "      <td>401916256</td>\n",
       "      <td>1114948</td>\n",
       "      <td>0.000000</td>\n",
       "    </tr>\n",
       "    <tr>\n",
       "      <th>6</th>\n",
       "      <td>jun</td>\n",
       "      <td>422366244</td>\n",
       "      <td>1092938</td>\n",
       "      <td>0.082162</td>\n",
       "    </tr>\n",
       "    <tr>\n",
       "      <th>5</th>\n",
       "      <td>jul</td>\n",
       "      <td>463383675</td>\n",
       "      <td>1155133</td>\n",
       "      <td>0.246957</td>\n",
       "    </tr>\n",
       "    <tr>\n",
       "      <th>1</th>\n",
       "      <td>aug</td>\n",
       "      <td>494896530</td>\n",
       "      <td>1145154</td>\n",
       "      <td>0.373565</td>\n",
       "    </tr>\n",
       "    <tr>\n",
       "      <th>11</th>\n",
       "      <td>sep</td>\n",
       "      <td>513683086</td>\n",
       "      <td>1159183</td>\n",
       "      <td>0.449044</td>\n",
       "    </tr>\n",
       "    <tr>\n",
       "      <th>10</th>\n",
       "      <td>oct</td>\n",
       "      <td>500998680</td>\n",
       "      <td>1145045</td>\n",
       "      <td>0.398082</td>\n",
       "    </tr>\n",
       "    <tr>\n",
       "      <th>9</th>\n",
       "      <td>nov</td>\n",
       "      <td>526216379</td>\n",
       "      <td>1100840</td>\n",
       "      <td>0.499398</td>\n",
       "    </tr>\n",
       "    <tr>\n",
       "      <th>2</th>\n",
       "      <td>dec</td>\n",
       "      <td>507789392</td>\n",
       "      <td>1070712</td>\n",
       "      <td>0.425365</td>\n",
       "    </tr>\n",
       "  </tbody>\n",
       "</table>\n",
       "</div>"
      ],
      "text/plain": [
       "   month     p_fijo     year  valor_normalizado\n",
       "4    jan  599968243  1201671           0.795710\n",
       "3    feb  538576492  1092995           0.549057\n",
       "7    mar  650815992  1169461           1.000000\n",
       "0    apr  423425155  1064782           0.086416\n",
       "8    may  401916256  1114948           0.000000\n",
       "6    jun  422366244  1092938           0.082162\n",
       "5    jul  463383675  1155133           0.246957\n",
       "1    aug  494896530  1145154           0.373565\n",
       "11   sep  513683086  1159183           0.449044\n",
       "10   oct  500998680  1145045           0.398082\n",
       "9    nov  526216379  1100840           0.499398\n",
       "2    dec  507789392  1070712           0.425365"
      ]
     },
     "execution_count": 265,
     "metadata": {},
     "output_type": "execute_result"
    }
   ],
   "source": [
    "arg_month['valor_normalizado'] = ((arg_month.p_fijo - arg_month.p_fijo.min())/ (arg_month.p_fijo.max()-arg_month.p_fijo.min()))"
   ]
  },
  {
   "cell_type": "code",
   "execution_count": 267,
   "id": "fe371851",
   "metadata": {},
   "outputs": [
    {
     "data": {
      "text/html": [
       "<div>\n",
       "<style scoped>\n",
       "    .dataframe tbody tr th:only-of-type {\n",
       "        vertical-align: middle;\n",
       "    }\n",
       "\n",
       "    .dataframe tbody tr th {\n",
       "        vertical-align: top;\n",
       "    }\n",
       "\n",
       "    .dataframe thead th {\n",
       "        text-align: right;\n",
       "    }\n",
       "</style>\n",
       "<table border=\"1\" class=\"dataframe\">\n",
       "  <thead>\n",
       "    <tr style=\"text-align: right;\">\n",
       "      <th></th>\n",
       "      <th>month</th>\n",
       "      <th>age</th>\n",
       "      <th>balance</th>\n",
       "      <th>housing</th>\n",
       "      <th>loan</th>\n",
       "      <th>day</th>\n",
       "      <th>duration</th>\n",
       "      <th>campaign</th>\n",
       "      <th>pdays</th>\n",
       "      <th>previous</th>\n",
       "      <th>p_fijo</th>\n",
       "      <th>valor_normalizado</th>\n",
       "    </tr>\n",
       "  </thead>\n",
       "  <tbody>\n",
       "    <tr>\n",
       "      <th>4</th>\n",
       "      <td>jan</td>\n",
       "      <td>56812</td>\n",
       "      <td>1328337</td>\n",
       "      <td>521</td>\n",
       "      <td>212</td>\n",
       "      <td>38522</td>\n",
       "      <td>376313</td>\n",
       "      <td>2346</td>\n",
       "      <td>95261</td>\n",
       "      <td>1663</td>\n",
       "      <td>142</td>\n",
       "      <td>0.050909</td>\n",
       "    </tr>\n",
       "    <tr>\n",
       "      <th>3</th>\n",
       "      <td>feb</td>\n",
       "      <td>108305</td>\n",
       "      <td>3494293</td>\n",
       "      <td>1132</td>\n",
       "      <td>390</td>\n",
       "      <td>16834</td>\n",
       "      <td>657742</td>\n",
       "      <td>6310</td>\n",
       "      <td>181994</td>\n",
       "      <td>3133</td>\n",
       "      <td>441</td>\n",
       "      <td>0.413333</td>\n",
       "    </tr>\n",
       "    <tr>\n",
       "      <th>7</th>\n",
       "      <td>mar</td>\n",
       "      <td>20483</td>\n",
       "      <td>976051</td>\n",
       "      <td>113</td>\n",
       "      <td>26</td>\n",
       "      <td>6742</td>\n",
       "      <td>116579</td>\n",
       "      <td>1052</td>\n",
       "      <td>33976</td>\n",
       "      <td>567</td>\n",
       "      <td>248</td>\n",
       "      <td>0.179394</td>\n",
       "    </tr>\n",
       "    <tr>\n",
       "      <th>0</th>\n",
       "      <td>apr</td>\n",
       "      <td>116608</td>\n",
       "      <td>4522760</td>\n",
       "      <td>2069</td>\n",
       "      <td>358</td>\n",
       "      <td>50774</td>\n",
       "      <td>874026</td>\n",
       "      <td>5733</td>\n",
       "      <td>279132</td>\n",
       "      <td>3086</td>\n",
       "      <td>577</td>\n",
       "      <td>0.578182</td>\n",
       "    </tr>\n",
       "    <tr>\n",
       "      <th>8</th>\n",
       "      <td>may</td>\n",
       "      <td>535375</td>\n",
       "      <td>14247708</td>\n",
       "      <td>12076</td>\n",
       "      <td>1993</td>\n",
       "      <td>213251</td>\n",
       "      <td>3591856</td>\n",
       "      <td>33693</td>\n",
       "      <td>717998</td>\n",
       "      <td>8053</td>\n",
       "      <td>925</td>\n",
       "      <td>1.000000</td>\n",
       "    </tr>\n",
       "    <tr>\n",
       "      <th>6</th>\n",
       "      <td>jun</td>\n",
       "      <td>226662</td>\n",
       "      <td>8589515</td>\n",
       "      <td>2227</td>\n",
       "      <td>734</td>\n",
       "      <td>60885</td>\n",
       "      <td>1298332</td>\n",
       "      <td>16746</td>\n",
       "      <td>48894</td>\n",
       "      <td>1057</td>\n",
       "      <td>546</td>\n",
       "      <td>0.540606</td>\n",
       "    </tr>\n",
       "    <tr>\n",
       "      <th>5</th>\n",
       "      <td>jul</td>\n",
       "      <td>282756</td>\n",
       "      <td>6205676</td>\n",
       "      <td>3338</td>\n",
       "      <td>2105</td>\n",
       "      <td>128897</td>\n",
       "      <td>1847690</td>\n",
       "      <td>24301</td>\n",
       "      <td>55383</td>\n",
       "      <td>896</td>\n",
       "      <td>627</td>\n",
       "      <td>0.638788</td>\n",
       "    </tr>\n",
       "    <tr>\n",
       "      <th>1</th>\n",
       "      <td>aug</td>\n",
       "      <td>267962</td>\n",
       "      <td>8918853</td>\n",
       "      <td>1103</td>\n",
       "      <td>604</td>\n",
       "      <td>102655</td>\n",
       "      <td>1451816</td>\n",
       "      <td>24534</td>\n",
       "      <td>83266</td>\n",
       "      <td>1739</td>\n",
       "      <td>688</td>\n",
       "      <td>0.712727</td>\n",
       "    </tr>\n",
       "    <tr>\n",
       "      <th>11</th>\n",
       "      <td>sep</td>\n",
       "      <td>25452</td>\n",
       "      <td>1128061</td>\n",
       "      <td>129</td>\n",
       "      <td>30</td>\n",
       "      <td>6872</td>\n",
       "      <td>169214</td>\n",
       "      <td>1022</td>\n",
       "      <td>66248</td>\n",
       "      <td>1097</td>\n",
       "      <td>269</td>\n",
       "      <td>0.204848</td>\n",
       "    </tr>\n",
       "    <tr>\n",
       "      <th>10</th>\n",
       "      <td>oct</td>\n",
       "      <td>33868</td>\n",
       "      <td>1706530</td>\n",
       "      <td>167</td>\n",
       "      <td>55</td>\n",
       "      <td>13120</td>\n",
       "      <td>212767</td>\n",
       "      <td>1134</td>\n",
       "      <td>62256</td>\n",
       "      <td>1140</td>\n",
       "      <td>323</td>\n",
       "      <td>0.270303</td>\n",
       "    </tr>\n",
       "    <tr>\n",
       "      <th>9</th>\n",
       "      <td>nov</td>\n",
       "      <td>166970</td>\n",
       "      <td>9976344</td>\n",
       "      <td>2214</td>\n",
       "      <td>726</td>\n",
       "      <td>72983</td>\n",
       "      <td>1005000</td>\n",
       "      <td>7615</td>\n",
       "      <td>169697</td>\n",
       "      <td>3420</td>\n",
       "      <td>403</td>\n",
       "      <td>0.367273</td>\n",
       "    </tr>\n",
       "    <tr>\n",
       "      <th>2</th>\n",
       "      <td>dec</td>\n",
       "      <td>9514</td>\n",
       "      <td>495554</td>\n",
       "      <td>41</td>\n",
       "      <td>11</td>\n",
       "      <td>3089</td>\n",
       "      <td>70476</td>\n",
       "      <td>470</td>\n",
       "      <td>23279</td>\n",
       "      <td>386</td>\n",
       "      <td>100</td>\n",
       "      <td>0.000000</td>\n",
       "    </tr>\n",
       "  </tbody>\n",
       "</table>\n",
       "</div>"
      ],
      "text/plain": [
       "   month     age   balance  housing  loan     day  duration  campaign   pdays  \\\n",
       "4    jan   56812   1328337      521   212   38522    376313      2346   95261   \n",
       "3    feb  108305   3494293     1132   390   16834    657742      6310  181994   \n",
       "7    mar   20483    976051      113    26    6742    116579      1052   33976   \n",
       "0    apr  116608   4522760     2069   358   50774    874026      5733  279132   \n",
       "8    may  535375  14247708    12076  1993  213251   3591856     33693  717998   \n",
       "6    jun  226662   8589515     2227   734   60885   1298332     16746   48894   \n",
       "5    jul  282756   6205676     3338  2105  128897   1847690     24301   55383   \n",
       "1    aug  267962   8918853     1103   604  102655   1451816     24534   83266   \n",
       "11   sep   25452   1128061      129    30    6872    169214      1022   66248   \n",
       "10   oct   33868   1706530      167    55   13120    212767      1134   62256   \n",
       "9    nov  166970   9976344     2214   726   72983   1005000      7615  169697   \n",
       "2    dec    9514    495554       41    11    3089     70476       470   23279   \n",
       "\n",
       "    previous  p_fijo  valor_normalizado  \n",
       "4       1663     142           0.050909  \n",
       "3       3133     441           0.413333  \n",
       "7        567     248           0.179394  \n",
       "0       3086     577           0.578182  \n",
       "8       8053     925           1.000000  \n",
       "6       1057     546           0.540606  \n",
       "5        896     627           0.638788  \n",
       "1       1739     688           0.712727  \n",
       "11      1097     269           0.204848  \n",
       "10      1140     323           0.270303  \n",
       "9       3420     403           0.367273  \n",
       "2        386     100           0.000000  "
      ]
     },
     "execution_count": 267,
     "metadata": {},
     "output_type": "execute_result"
    }
   ],
   "source": [
    "month_grouped['valor_normalizado'] = ((month_grouped.p_fijo - month_grouped.p_fijo.min())/ (month_grouped.p_fijo.max()-month_grouped.p_fijo.min()))"
   ]
  },
  {
   "cell_type": "code",
   "execution_count": 273,
   "id": "2c16180f",
   "metadata": {},
   "outputs": [
    {
     "data": {
      "application/vnd.plotly.v1+json": {
       "config": {
        "plotlyServerURL": "https://plot.ly"
       },
       "data": [
        {
         "mode": "lines",
         "name": "Argentina",
         "type": "scatter",
         "x": [
          "jan",
          "feb",
          "mar",
          "apr",
          "may",
          "jun",
          "jul",
          "aug",
          "sep",
          "oct",
          "nov",
          "dec"
         ],
         "y": [
          0.7957099118819475,
          0.549057376260134,
          1,
          0.08641591729129033,
          0,
          0.08216154958075167,
          0.24695654558669358,
          0.37356517726479227,
          0.44904358596828725,
          0.3980816757475388,
          0.4993983722023715,
          0.42536459741363486
         ]
        },
        {
         "mode": "lines",
         "name": "Portugal",
         "type": "scatter",
         "x": [
          "jan",
          "feb",
          "mar",
          "apr",
          "may",
          "jun",
          "jul",
          "aug",
          "sep",
          "oct",
          "nov",
          "dec"
         ],
         "y": [
          0.05090909090909091,
          0.41333333333333333,
          0.17939393939393938,
          0.5781818181818181,
          1,
          0.5406060606060606,
          0.6387878787878788,
          0.7127272727272728,
          0.20484848484848484,
          0.2703030303030303,
          0.36727272727272725,
          0
         ]
        }
       ],
       "layout": {
        "template": {
         "data": {
          "bar": [
           {
            "error_x": {
             "color": "#2a3f5f"
            },
            "error_y": {
             "color": "#2a3f5f"
            },
            "marker": {
             "line": {
              "color": "#E5ECF6",
              "width": 0.5
             },
             "pattern": {
              "fillmode": "overlay",
              "size": 10,
              "solidity": 0.2
             }
            },
            "type": "bar"
           }
          ],
          "barpolar": [
           {
            "marker": {
             "line": {
              "color": "#E5ECF6",
              "width": 0.5
             },
             "pattern": {
              "fillmode": "overlay",
              "size": 10,
              "solidity": 0.2
             }
            },
            "type": "barpolar"
           }
          ],
          "carpet": [
           {
            "aaxis": {
             "endlinecolor": "#2a3f5f",
             "gridcolor": "white",
             "linecolor": "white",
             "minorgridcolor": "white",
             "startlinecolor": "#2a3f5f"
            },
            "baxis": {
             "endlinecolor": "#2a3f5f",
             "gridcolor": "white",
             "linecolor": "white",
             "minorgridcolor": "white",
             "startlinecolor": "#2a3f5f"
            },
            "type": "carpet"
           }
          ],
          "choropleth": [
           {
            "colorbar": {
             "outlinewidth": 0,
             "ticks": ""
            },
            "type": "choropleth"
           }
          ],
          "contour": [
           {
            "colorbar": {
             "outlinewidth": 0,
             "ticks": ""
            },
            "colorscale": [
             [
              0,
              "#0d0887"
             ],
             [
              0.1111111111111111,
              "#46039f"
             ],
             [
              0.2222222222222222,
              "#7201a8"
             ],
             [
              0.3333333333333333,
              "#9c179e"
             ],
             [
              0.4444444444444444,
              "#bd3786"
             ],
             [
              0.5555555555555556,
              "#d8576b"
             ],
             [
              0.6666666666666666,
              "#ed7953"
             ],
             [
              0.7777777777777778,
              "#fb9f3a"
             ],
             [
              0.8888888888888888,
              "#fdca26"
             ],
             [
              1,
              "#f0f921"
             ]
            ],
            "type": "contour"
           }
          ],
          "contourcarpet": [
           {
            "colorbar": {
             "outlinewidth": 0,
             "ticks": ""
            },
            "type": "contourcarpet"
           }
          ],
          "heatmap": [
           {
            "colorbar": {
             "outlinewidth": 0,
             "ticks": ""
            },
            "colorscale": [
             [
              0,
              "#0d0887"
             ],
             [
              0.1111111111111111,
              "#46039f"
             ],
             [
              0.2222222222222222,
              "#7201a8"
             ],
             [
              0.3333333333333333,
              "#9c179e"
             ],
             [
              0.4444444444444444,
              "#bd3786"
             ],
             [
              0.5555555555555556,
              "#d8576b"
             ],
             [
              0.6666666666666666,
              "#ed7953"
             ],
             [
              0.7777777777777778,
              "#fb9f3a"
             ],
             [
              0.8888888888888888,
              "#fdca26"
             ],
             [
              1,
              "#f0f921"
             ]
            ],
            "type": "heatmap"
           }
          ],
          "heatmapgl": [
           {
            "colorbar": {
             "outlinewidth": 0,
             "ticks": ""
            },
            "colorscale": [
             [
              0,
              "#0d0887"
             ],
             [
              0.1111111111111111,
              "#46039f"
             ],
             [
              0.2222222222222222,
              "#7201a8"
             ],
             [
              0.3333333333333333,
              "#9c179e"
             ],
             [
              0.4444444444444444,
              "#bd3786"
             ],
             [
              0.5555555555555556,
              "#d8576b"
             ],
             [
              0.6666666666666666,
              "#ed7953"
             ],
             [
              0.7777777777777778,
              "#fb9f3a"
             ],
             [
              0.8888888888888888,
              "#fdca26"
             ],
             [
              1,
              "#f0f921"
             ]
            ],
            "type": "heatmapgl"
           }
          ],
          "histogram": [
           {
            "marker": {
             "pattern": {
              "fillmode": "overlay",
              "size": 10,
              "solidity": 0.2
             }
            },
            "type": "histogram"
           }
          ],
          "histogram2d": [
           {
            "colorbar": {
             "outlinewidth": 0,
             "ticks": ""
            },
            "colorscale": [
             [
              0,
              "#0d0887"
             ],
             [
              0.1111111111111111,
              "#46039f"
             ],
             [
              0.2222222222222222,
              "#7201a8"
             ],
             [
              0.3333333333333333,
              "#9c179e"
             ],
             [
              0.4444444444444444,
              "#bd3786"
             ],
             [
              0.5555555555555556,
              "#d8576b"
             ],
             [
              0.6666666666666666,
              "#ed7953"
             ],
             [
              0.7777777777777778,
              "#fb9f3a"
             ],
             [
              0.8888888888888888,
              "#fdca26"
             ],
             [
              1,
              "#f0f921"
             ]
            ],
            "type": "histogram2d"
           }
          ],
          "histogram2dcontour": [
           {
            "colorbar": {
             "outlinewidth": 0,
             "ticks": ""
            },
            "colorscale": [
             [
              0,
              "#0d0887"
             ],
             [
              0.1111111111111111,
              "#46039f"
             ],
             [
              0.2222222222222222,
              "#7201a8"
             ],
             [
              0.3333333333333333,
              "#9c179e"
             ],
             [
              0.4444444444444444,
              "#bd3786"
             ],
             [
              0.5555555555555556,
              "#d8576b"
             ],
             [
              0.6666666666666666,
              "#ed7953"
             ],
             [
              0.7777777777777778,
              "#fb9f3a"
             ],
             [
              0.8888888888888888,
              "#fdca26"
             ],
             [
              1,
              "#f0f921"
             ]
            ],
            "type": "histogram2dcontour"
           }
          ],
          "mesh3d": [
           {
            "colorbar": {
             "outlinewidth": 0,
             "ticks": ""
            },
            "type": "mesh3d"
           }
          ],
          "parcoords": [
           {
            "line": {
             "colorbar": {
              "outlinewidth": 0,
              "ticks": ""
             }
            },
            "type": "parcoords"
           }
          ],
          "pie": [
           {
            "automargin": true,
            "type": "pie"
           }
          ],
          "scatter": [
           {
            "fillpattern": {
             "fillmode": "overlay",
             "size": 10,
             "solidity": 0.2
            },
            "type": "scatter"
           }
          ],
          "scatter3d": [
           {
            "line": {
             "colorbar": {
              "outlinewidth": 0,
              "ticks": ""
             }
            },
            "marker": {
             "colorbar": {
              "outlinewidth": 0,
              "ticks": ""
             }
            },
            "type": "scatter3d"
           }
          ],
          "scattercarpet": [
           {
            "marker": {
             "colorbar": {
              "outlinewidth": 0,
              "ticks": ""
             }
            },
            "type": "scattercarpet"
           }
          ],
          "scattergeo": [
           {
            "marker": {
             "colorbar": {
              "outlinewidth": 0,
              "ticks": ""
             }
            },
            "type": "scattergeo"
           }
          ],
          "scattergl": [
           {
            "marker": {
             "colorbar": {
              "outlinewidth": 0,
              "ticks": ""
             }
            },
            "type": "scattergl"
           }
          ],
          "scattermapbox": [
           {
            "marker": {
             "colorbar": {
              "outlinewidth": 0,
              "ticks": ""
             }
            },
            "type": "scattermapbox"
           }
          ],
          "scatterpolar": [
           {
            "marker": {
             "colorbar": {
              "outlinewidth": 0,
              "ticks": ""
             }
            },
            "type": "scatterpolar"
           }
          ],
          "scatterpolargl": [
           {
            "marker": {
             "colorbar": {
              "outlinewidth": 0,
              "ticks": ""
             }
            },
            "type": "scatterpolargl"
           }
          ],
          "scatterternary": [
           {
            "marker": {
             "colorbar": {
              "outlinewidth": 0,
              "ticks": ""
             }
            },
            "type": "scatterternary"
           }
          ],
          "surface": [
           {
            "colorbar": {
             "outlinewidth": 0,
             "ticks": ""
            },
            "colorscale": [
             [
              0,
              "#0d0887"
             ],
             [
              0.1111111111111111,
              "#46039f"
             ],
             [
              0.2222222222222222,
              "#7201a8"
             ],
             [
              0.3333333333333333,
              "#9c179e"
             ],
             [
              0.4444444444444444,
              "#bd3786"
             ],
             [
              0.5555555555555556,
              "#d8576b"
             ],
             [
              0.6666666666666666,
              "#ed7953"
             ],
             [
              0.7777777777777778,
              "#fb9f3a"
             ],
             [
              0.8888888888888888,
              "#fdca26"
             ],
             [
              1,
              "#f0f921"
             ]
            ],
            "type": "surface"
           }
          ],
          "table": [
           {
            "cells": {
             "fill": {
              "color": "#EBF0F8"
             },
             "line": {
              "color": "white"
             }
            },
            "header": {
             "fill": {
              "color": "#C8D4E3"
             },
             "line": {
              "color": "white"
             }
            },
            "type": "table"
           }
          ]
         },
         "layout": {
          "annotationdefaults": {
           "arrowcolor": "#2a3f5f",
           "arrowhead": 0,
           "arrowwidth": 1
          },
          "autotypenumbers": "strict",
          "coloraxis": {
           "colorbar": {
            "outlinewidth": 0,
            "ticks": ""
           }
          },
          "colorscale": {
           "diverging": [
            [
             0,
             "#8e0152"
            ],
            [
             0.1,
             "#c51b7d"
            ],
            [
             0.2,
             "#de77ae"
            ],
            [
             0.3,
             "#f1b6da"
            ],
            [
             0.4,
             "#fde0ef"
            ],
            [
             0.5,
             "#f7f7f7"
            ],
            [
             0.6,
             "#e6f5d0"
            ],
            [
             0.7,
             "#b8e186"
            ],
            [
             0.8,
             "#7fbc41"
            ],
            [
             0.9,
             "#4d9221"
            ],
            [
             1,
             "#276419"
            ]
           ],
           "sequential": [
            [
             0,
             "#0d0887"
            ],
            [
             0.1111111111111111,
             "#46039f"
            ],
            [
             0.2222222222222222,
             "#7201a8"
            ],
            [
             0.3333333333333333,
             "#9c179e"
            ],
            [
             0.4444444444444444,
             "#bd3786"
            ],
            [
             0.5555555555555556,
             "#d8576b"
            ],
            [
             0.6666666666666666,
             "#ed7953"
            ],
            [
             0.7777777777777778,
             "#fb9f3a"
            ],
            [
             0.8888888888888888,
             "#fdca26"
            ],
            [
             1,
             "#f0f921"
            ]
           ],
           "sequentialminus": [
            [
             0,
             "#0d0887"
            ],
            [
             0.1111111111111111,
             "#46039f"
            ],
            [
             0.2222222222222222,
             "#7201a8"
            ],
            [
             0.3333333333333333,
             "#9c179e"
            ],
            [
             0.4444444444444444,
             "#bd3786"
            ],
            [
             0.5555555555555556,
             "#d8576b"
            ],
            [
             0.6666666666666666,
             "#ed7953"
            ],
            [
             0.7777777777777778,
             "#fb9f3a"
            ],
            [
             0.8888888888888888,
             "#fdca26"
            ],
            [
             1,
             "#f0f921"
            ]
           ]
          },
          "colorway": [
           "#636efa",
           "#EF553B",
           "#00cc96",
           "#ab63fa",
           "#FFA15A",
           "#19d3f3",
           "#FF6692",
           "#B6E880",
           "#FF97FF",
           "#FECB52"
          ],
          "font": {
           "color": "#2a3f5f"
          },
          "geo": {
           "bgcolor": "white",
           "lakecolor": "white",
           "landcolor": "#E5ECF6",
           "showlakes": true,
           "showland": true,
           "subunitcolor": "white"
          },
          "hoverlabel": {
           "align": "left"
          },
          "hovermode": "closest",
          "mapbox": {
           "style": "light"
          },
          "paper_bgcolor": "white",
          "plot_bgcolor": "#E5ECF6",
          "polar": {
           "angularaxis": {
            "gridcolor": "white",
            "linecolor": "white",
            "ticks": ""
           },
           "bgcolor": "#E5ECF6",
           "radialaxis": {
            "gridcolor": "white",
            "linecolor": "white",
            "ticks": ""
           }
          },
          "scene": {
           "xaxis": {
            "backgroundcolor": "#E5ECF6",
            "gridcolor": "white",
            "gridwidth": 2,
            "linecolor": "white",
            "showbackground": true,
            "ticks": "",
            "zerolinecolor": "white"
           },
           "yaxis": {
            "backgroundcolor": "#E5ECF6",
            "gridcolor": "white",
            "gridwidth": 2,
            "linecolor": "white",
            "showbackground": true,
            "ticks": "",
            "zerolinecolor": "white"
           },
           "zaxis": {
            "backgroundcolor": "#E5ECF6",
            "gridcolor": "white",
            "gridwidth": 2,
            "linecolor": "white",
            "showbackground": true,
            "ticks": "",
            "zerolinecolor": "white"
           }
          },
          "shapedefaults": {
           "line": {
            "color": "#2a3f5f"
           }
          },
          "ternary": {
           "aaxis": {
            "gridcolor": "white",
            "linecolor": "white",
            "ticks": ""
           },
           "baxis": {
            "gridcolor": "white",
            "linecolor": "white",
            "ticks": ""
           },
           "bgcolor": "#E5ECF6",
           "caxis": {
            "gridcolor": "white",
            "linecolor": "white",
            "ticks": ""
           }
          },
          "title": {
           "x": 0.05
          },
          "xaxis": {
           "automargin": true,
           "gridcolor": "white",
           "linecolor": "white",
           "ticks": "",
           "title": {
            "standoff": 15
           },
           "zerolinecolor": "white",
           "zerolinewidth": 2
          },
          "yaxis": {
           "automargin": true,
           "gridcolor": "white",
           "linecolor": "white",
           "ticks": "",
           "title": {
            "standoff": 15
           },
           "zerolinecolor": "white",
           "zerolinewidth": 2
          }
         }
        },
        "title": {
         "text": "Comparación entre la cantidad de plazos fijos en argentina y en el banco de Portugal"
        },
        "xaxis": {
         "title": {
          "text": "Meses"
         }
        },
        "yaxis": {
         "title": {
          "text": "Cantidad de plazos fijos"
         }
        }
       }
      }
     },
     "metadata": {},
     "output_type": "display_data"
    }
   ],
   "source": [
    "# Crear trazas de línea\n",
    "trace1 = go.Scatter(x=arg_month['month'], y=arg_month['valor_normalizado'], name='Argentina', mode='lines')\n",
    "trace2 = go.Scatter(x=month_grouped['month'], y=month_grouped['valor_normalizado'], name='Portugal', mode='lines')\n",
    "\n",
    "# Crear una lista de datos\n",
    "data = [trace1, trace2]\n",
    "\n",
    "# Crear un objeto Layout\n",
    "layout = go.Layout(title='Comparación entre la cantidad de plazos fijos en argentina y en el banco de Portugal', xaxis_title='Meses', yaxis_title='Cantidad de plazos fijos') \n",
    "\n",
    "# Crear la figura\n",
    "fig = go.Figure(data=data, layout=layout)\n",
    "\n",
    "# Mostrar la figura\n",
    "fig.show()\n"
   ]
  },
  {
   "attachments": {},
   "cell_type": "markdown",
   "id": "5713b8ef",
   "metadata": {},
   "source": [
    "Se puede ver una especie de inversión en las tendencias. Es decir, en enero en aRgentina tenemos un punto de grandes cantidades de plazo fijo pero en Portugal no. En Mayo se registra el menor mes de plazos fijos en argentina, pero el mayor mes en Portugal. Esto puede indicar algún patrón relacionado a la estacionalidad. Sin embargo en ambos países de Junio a Agosto se registra una misma pendiente. De todas formas la gran cantidad de diferencia en los datos de cada dataset puede que no permita hacer una conclusión precisa."
   ]
  },
  {
   "cell_type": "code",
   "execution_count": 276,
   "id": "88d59ca3-e29f-4b9e-bd1e-34811d54b133",
   "metadata": {},
   "outputs": [
    {
     "data": {
      "application/vnd.plotly.v1+json": {
       "config": {
        "plotlyServerURL": "https://plot.ly"
       },
       "data": [
        {
         "alignmentgroup": "True",
         "hovertemplate": "color=unknown<br>index=%{x}<br>value=%{y}<extra></extra>",
         "legendgroup": "unknown",
         "marker": {
          "color": "#636efa",
          "pattern": {
           "shape": ""
          }
         },
         "name": "unknown",
         "offsetgroup": "unknown",
         "orientation": "v",
         "showlegend": true,
         "textposition": "auto",
         "type": "bar",
         "x": [
          "unknown"
         ],
         "xaxis": "x",
         "y": [
          36959
         ],
         "yaxis": "y"
        },
        {
         "alignmentgroup": "True",
         "hovertemplate": "color=failure<br>index=%{x}<br>value=%{y}<extra></extra>",
         "legendgroup": "failure",
         "marker": {
          "color": "#EF553B",
          "pattern": {
           "shape": ""
          }
         },
         "name": "failure",
         "offsetgroup": "failure",
         "orientation": "v",
         "showlegend": true,
         "textposition": "auto",
         "type": "bar",
         "x": [
          "failure"
         ],
         "xaxis": "x",
         "y": [
          4901
         ],
         "yaxis": "y"
        },
        {
         "alignmentgroup": "True",
         "hovertemplate": "color=other<br>index=%{x}<br>value=%{y}<extra></extra>",
         "legendgroup": "other",
         "marker": {
          "color": "#00cc96",
          "pattern": {
           "shape": ""
          }
         },
         "name": "other",
         "offsetgroup": "other",
         "orientation": "v",
         "showlegend": true,
         "textposition": "auto",
         "type": "bar",
         "x": [
          "other"
         ],
         "xaxis": "x",
         "y": [
          1840
         ],
         "yaxis": "y"
        },
        {
         "alignmentgroup": "True",
         "hovertemplate": "color=success<br>index=%{x}<br>value=%{y}<extra></extra>",
         "legendgroup": "success",
         "marker": {
          "color": "#ab63fa",
          "pattern": {
           "shape": ""
          }
         },
         "name": "success",
         "offsetgroup": "success",
         "orientation": "v",
         "showlegend": true,
         "textposition": "auto",
         "type": "bar",
         "x": [
          "success"
         ],
         "xaxis": "x",
         "y": [
          1511
         ],
         "yaxis": "y"
        }
       ],
       "layout": {
        "barmode": "relative",
        "legend": {
         "title": {
          "text": "color"
         },
         "tracegroupgap": 0
        },
        "margin": {
         "t": 60
        },
        "template": {
         "data": {
          "bar": [
           {
            "error_x": {
             "color": "#2a3f5f"
            },
            "error_y": {
             "color": "#2a3f5f"
            },
            "marker": {
             "line": {
              "color": "#E5ECF6",
              "width": 0.5
             },
             "pattern": {
              "fillmode": "overlay",
              "size": 10,
              "solidity": 0.2
             }
            },
            "type": "bar"
           }
          ],
          "barpolar": [
           {
            "marker": {
             "line": {
              "color": "#E5ECF6",
              "width": 0.5
             },
             "pattern": {
              "fillmode": "overlay",
              "size": 10,
              "solidity": 0.2
             }
            },
            "type": "barpolar"
           }
          ],
          "carpet": [
           {
            "aaxis": {
             "endlinecolor": "#2a3f5f",
             "gridcolor": "white",
             "linecolor": "white",
             "minorgridcolor": "white",
             "startlinecolor": "#2a3f5f"
            },
            "baxis": {
             "endlinecolor": "#2a3f5f",
             "gridcolor": "white",
             "linecolor": "white",
             "minorgridcolor": "white",
             "startlinecolor": "#2a3f5f"
            },
            "type": "carpet"
           }
          ],
          "choropleth": [
           {
            "colorbar": {
             "outlinewidth": 0,
             "ticks": ""
            },
            "type": "choropleth"
           }
          ],
          "contour": [
           {
            "colorbar": {
             "outlinewidth": 0,
             "ticks": ""
            },
            "colorscale": [
             [
              0,
              "#0d0887"
             ],
             [
              0.1111111111111111,
              "#46039f"
             ],
             [
              0.2222222222222222,
              "#7201a8"
             ],
             [
              0.3333333333333333,
              "#9c179e"
             ],
             [
              0.4444444444444444,
              "#bd3786"
             ],
             [
              0.5555555555555556,
              "#d8576b"
             ],
             [
              0.6666666666666666,
              "#ed7953"
             ],
             [
              0.7777777777777778,
              "#fb9f3a"
             ],
             [
              0.8888888888888888,
              "#fdca26"
             ],
             [
              1,
              "#f0f921"
             ]
            ],
            "type": "contour"
           }
          ],
          "contourcarpet": [
           {
            "colorbar": {
             "outlinewidth": 0,
             "ticks": ""
            },
            "type": "contourcarpet"
           }
          ],
          "heatmap": [
           {
            "colorbar": {
             "outlinewidth": 0,
             "ticks": ""
            },
            "colorscale": [
             [
              0,
              "#0d0887"
             ],
             [
              0.1111111111111111,
              "#46039f"
             ],
             [
              0.2222222222222222,
              "#7201a8"
             ],
             [
              0.3333333333333333,
              "#9c179e"
             ],
             [
              0.4444444444444444,
              "#bd3786"
             ],
             [
              0.5555555555555556,
              "#d8576b"
             ],
             [
              0.6666666666666666,
              "#ed7953"
             ],
             [
              0.7777777777777778,
              "#fb9f3a"
             ],
             [
              0.8888888888888888,
              "#fdca26"
             ],
             [
              1,
              "#f0f921"
             ]
            ],
            "type": "heatmap"
           }
          ],
          "heatmapgl": [
           {
            "colorbar": {
             "outlinewidth": 0,
             "ticks": ""
            },
            "colorscale": [
             [
              0,
              "#0d0887"
             ],
             [
              0.1111111111111111,
              "#46039f"
             ],
             [
              0.2222222222222222,
              "#7201a8"
             ],
             [
              0.3333333333333333,
              "#9c179e"
             ],
             [
              0.4444444444444444,
              "#bd3786"
             ],
             [
              0.5555555555555556,
              "#d8576b"
             ],
             [
              0.6666666666666666,
              "#ed7953"
             ],
             [
              0.7777777777777778,
              "#fb9f3a"
             ],
             [
              0.8888888888888888,
              "#fdca26"
             ],
             [
              1,
              "#f0f921"
             ]
            ],
            "type": "heatmapgl"
           }
          ],
          "histogram": [
           {
            "marker": {
             "pattern": {
              "fillmode": "overlay",
              "size": 10,
              "solidity": 0.2
             }
            },
            "type": "histogram"
           }
          ],
          "histogram2d": [
           {
            "colorbar": {
             "outlinewidth": 0,
             "ticks": ""
            },
            "colorscale": [
             [
              0,
              "#0d0887"
             ],
             [
              0.1111111111111111,
              "#46039f"
             ],
             [
              0.2222222222222222,
              "#7201a8"
             ],
             [
              0.3333333333333333,
              "#9c179e"
             ],
             [
              0.4444444444444444,
              "#bd3786"
             ],
             [
              0.5555555555555556,
              "#d8576b"
             ],
             [
              0.6666666666666666,
              "#ed7953"
             ],
             [
              0.7777777777777778,
              "#fb9f3a"
             ],
             [
              0.8888888888888888,
              "#fdca26"
             ],
             [
              1,
              "#f0f921"
             ]
            ],
            "type": "histogram2d"
           }
          ],
          "histogram2dcontour": [
           {
            "colorbar": {
             "outlinewidth": 0,
             "ticks": ""
            },
            "colorscale": [
             [
              0,
              "#0d0887"
             ],
             [
              0.1111111111111111,
              "#46039f"
             ],
             [
              0.2222222222222222,
              "#7201a8"
             ],
             [
              0.3333333333333333,
              "#9c179e"
             ],
             [
              0.4444444444444444,
              "#bd3786"
             ],
             [
              0.5555555555555556,
              "#d8576b"
             ],
             [
              0.6666666666666666,
              "#ed7953"
             ],
             [
              0.7777777777777778,
              "#fb9f3a"
             ],
             [
              0.8888888888888888,
              "#fdca26"
             ],
             [
              1,
              "#f0f921"
             ]
            ],
            "type": "histogram2dcontour"
           }
          ],
          "mesh3d": [
           {
            "colorbar": {
             "outlinewidth": 0,
             "ticks": ""
            },
            "type": "mesh3d"
           }
          ],
          "parcoords": [
           {
            "line": {
             "colorbar": {
              "outlinewidth": 0,
              "ticks": ""
             }
            },
            "type": "parcoords"
           }
          ],
          "pie": [
           {
            "automargin": true,
            "type": "pie"
           }
          ],
          "scatter": [
           {
            "fillpattern": {
             "fillmode": "overlay",
             "size": 10,
             "solidity": 0.2
            },
            "type": "scatter"
           }
          ],
          "scatter3d": [
           {
            "line": {
             "colorbar": {
              "outlinewidth": 0,
              "ticks": ""
             }
            },
            "marker": {
             "colorbar": {
              "outlinewidth": 0,
              "ticks": ""
             }
            },
            "type": "scatter3d"
           }
          ],
          "scattercarpet": [
           {
            "marker": {
             "colorbar": {
              "outlinewidth": 0,
              "ticks": ""
             }
            },
            "type": "scattercarpet"
           }
          ],
          "scattergeo": [
           {
            "marker": {
             "colorbar": {
              "outlinewidth": 0,
              "ticks": ""
             }
            },
            "type": "scattergeo"
           }
          ],
          "scattergl": [
           {
            "marker": {
             "colorbar": {
              "outlinewidth": 0,
              "ticks": ""
             }
            },
            "type": "scattergl"
           }
          ],
          "scattermapbox": [
           {
            "marker": {
             "colorbar": {
              "outlinewidth": 0,
              "ticks": ""
             }
            },
            "type": "scattermapbox"
           }
          ],
          "scatterpolar": [
           {
            "marker": {
             "colorbar": {
              "outlinewidth": 0,
              "ticks": ""
             }
            },
            "type": "scatterpolar"
           }
          ],
          "scatterpolargl": [
           {
            "marker": {
             "colorbar": {
              "outlinewidth": 0,
              "ticks": ""
             }
            },
            "type": "scatterpolargl"
           }
          ],
          "scatterternary": [
           {
            "marker": {
             "colorbar": {
              "outlinewidth": 0,
              "ticks": ""
             }
            },
            "type": "scatterternary"
           }
          ],
          "surface": [
           {
            "colorbar": {
             "outlinewidth": 0,
             "ticks": ""
            },
            "colorscale": [
             [
              0,
              "#0d0887"
             ],
             [
              0.1111111111111111,
              "#46039f"
             ],
             [
              0.2222222222222222,
              "#7201a8"
             ],
             [
              0.3333333333333333,
              "#9c179e"
             ],
             [
              0.4444444444444444,
              "#bd3786"
             ],
             [
              0.5555555555555556,
              "#d8576b"
             ],
             [
              0.6666666666666666,
              "#ed7953"
             ],
             [
              0.7777777777777778,
              "#fb9f3a"
             ],
             [
              0.8888888888888888,
              "#fdca26"
             ],
             [
              1,
              "#f0f921"
             ]
            ],
            "type": "surface"
           }
          ],
          "table": [
           {
            "cells": {
             "fill": {
              "color": "#EBF0F8"
             },
             "line": {
              "color": "white"
             }
            },
            "header": {
             "fill": {
              "color": "#C8D4E3"
             },
             "line": {
              "color": "white"
             }
            },
            "type": "table"
           }
          ]
         },
         "layout": {
          "annotationdefaults": {
           "arrowcolor": "#2a3f5f",
           "arrowhead": 0,
           "arrowwidth": 1
          },
          "autotypenumbers": "strict",
          "coloraxis": {
           "colorbar": {
            "outlinewidth": 0,
            "ticks": ""
           }
          },
          "colorscale": {
           "diverging": [
            [
             0,
             "#8e0152"
            ],
            [
             0.1,
             "#c51b7d"
            ],
            [
             0.2,
             "#de77ae"
            ],
            [
             0.3,
             "#f1b6da"
            ],
            [
             0.4,
             "#fde0ef"
            ],
            [
             0.5,
             "#f7f7f7"
            ],
            [
             0.6,
             "#e6f5d0"
            ],
            [
             0.7,
             "#b8e186"
            ],
            [
             0.8,
             "#7fbc41"
            ],
            [
             0.9,
             "#4d9221"
            ],
            [
             1,
             "#276419"
            ]
           ],
           "sequential": [
            [
             0,
             "#0d0887"
            ],
            [
             0.1111111111111111,
             "#46039f"
            ],
            [
             0.2222222222222222,
             "#7201a8"
            ],
            [
             0.3333333333333333,
             "#9c179e"
            ],
            [
             0.4444444444444444,
             "#bd3786"
            ],
            [
             0.5555555555555556,
             "#d8576b"
            ],
            [
             0.6666666666666666,
             "#ed7953"
            ],
            [
             0.7777777777777778,
             "#fb9f3a"
            ],
            [
             0.8888888888888888,
             "#fdca26"
            ],
            [
             1,
             "#f0f921"
            ]
           ],
           "sequentialminus": [
            [
             0,
             "#0d0887"
            ],
            [
             0.1111111111111111,
             "#46039f"
            ],
            [
             0.2222222222222222,
             "#7201a8"
            ],
            [
             0.3333333333333333,
             "#9c179e"
            ],
            [
             0.4444444444444444,
             "#bd3786"
            ],
            [
             0.5555555555555556,
             "#d8576b"
            ],
            [
             0.6666666666666666,
             "#ed7953"
            ],
            [
             0.7777777777777778,
             "#fb9f3a"
            ],
            [
             0.8888888888888888,
             "#fdca26"
            ],
            [
             1,
             "#f0f921"
            ]
           ]
          },
          "colorway": [
           "#636efa",
           "#EF553B",
           "#00cc96",
           "#ab63fa",
           "#FFA15A",
           "#19d3f3",
           "#FF6692",
           "#B6E880",
           "#FF97FF",
           "#FECB52"
          ],
          "font": {
           "color": "#2a3f5f"
          },
          "geo": {
           "bgcolor": "white",
           "lakecolor": "white",
           "landcolor": "#E5ECF6",
           "showlakes": true,
           "showland": true,
           "subunitcolor": "white"
          },
          "hoverlabel": {
           "align": "left"
          },
          "hovermode": "closest",
          "mapbox": {
           "style": "light"
          },
          "paper_bgcolor": "white",
          "plot_bgcolor": "#E5ECF6",
          "polar": {
           "angularaxis": {
            "gridcolor": "white",
            "linecolor": "white",
            "ticks": ""
           },
           "bgcolor": "#E5ECF6",
           "radialaxis": {
            "gridcolor": "white",
            "linecolor": "white",
            "ticks": ""
           }
          },
          "scene": {
           "xaxis": {
            "backgroundcolor": "#E5ECF6",
            "gridcolor": "white",
            "gridwidth": 2,
            "linecolor": "white",
            "showbackground": true,
            "ticks": "",
            "zerolinecolor": "white"
           },
           "yaxis": {
            "backgroundcolor": "#E5ECF6",
            "gridcolor": "white",
            "gridwidth": 2,
            "linecolor": "white",
            "showbackground": true,
            "ticks": "",
            "zerolinecolor": "white"
           },
           "zaxis": {
            "backgroundcolor": "#E5ECF6",
            "gridcolor": "white",
            "gridwidth": 2,
            "linecolor": "white",
            "showbackground": true,
            "ticks": "",
            "zerolinecolor": "white"
           }
          },
          "shapedefaults": {
           "line": {
            "color": "#2a3f5f"
           }
          },
          "ternary": {
           "aaxis": {
            "gridcolor": "white",
            "linecolor": "white",
            "ticks": ""
           },
           "baxis": {
            "gridcolor": "white",
            "linecolor": "white",
            "ticks": ""
           },
           "bgcolor": "#E5ECF6",
           "caxis": {
            "gridcolor": "white",
            "linecolor": "white",
            "ticks": ""
           }
          },
          "title": {
           "x": 0.05
          },
          "xaxis": {
           "automargin": true,
           "gridcolor": "white",
           "linecolor": "white",
           "ticks": "",
           "title": {
            "standoff": 15
           },
           "zerolinecolor": "white",
           "zerolinewidth": 2
          },
          "yaxis": {
           "automargin": true,
           "gridcolor": "white",
           "linecolor": "white",
           "ticks": "",
           "title": {
            "standoff": 15
           },
           "zerolinecolor": "white",
           "zerolinewidth": 2
          }
         }
        },
        "xaxis": {
         "anchor": "y",
         "domain": [
          0,
          1
         ],
         "title": {
          "text": "index"
         }
        },
        "yaxis": {
         "anchor": "x",
         "domain": [
          0,
          1
         ],
         "title": {
          "text": "value"
         }
        }
       }
      }
     },
     "metadata": {},
     "output_type": "display_data"
    }
   ],
   "source": [
    "px.bar(df.poutcome.value_counts(), color= df.poutcome.unique())"
   ]
  },
  {
   "cell_type": "markdown",
   "id": "975410a3-ff9b-4c0c-8cf5-64eb2a1da524",
   "metadata": {},
   "source": [
    "La gran mayoría de resultados de las campañas, no están registrados, se desconoce o han fallado."
   ]
  },
  {
   "cell_type": "code",
   "execution_count": 277,
   "id": "43c82bb4",
   "metadata": {},
   "outputs": [],
   "source": [
    "corr = df.corr(numeric_only=True)"
   ]
  },
  {
   "cell_type": "code",
   "execution_count": 290,
   "id": "6d673c03-e054-4098-b852-edc3d6996a6b",
   "metadata": {},
   "outputs": [
    {
     "data": {
      "image/png": "[encoded data removed]",
      "text/plain": [
       "<Figure size 500x500 with 2 Axes>"
      ]
     },
     "metadata": {},
     "output_type": "display_data"
    }
   ],
   "source": [
    "# generar una máscara para la diagonal superior\n",
    "mask = np.triu(np.ones_like(corr, dtype=bool))\n",
    "\n",
    "# establecer el tamaño del gráfico\n",
    "f, ax = plt.subplots(figsize=(5, 5))\n",
    "\n",
    "# generar una paleta de colores personalizada\n",
    "cmap = sns.diverging_palette(230, 20, as_cmap=True)\n",
    "\n",
    "# establecer el color para los cuadrados por encima de la diagonal\n",
    "sns.set(style=\"white\")\n",
    "mask = np.triu(np.ones_like(corr, dtype=bool))\n",
    "cmap = sns.diverging_palette(230, 20, as_cmap=True)\n",
    "\n",
    "# dibujar el heatmap con la máscara y el ratio de aspecto correcto\n",
    "sns.heatmap(corr, mask=mask, cmap=cmap, vmax=.3, center=0,\n",
    "            square=True, linewidths=.5, cbar_kws={\"shrink\": .5},\n",
    "            annot=True, fmt='.2f', annot_kws={\"fontsize\":8, \"color\":'black'})\n",
    "\n",
    "# personalizar el gráfico\n",
    "ax.set_title('Matriz de correlación')\n",
    "plt.xticks(rotation=45)\n",
    "plt.yticks(rotation=0)\n",
    "plt.tight_layout()\n",
    "\n",
    "# mostrar el gráfico\n",
    "plt.show()\n"
   ]
  },
  {
   "attachments": {},
   "cell_type": "markdown",
   "id": "29eb2f4f",
   "metadata": {},
   "source": [
    "Podemos ver que nuestras variables númericas no están muy relacionadas. Sobre todo en la variable objetivo \"p_fijo\"."
   ]
  },
  {
   "cell_type": "markdown",
   "id": "38c8c0b6-c016-4a81-badb-57f24ea18fe3",
   "metadata": {},
   "source": [
    "# Obtención de insights 06 de abril de 2023 "
   ]
  },
  {
   "cell_type": "markdown",
   "id": "a45b2262-2f4f-4ad4-8aae-cee86e45857f",
   "metadata": {},
   "source": [
    "Qué paso con los resultados de campañas anteriores, podremos encontrar algo claro con respecto al resultado de la campaña anterior y como refleja esto en la cantidad de depósitos?"
   ]
  },
  {
   "cell_type": "code",
   "execution_count": null,
   "id": "2c953179-360a-4e61-9653-a40beed538ae",
   "metadata": {},
   "outputs": [],
   "source": [
    "outcome_grouped = df.groupby('poutcome').sum()\n",
    "outcome_grouped.reset_index(inplace=True)\n",
    "outcome_grouped"
   ]
  },
  {
   "cell_type": "code",
   "execution_count": null,
   "id": "e1055d48-273c-46ce-8c4a-e8b66b71f762",
   "metadata": {},
   "outputs": [],
   "source": [
    "f, ax = plt.subplots(figsize=(5, 5))\n",
    "sns.barplot(data=outcome_grouped, x='poutcome', y='p_fijo').set(title=\"Cantidad de plazos fijos por resultado de la campaña anterior\")\n",
    "plt.ylabel('Cantidad de plazos fijos')\n",
    "plt.xlabel('Resultado de la campaña anterior')"
   ]
  },
  {
   "cell_type": "markdown",
   "id": "f3b7d755-9c89-4491-b49e-ee2f34217a0f",
   "metadata": {},
   "source": [
    "La gran mayoría de plazos fijos no se sabe de que campaña anterior fue, en segundo lugar, los plazos fijos que el resultado de la campaña anterior fue exitoso es el que mayor cantidad registra. sorprende que en 3er lugar esté el resultado de fracaso en la campaña anterior. Esto puede indicar, que a pesar de que una campaña no tenga un resultado deseado, no quita la posibilidad de que la persona haga un depósito. También nos da a entender que hay que mejorar el sistema de creación de datos porque la gran mayoría de depósito se desconocer el resultado de la campaña anterior."
   ]
  },
  {
   "cell_type": "code",
   "execution_count": null,
   "id": "dc434aa8-f9e3-4cae-85fa-35472f4df467",
   "metadata": {},
   "outputs": [],
   "source": [
    "columns= ['age', 'balance','day', 'month', 'duration', 'campaign', 'pdays', 'previous']"
   ]
  },
  {
   "cell_type": "code",
   "execution_count": null,
   "id": "a7c1e1a4-c3a4-47e2-8fe9-d4b4d5ef1912",
   "metadata": {},
   "outputs": [],
   "source": [
    "def scatter_columns_in_grid(df, columns):\n",
    "    # Create a PairGrid\n",
    "    g = sns.PairGrid(df[columns])\n",
    "\n",
    "    # Map a scatter plot onto each subplot\n",
    "    g.map(sns.scatterplot, hue= df.marital, legend=True)\n",
    "    plt.show()"
   ]
  },
  {
   "cell_type": "code",
   "execution_count": null,
   "id": "5c9d6ab2-ad1d-4d7f-8d82-738070173316",
   "metadata": {},
   "outputs": [],
   "source": [
    "scatter_columns_in_grid(df,columns)"
   ]
  },
  {
   "cell_type": "code",
   "execution_count": null,
   "id": "62a0517b-7cd6-47af-94ae-3f7c42cb3c15",
   "metadata": {},
   "outputs": [],
   "source": [
    "f, ax = plt.subplots(figsize=(5, 5))\n",
    "sns.scatterplot(data=df, x='age', y='balance', hue= 'job').set(title='Distribución del balance por edad')"
   ]
  },
  {
   "cell_type": "code",
   "execution_count": null,
   "id": "4401daa9-1ec3-468b-8d04-f31a28ffbb83",
   "metadata": {},
   "outputs": [],
   "source": [
    "days_group= df.groupby(['day','campaign']).sum(numeric_only=True)\n",
    "days_group.reset_index(inplace=True)\n",
    "days_group"
   ]
  },
  {
   "cell_type": "code",
   "execution_count": null,
   "id": "1ef67fb1-c78d-4293-b6fd-98599392a1cf",
   "metadata": {},
   "outputs": [],
   "source": [
    "sns.jointplot(data=days_group, x='day', y= 'p_fijo', hue=df.marital)"
   ]
  },
  {
   "cell_type": "code",
   "execution_count": null,
   "id": "6acc13eb-8453-4dcc-8a3d-f0edd3a8d223",
   "metadata": {},
   "outputs": [],
   "source": [
    "month_group= df.groupby(['month','campaign']).sum(numeric_only=True)\n",
    "month_group.reset_index(inplace=True)\n",
    "month_group"
   ]
  },
  {
   "cell_type": "markdown",
   "id": "3a5b8632-9647-4d4e-a8b7-3e642c1f6462",
   "metadata": {},
   "source": [
    "Pareciera haber una mayor cantidad de plazos fijos realizados entre el día 10 y el 20. "
   ]
  },
  {
   "cell_type": "code",
   "execution_count": null,
   "id": "bee06aef-953e-4e64-a812-ed26fe8566b6",
   "metadata": {},
   "outputs": [],
   "source": [
    "f,ax = plt.subplots(figsize=(8,5))\n",
    "sns.scatterplot(data=days_group, x=df.balance, y='p_fijo',hue=df.education, size=df.education,sizes=(20, 200), legend=\"full\").set(title='Cantidad de plazos fijos por total de balance según nivel académico')"
   ]
  },
  {
   "cell_type": "code",
   "execution_count": null,
   "id": "396b0ad2-18c0-4bd8-876b-aec755036b0a",
   "metadata": {},
   "outputs": [],
   "source": [
    "f,ax= plt.subplots(figsize=(5,5))\n",
    "sns.histplot(data=df, x='age', hue='marital', multiple=\"stack\").set(title=\"Distribución de la edad por estado marital\")"
   ]
  },
  {
   "cell_type": "markdown",
   "id": "a717158e-8ddb-4192-9b80-dc7f9cd88b54",
   "metadata": {},
   "source": [
    "Como ya sabemos que estado marital tiene mayor probabilidad de hacer un plazo fijo, podríamos definir la edad objetivo de las personas entre los 30 y los 60. Ya que la gran mayoría de personas está casada entre esas edades. Podríamos ajustar las campañas de marketing para este grupo de personas sabiendo que son las que mayor posibilidad de inversión pueden hacer."
   ]
  },
  {
   "cell_type": "code",
   "execution_count": null,
   "id": "238dc4ac-c83c-4873-988e-638e9ee714da",
   "metadata": {},
   "outputs": [],
   "source": [
    "df_renamed= pd.read_csv('bank-full.csv', sep=';')\n",
    "df_renamed"
   ]
  },
  {
   "cell_type": "code",
   "execution_count": null,
   "id": "e6ee938c-f0f3-489b-b84c-dbbf97a0d94d",
   "metadata": {},
   "outputs": [],
   "source": [
    "sns.catplot(x=\"age\", y=\"marital\", hue=\"y\", kind=\"bar\", data=df_renamed)"
   ]
  },
  {
   "cell_type": "code",
   "execution_count": null,
   "id": "6ff33d8c-e289-482c-99a9-e5446cddc969",
   "metadata": {},
   "outputs": [],
   "source": [
    "pivot_df = df.pivot_table(values='p_fijo', index='marital', columns='age', aggfunc='sum')\n",
    "pivot_df"
   ]
  },
  {
   "cell_type": "code",
   "execution_count": null,
   "id": "9aa3e33e-7a0e-4517-bf1e-bfc50bf87909",
   "metadata": {},
   "outputs": [],
   "source": [
    "# Ajusta el tamaño del gráfico\n",
    "plt.figure(figsize=(10,6))\n",
    "\n",
    "# Crea un heatmap con Seaborn y ajusta el tamaño de la fuente de las etiquetas de datos\n",
    "sns.heatmap(pivot_df, cmap='Blues', annot=True, fmt='g', cbar=True, annot_kws={\"fontsize\":5})\n",
    "\n",
    "# Añade etiquetas a los ejes y el título\n",
    "plt.xlabel('Edad', fontsize=14)\n",
    "plt.ylabel('Estado Marital', fontsize=14)\n",
    "plt.title('Cantidad de depósitos a plazo fijo por grupo etario y estado civil', fontsize=16)\n",
    "\n",
    "# Muestra el gráfico\n",
    "plt.show()"
   ]
  },
  {
   "cell_type": "markdown",
   "id": "0f0f28f4-0b6e-494c-8255-0ac0ed06c528",
   "metadata": {},
   "source": [
    "Aquí podemos ver específicamente que para solteros entre 25 y 32 años es lo más ótimo.\n",
    "\n",
    "Para casados, entre los 31 y 42. \n",
    "\n",
    "Con esta información podemos ver que no es muy buena idea invertir por personas divorciadas."
   ]
  },
  {
   "attachments": {},
   "cell_type": "markdown",
   "id": "7fb92225",
   "metadata": {},
   "source": [
    "# Pre-Entrega 18/04/23\n",
    "Selección y entrenamiento de un modelo para forecasting de próximos depósito y predicción de plazo fijo por features."
   ]
  },
  {
   "cell_type": "code",
   "execution_count": 294,
   "id": "edf1cc8f",
   "metadata": {},
   "outputs": [
    {
     "name": "stdout",
     "output_type": "stream",
     "text": [
      "              precision    recall  f1-score   support\n",
      "\n",
      "           0       0.88      1.00      0.94      7952\n",
      "           1       0.54      0.01      0.01      1091\n",
      "\n",
      "    accuracy                           0.88      9043\n",
      "   macro avg       0.71      0.50      0.47      9043\n",
      "weighted avg       0.84      0.88      0.82      9043\n",
      "\n"
     ]
    }
   ],
   "source": [
    "from sklearn import svm\n",
    "from sklearn.preprocessing import OneHotEncoder\n",
    "from sklearn.model_selection import train_test_split\n",
    "from sklearn.metrics import classification_report\n",
    "from sklearn.naive_bayes import GaussianNB\n",
    "from sklearn.model_selection import cross_val_score\n",
    "from sklearn.metrics import r2_score\n",
    "from sklearn.metrics import confusion_matrix\n",
    "from sklearn.metrics import accuracy_score\n",
    "from sklearn.preprocessing import LabelEncoder\n",
    "from sklearn.svm import SVC\n",
    "from sklearn.linear_model import LinearRegression\n",
    "\n",
    "\n",
    "\n",
    "# Define your input features and target variable\n",
    "features = ['job', 'marital','education','default','contact', 'month', 'poutcome']\n",
    "numerical_features = ['age','balance','housing','loan','duration','campaign','pdays', 'previous']\n",
    "enc = OneHotEncoder()\n",
    "enc.fit(df[features])\n",
    "cat_features_encoded = enc.transform(df[features])\n",
    "\n",
    "X = np.concatenate((cat_features_encoded.toarray(), df[numerical_features]), axis=1)\n",
    "y = df['p_fijo']\n",
    "\n",
    "# Split your data into training and test sets\n",
    "X_train, X_test, y_train, y_test = train_test_split(X, y, test_size=0.2, random_state=42)\n",
    "\n",
    "# Extract the categorical features from your input data\n",
    "cat_features_train = X_train[:, :len(features)]\n",
    "cat_features_test = X_test[:, :len(features)]\n",
    "\n",
    "# Create an instance of OneHotEncoder\n",
    "enc = OneHotEncoder()\n",
    "\n",
    "# Fit the encoder to the categorical features in the training set\n",
    "enc.fit(cat_features_train)\n",
    "\n",
    "# Transform the categorical features in the training and test sets into binary vectors\n",
    "cat_features_train_encoded = enc.transform(cat_features_train)\n",
    "cat_features_test_encoded = enc.transform(cat_features_test)\n",
    "\n",
    "# Combine the encoded categorical features with the numerical features in the training and test sets\n",
    "X_train_encoded = np.concatenate((cat_features_train_encoded.toarray(), X_train[:, len(features):]), axis=1)\n",
    "X_test_encoded = np.concatenate((cat_features_test_encoded.toarray(), X_test[:, len(features):]), axis=1)\n",
    "\n",
    "# Train an SVM classifier on the encoded training data\n",
    "clf = svm.SVC(decision_function_shape='ovo')\n",
    "clf.fit(X_train_encoded, y_train)\n",
    "\n",
    "# Make predictions on the test set\n",
    "y_pred = clf.predict(X_test_encoded)\n",
    "\n",
    "# Evaluate the accuracy of the classifier\n",
    "print(classification_report(y_test, y_pred))\n"
   ]
  },
  {
   "cell_type": "code",
   "execution_count": 295,
   "id": "7c941d0f",
   "metadata": {},
   "outputs": [
    {
     "data": {
      "image/png": "[encoded data removed]",
      "text/plain": [
       "<Figure size 500x500 with 2 Axes>"
      ]
     },
     "metadata": {},
     "output_type": "display_data"
    }
   ],
   "source": [
    "# Create the confusion matrix\n",
    "cm = confusion_matrix(y_test, y_pred)\n",
    "ax,fig= plt.subplots(figsize=(5,5))\n",
    "sns.heatmap(cm, annot=True, cmap=\"Blues\", fmt=\"d\")\n",
    "\n",
    "# Add labels to the plot\n",
    "plt.xlabel(\"Predicción\")\n",
    "plt.ylabel(\"Resultados verdaderos\")\n",
    "plt.title(\"Matriz de confusión\")\n",
    "\n",
    "# Show the plot\n",
    "plt.show()"
   ]
  },
  {
   "cell_type": "code",
   "execution_count": 314,
   "id": "9818b4ae",
   "metadata": {},
   "outputs": [
    {
     "name": "stdout",
     "output_type": "stream",
     "text": [
      "              precision    recall  f1-score   support\n",
      "\n",
      "           0       0.90      0.98      0.94      7996\n",
      "           1       0.60      0.19      0.28      1047\n",
      "\n",
      "    accuracy                           0.89      9043\n",
      "   macro avg       0.75      0.58      0.61      9043\n",
      "weighted avg       0.87      0.89      0.87      9043\n",
      "\n"
     ]
    }
   ],
   "source": [
    "le = LabelEncoder()\n",
    "\n",
    "df_to_encode = df\n",
    "\n",
    "df_to_encode[['job', 'marital','education', 'poutcome']] = df_to_encode[['job', 'marital','education', 'poutcome']].apply(le.fit_transform)\n",
    "\n",
    "\n",
    "# Define your input features and target variable\n",
    "features = ['job','age', 'marital', 'education','housing', 'loan', 'duration']\n",
    "\n",
    "# Split your data into training and test sets\n",
    "\n",
    "X = df_to_encode[features]\n",
    "y = df['p_fijo']\n",
    "\n",
    "X_train, X_test, y_train, y_test = train_test_split(X, y, test_size=0.2, random_state=45)\n",
    "\n",
    "# Train an SVM classifier on the encoded training data\n",
    "clf = svm.SVC()\n",
    "clf.fit(X_train, y_train)\n",
    "\n",
    "# Make predictions on the test set\n",
    "y_pred_clf = clf.predict(X_test)\n",
    "\n",
    "# Evaluate the accuracy of the classifier\n",
    "print(classification_report(y_test, y_pred_clf))"
   ]
  },
  {
   "cell_type": "code",
   "execution_count": 320,
   "id": "d317ce63",
   "metadata": {},
   "outputs": [
    {
     "name": "stderr",
     "output_type": "stream",
     "text": [
      "c:\\Users\\Fabrizio\\miniconda3\\lib\\site-packages\\sklearn\\neighbors\\_classification.py:228: FutureWarning:\n",
      "\n",
      "Unlike other reduction functions (e.g. `skew`, `kurtosis`), the default behavior of `mode` typically preserves the axis it acts along. In SciPy 1.11.0, this behavior will change: the default value of `keepdims` will become False, the `axis` over which the statistic is taken will be eliminated, and the value None will no longer be accepted. Set `keepdims` to True or False to avoid this warning.\n",
      "\n",
      "c:\\Users\\Fabrizio\\miniconda3\\lib\\site-packages\\sklearn\\neighbors\\_classification.py:228: FutureWarning:\n",
      "\n",
      "Unlike other reduction functions (e.g. `skew`, `kurtosis`), the default behavior of `mode` typically preserves the axis it acts along. In SciPy 1.11.0, this behavior will change: the default value of `keepdims` will become False, the `axis` over which the statistic is taken will be eliminated, and the value None will no longer be accepted. Set `keepdims` to True or False to avoid this warning.\n",
      "\n"
     ]
    },
    {
     "name": "stdout",
     "output_type": "stream",
     "text": [
      "              precision    recall  f1-score   support\n",
      "\n",
      "           0       0.90      0.98      0.94      7952\n",
      "           1       0.52      0.18      0.26      1091\n",
      "\n",
      "    accuracy                           0.88      9043\n",
      "   macro avg       0.71      0.58      0.60      9043\n",
      "weighted avg       0.85      0.88      0.85      9043\n",
      "\n"
     ]
    }
   ],
   "source": [
    "from sklearn.neighbors import KNeighborsClassifier\n",
    "from sklearn.datasets import make_classification\n",
    "from sklearn.model_selection import train_test_split\n",
    "\n",
    "X = df_to_encode[features].values\n",
    "\n",
    "y = df['p_fijo']\n",
    "\n",
    "# Define your input features and target variable\n",
    "\n",
    "# Dividir los datos en conjunto de entrenamiento y prueba\n",
    "X_train, X_test, y_train, y_test = train_test_split(X, y, test_size=0.2, random_state=42)\n",
    "\n",
    "# Crear el modelo KNN y ajustarlo a los datos de entrenamiento\n",
    "knn = KNeighborsClassifier(n_neighbors=6)\n",
    "knn.fit(X_train, y_train)\n",
    "\n",
    "y_pred_knn = knn.predict(X_test)\n",
    "\n",
    "# Evaluar el rendimiento del modelo en los datos de prueba\n",
    "score = knn.score(X_test, y_test)\n",
    "print(classification_report(y_test,y_pred_knn))\n"
   ]
  },
  {
   "cell_type": "code",
   "execution_count": 321,
   "id": "57926f74",
   "metadata": {},
   "outputs": [
    {
     "data": {
      "image/png": "[encoded data removed]",
      "text/plain": [
       "<Figure size 500x500 with 2 Axes>"
      ]
     },
     "metadata": {},
     "output_type": "display_data"
    }
   ],
   "source": [
    "# Create the confusion matrix\n",
    "cm = confusion_matrix(y_test, y_pred_knn)\n",
    "ax,fig= plt.subplots(figsize=(5,5))\n",
    "sns.heatmap(cm, annot=True, cmap=\"Blues\", fmt=\"d\")\n",
    "\n",
    "# Add labels to the plot\n",
    "plt.xlabel(\"Predicción\")\n",
    "plt.ylabel(\"Resultados verdaderos\")\n",
    "plt.title(\"Matriz de confusión\")\n",
    "\n",
    "# Show the plot\n",
    "plt.show()"
   ]
  },
  {
   "cell_type": "code",
   "execution_count": null,
   "id": "29107028",
   "metadata": {},
   "outputs": [],
   "source": [
    "# Create the confusion matrix\n",
    "cm = confusion_matrix(y_test, y_pred_clf)\n",
    "ax,fig= plt.subplots(figsize=(5,5))\n",
    "sns.heatmap(cm, annot=True, cmap=\"Blues\", fmt=\"d\")\n",
    "\n",
    "# Add labels to the plot\n",
    "plt.xlabel(\"Predicción\")\n",
    "plt.ylabel(\"Resultados verdaderos\")\n",
    "plt.title(\"Matriz de confusión\")\n",
    "\n",
    "# Show the plot\n",
    "plt.show()"
   ]
  },
  {
   "cell_type": "code",
   "execution_count": null,
   "id": "f84ce782",
   "metadata": {},
   "outputs": [],
   "source": [
    "from sklearn import svm\n",
    "\n",
    "clf = svm.SVC(decision_function_shape='ovr')\n",
    "\n",
    "clf.fit(X_train, y_train)\n",
    "\n",
    "y_pred = clf.predict(X_test)\n",
    "\n",
    "\n",
    "scores = cross_val_score(clf, X, y, cv=2)\n",
    "\n",
    "r2 = r2_score(y_test,y_pred)\n",
    "\n",
    "accuracy = accuracy_score(y_test, y_pred)\n",
    "\n",
    "print(\"Cross-validation scores:\", scores)\n",
    "\n",
    "print(\"Mean cross-validation score:\", scores.mean())\n",
    "\n",
    "# Calculamos la matriz de confusión\n",
    "tn, fp, fn, tp = confusion_matrix(y_test, y_pred).ravel()\n",
    "\n",
    "# Calculamos las métricas de validación utilizando classification_report()\n",
    "print(classification_report(y_test, y_pred, target_names=['negative', 'positive']))\n",
    "\n",
    "# Calculamos la especificidad\n",
    "specificity = tn / (tn + fp)\n",
    "print('Especificidad:', specificity)"
   ]
  },
  {
   "cell_type": "code",
   "execution_count": null,
   "id": "68bc8d36",
   "metadata": {},
   "outputs": [],
   "source": [
    "# Create the confusion matrix\n",
    "cm = confusion_matrix(y_test, y_pred_clf)\n",
    "ax,fig= plt.subplots(figsize=(5,5))\n",
    "sns.heatmap(cm, annot=True, cmap=\"Blues\", fmt=\"d\")\n",
    "\n",
    "# Add labels to the plot\n",
    "plt.xlabel(\"Predicción\")\n",
    "plt.ylabel(\"Resultados verdaderos\")\n",
    "plt.title(\"Matriz de confusión\")\n",
    "\n",
    "# Show the plot\n",
    "plt.show()"
   ]
  },
  {
   "cell_type": "code",
   "execution_count": null,
   "id": "5b3bbfe5",
   "metadata": {},
   "outputs": [],
   "source": [
    "gnb = GaussianNB()\n",
    "y_pred_gnb = gnb.fit(X_train, y_train).predict(X_test)\n",
    " \n",
    "r2 = r2_score(y_test,y_pred_gnb)\n",
    " \n",
    "print(classification_report(y_test, y_pred_gnb),\"R2 Score:\",r2)\n",
    "\n",
    "#Ploteo de la matriz \n",
    "\n",
    "cm = confusion_matrix(y_test, y_pred_gnb)\n",
    "ax,fig= plt.subplots(figsize=(5,5))\n",
    "sns.heatmap(cm, annot=True, cmap=\"Blues\", fmt=\"d\")\n",
    "\n",
    "# Add labels to the plot\n",
    "plt.xlabel(\"Predicción\")\n",
    "plt.ylabel(\"Resultados verdaderos\")\n",
    "plt.title(\"Matriz de confusión\")\n",
    "\n",
    "# Show the plot\n",
    "plt.show()"
   ]
  },
  {
   "cell_type": "code",
   "execution_count": null,
   "id": "581fcae6",
   "metadata": {},
   "outputs": [],
   "source": [
    "model = LinearRegression()\n",
    "model.fit(X_train, y_train)\n",
    "ypred_model = model.predict(X_test)\n",
    "scores = cross_val_score(model, X, y, cv=3, scoring='r2')\n",
    "\n",
    "r2 = r2_score(y_test,ypred_model)\n",
    "\n",
    "# Imprimir los resultados de cada iteración y la media de los resultados\n",
    "print(\"Scores: \", scores)\n",
    "print(\"Mean score: \", np.mean(scores))\n",
    "print(\"R2 score:\", r2)"
   ]
  },
  {
   "cell_type": "code",
   "execution_count": null,
   "id": "20d6189c",
   "metadata": {},
   "outputs": [],
   "source": [
    "from sklearn.tree import DecisionTreeClassifier\n",
    "\n",
    "model = DecisionTreeClassifier()\n",
    "model.fit(X_train, y_train)\n",
    "ypred_model = model.predict(X_test)\n",
    "scores = cross_val_score(model, X, y, cv=3, scoring='r2')\n",
    "\n",
    "r2 = r2_score(y_test,ypred_model)\n",
    "\n",
    "# Imprimir los resultados de cada iteración y la media de los resultados\n",
    "print(\"Scores: \", scores)\n",
    "print(\"Mean score: \", np.mean(scores))\n",
    "print(\"R2 score:\", r2)"
   ]
  },
  {
   "cell_type": "code",
   "execution_count": null,
   "id": "d02d4b15",
   "metadata": {},
   "outputs": [],
   "source": [
    "from sklearn.tree import DecisionTreeRegressor\n",
    "\n",
    "model = DecisionTreeRegressor()\n",
    "model.fit(X_train, y_train)\n",
    "ypred_model = model.predict(X_test)\n",
    "scores = cross_val_score(model, X, y, cv=3, scoring='r2')\n",
    "\n",
    "r2 = r2_score(y_test,ypred_model)\n",
    "\n",
    "# Imprimir los resultados de cada iteración y la media de los resultados\n",
    "print(\"Scores: \", scores)\n",
    "print(\"Mean score: \", np.mean(scores))\n",
    "print(\"R2 score:\", r2)"
   ]
  },
  {
   "cell_type": "code",
   "execution_count": null,
   "id": "eaacad2b",
   "metadata": {},
   "outputs": [],
   "source": [
    "from sklearn.ensemble import RandomForestClassifier\n",
    "from sklearn.metrics import accuracy_score\n",
    "\n",
    "rfc = RandomForestClassifier(n_estimators=100, max_depth=2, random_state=42)\n",
    "rfc.fit(X_train, y_train)\n",
    "\n",
    "ypred_model = model.predict(X_test)\n",
    "accuracy = accuracy_score(y_test, y_pred)\n",
    "scores = cross_val_score(model, X, y, cv=3, scoring='r2')\n",
    "\n",
    "r2 = r2_score(y_test,ypred_model)\n",
    "\n",
    "# Imprimir los resultados de cada iteración y la media de los resultados\n",
    "print(\"Scores: \", scores)\n",
    "print(\"Mean score: \", np.mean(scores))\n",
    "print(\"R2 score:\", r2)\n",
    "print(\"Accuracy:\", accuracy)\n"
   ]
  },
  {
   "cell_type": "markdown",
   "id": "c34a40fa",
   "metadata": {},
   "source": [
    "El estado actual de mis modelos me da para concluir según mi interpretación, que hay un desequilibrio en los datos, donde la clase positiva (verdaderos positivos) está menos representada en comparación con la clase negativa (verdaderos negativos). Esto puede llevar a una mayor tasa de falsos positivos, lo que puede ser una consecuencia de la naturaleza del conjunto de datos. Por lo tanto, es importante ajustar los modelos para lograr un equilibrio entre la precisión y la recuperación. El valor F1 de los verdaderos positivos de 0.36 sugiere que el modelo está teniendo dificultades para detectar correctamente los verdaderos positivos, lo que indica la necesidad de ajustar los modelos y explorar estrategias para aumentar la detección de verdaderos positivos y reducir la tasa de falsos positivos.\n",
    "\n",
    "\n",
    "\n"
   ]
  }
 ],
 "metadata": {
  "kernelspec": {
   "display_name": "Python 3 (ipykernel)",
   "language": "python",
   "name": "python3"
  },
  "language_info": {
   "codemirror_mode": {
    "name": "ipython",
    "version": 3
   },
   "file_extension": ".py",
   "mimetype": "text/x-python",
   "name": "python",
   "nbconvert_exporter": "python",
   "pygments_lexer": "ipython3",
   "version": "3.9.12"
  },
  "vscode": {
   "interpreter": {
    "hash": "d992a5c64da46f24b4d86cdc7eb1ca87bbbdba152e9306ca7180f858dda2e849"
   }
  }
 },
 "nbformat": 4,
 "nbformat_minor": 5
}
